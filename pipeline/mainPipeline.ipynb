{
 "cells": [
  {
   "cell_type": "code",
   "execution_count": 1,
   "id": "available-albany",
   "metadata": {},
   "outputs": [],
   "source": [
    "import ipywidgets as widgets\n",
    "import sys\n",
    "from pathlib import Path\n",
    "import os\n",
    "import importlib\n",
    "\n",
    "\n",
    "module_path='preprocessing/day_intervals_preproc'\n",
    "if module_path not in sys.path:\n",
    "    sys.path.append(module_path)\n",
    "\n",
    "module_path='utils'\n",
    "if module_path not in sys.path:\n",
    "    sys.path.append(module_path)\n",
    "    \n",
    "module_path='preprocessing/hosp_module_preproc'\n",
    "if module_path not in sys.path:\n",
    "    sys.path.append(module_path)\n",
    "    \n",
    "module_path='model'\n",
    "if module_path not in sys.path:\n",
    "    sys.path.append(module_path)\n",
    "#print(sys.path)\n",
    "root_dir = os.path.dirname(os.path.abspath('UserInterface.ipynb'))\n",
    "data_dir = '/datasets/MIMIC-IV/physionet.org/files'\n",
    "import day_intervals_cohort\n",
    "from day_intervals_cohort import *\n",
    "\n",
    "import day_intervals_cohort_v2\n",
    "from day_intervals_cohort_v2 import *\n",
    "\n",
    "import data_generation_icu\n",
    "\n",
    "import data_generation\n",
    "import evaluation\n",
    "\n",
    "import feature_selection_hosp\n",
    "from feature_selection_hosp import *\n",
    "\n",
    "# import train\n",
    "# from train import *\n",
    "\n",
    "\n",
    "import ml_models\n",
    "from ml_models import *\n",
    "\n",
    "import dl_train\n",
    "from dl_train import *\n",
    "\n",
    "import tokenization\n",
    "from tokenization import *\n",
    "\n",
    "\n",
    "import behrt_train\n",
    "from behrt_train import *\n",
    "\n",
    "import feature_selection_icu\n",
    "from feature_selection_icu import *\n",
    "import fairness\n",
    "import callibrate_output"
   ]
  },
  {
   "cell_type": "code",
   "execution_count": 2,
   "id": "nutritional-chicago",
   "metadata": {},
   "outputs": [],
   "source": [
    "%load_ext autoreload\n",
    "%autoreload 2\n",
    "\n",
    "importlib.reload(day_intervals_cohort)\n",
    "import day_intervals_cohort\n",
    "from day_intervals_cohort import *\n",
    "\n",
    "importlib.reload(day_intervals_cohort_v2)\n",
    "import day_intervals_cohort_v2\n",
    "from day_intervals_cohort_v2 import *\n",
    "\n",
    "importlib.reload(data_generation_icu)\n",
    "import data_generation_icu\n",
    "importlib.reload(data_generation)\n",
    "import data_generation\n",
    "\n",
    "importlib.reload(feature_selection_hosp)\n",
    "import feature_selection_hosp\n",
    "from feature_selection_hosp import *\n",
    "\n",
    "importlib.reload(feature_selection_icu)\n",
    "import feature_selection_icu\n",
    "from feature_selection_icu import *\n",
    "\n",
    "importlib.reload(tokenization)\n",
    "import tokenization\n",
    "from tokenization import *\n",
    "\n",
    "importlib.reload(ml_models)\n",
    "import ml_models\n",
    "from ml_models import *\n",
    "\n",
    "importlib.reload(dl_train)\n",
    "import dl_train\n",
    "from dl_train import *\n",
    "\n",
    "importlib.reload(behrt_train)\n",
    "import behrt_train\n",
    "from behrt_train import *\n",
    "\n",
    "importlib.reload(fairness)\n",
    "import fairness\n",
    "\n",
    "importlib.reload(callibrate_output)\n",
    "import callibrate_output\n",
    "\n",
    "importlib.reload(evaluation)\n",
    "import evaluation"
   ]
  },
  {
   "cell_type": "code",
   "execution_count": 3,
   "id": "77b08a06",
   "metadata": {},
   "outputs": [],
   "source": [
    "import torch"
   ]
  },
  {
   "cell_type": "code",
   "execution_count": 4,
   "id": "6301dd52",
   "metadata": {},
   "outputs": [
    {
     "name": "stdout",
     "output_type": "stream",
     "text": [
      "cuda available\n"
     ]
    }
   ],
   "source": [
    "if torch.cuda.is_available():\n",
    "    print('cuda available')\n",
    "else:\n",
    "    print('cuda not available')"
   ]
  },
  {
   "cell_type": "markdown",
   "id": "eligible-demand",
   "metadata": {},
   "source": [
    "# Welcome to your MIMIC-IV Project"
   ]
  },
  {
   "cell_type": "markdown",
   "id": "jewish-crown",
   "metadata": {},
   "source": [
    "This repository explains the steps to download and clean MIMIC-IV dataset for analysis.\n",
    "The repository is compatible with MIMIC-IV v1.0 and MIMIC-IV v2.0\n",
    "\n",
    "Please go to:\n",
    "- https://physionet.org/content/mimiciv/1.0/ for v1.0\n",
    "- https://physionet.org/content/mimiciv/2.0/ for v2.0\n",
    "\n",
    "Follow instructions to get access to MIMIC-IV dataset.\n",
    "\n",
    "Download the files using your terminal: \n",
    "- wget -r -N -c -np --user mehakg --ask-password https://physionet.org/files/mimiciv/1.0/ or\n",
    "- wget -r -N -c -np --user mehakg --ask-password https://physionet.org/files/mimiciv/2.0/\n",
    "        \n",
    "\n",
    "Save downloaded files in the parent directory of this github repo. \n",
    "\n",
    "The structure should look like below for v1.0-\n",
    "- mimiciv/1.0/core\n",
    "- mimiciv/1.0/hosp\n",
    "- mimiciv/1.0/icu\n",
    "\n",
    "The structure should look like below for v2.0-\n",
    "- mimiciv/2.0/hosp\n",
    "- mimiciv/2.0/icu"
   ]
  },
  {
   "cell_type": "markdown",
   "id": "happy-tissue",
   "metadata": {},
   "source": [
    "## 1. DATA EXTRACTION\n",
    "Please run below cell to select option for cohort selection.\n",
    "The cohort will be svaed in **./data/cohort/**"
   ]
  },
  {
   "cell_type": "code",
   "execution_count": 5,
   "id": "structured-dimension",
   "metadata": {
    "tags": [
     "{",
     "\"tags\":",
     "[",
     "\"hide-input\"",
     "]",
     "}"
    ]
   },
   "outputs": [
    {
     "name": "stdout",
     "output_type": "stream",
     "text": [
      "Please select the approriate version of MIMIC-IV for which you have downloaded data ?\n"
     ]
    },
    {
     "data": {
      "application/vnd.jupyter.widget-view+json": {
       "model_id": "03341d6abe5748c58ba1ea2cbc758ec4",
       "version_major": 2,
       "version_minor": 0
      },
      "text/plain": [
       "RadioButtons(index=1, options=('Version 1', 'Version 2'), value='Version 2')"
      ]
     },
     "metadata": {},
     "output_type": "display_data"
    },
    {
     "name": "stdout",
     "output_type": "stream",
     "text": [
      "Please select what prediction task you want to perform ?\n"
     ]
    },
    {
     "data": {
      "application/vnd.jupyter.widget-view+json": {
       "model_id": "cc8cad51a28747ca918db234922f8f3c",
       "version_major": 2,
       "version_minor": 0
      },
      "text/plain": [
       "RadioButtons(options=('Mortality', 'Length of Stay', 'Readmission', 'Phenotype'), value='Mortality')"
      ]
     },
     "metadata": {},
     "output_type": "display_data"
    }
   ],
   "source": [
    "print(\"Please select the approriate version of MIMIC-IV for which you have downloaded data ?\")\n",
    "version = widgets.RadioButtons(options=['Version 1','Version 2'],value='Version 2')\n",
    "display(version)\n",
    "#\"\"\"\n",
    "print(\"Please select what prediction task you want to perform ?\")\n",
    "radio_input4 = widgets.RadioButtons(options=['Mortality','Length of Stay','Readmission','Phenotype'],value='Mortality')\n",
    "display(radio_input4)\n",
    "#\"\"\"\n"
   ]
  },
  {
   "cell_type": "code",
   "execution_count": 4,
   "id": "63c0e1b2",
   "metadata": {},
   "outputs": [
    {
     "data": {
      "application/vnd.jupyter.widget-view+json": {
       "model_id": "9dde5ec0972048ffb7a07c3195674498",
       "version_major": 2,
       "version_minor": 0
      },
      "text/plain": [
       "Checkbox(value=True, description='Mortality')"
      ]
     },
     "metadata": {},
     "output_type": "display_data"
    },
    {
     "data": {
      "application/vnd.jupyter.widget-view+json": {
       "model_id": "1381395c5e564266b47c8571b956c0ae",
       "version_major": 2,
       "version_minor": 0
      },
      "text/plain": [
       "Checkbox(value=True, description='Length of Stay')"
      ]
     },
     "metadata": {},
     "output_type": "display_data"
    },
    {
     "data": {
      "application/vnd.jupyter.widget-view+json": {
       "model_id": "ad25becc0743436b9b7703c5cda93918",
       "version_major": 2,
       "version_minor": 0
      },
      "text/plain": [
       "Checkbox(value=False, description='Readmission')"
      ]
     },
     "metadata": {},
     "output_type": "display_data"
    },
    {
     "data": {
      "application/vnd.jupyter.widget-view+json": {
       "model_id": "2b74383a7f474bf394d9970779fc3823",
       "version_major": 2,
       "version_minor": 0
      },
      "text/plain": [
       "Checkbox(value=False, description='Phenotype')"
      ]
     },
     "metadata": {},
     "output_type": "display_data"
    }
   ],
   "source": [
    "#\"\"\"\"\n",
    "label_input1 = widgets.Checkbox(description='Mortality', value=True)\n",
    "display(label_input1)\n",
    "label_input2 = widgets.Checkbox(description='Length of Stay', value=True)\n",
    "display(label_input2)\n",
    "label_input3 = widgets.Checkbox(description='Readmission', value=False)\n",
    "display(label_input3)\n",
    "label_input4 = widgets.Checkbox(description='Phenotype', value=False)\n",
    "display(label_input4)"
   ]
  },
  {
   "cell_type": "code",
   "execution_count": 9,
   "id": "d8ef9c4a",
   "metadata": {},
   "outputs": [
    {
     "data": {
      "application/vnd.jupyter.widget-view+json": {
       "model_id": "d33b2dd1b57a4b099dc895576bcb0f35",
       "version_major": 2,
       "version_minor": 0
      },
      "text/plain": [
       "RadioButtons(options=('Length of Stay ge 3', 'Length of Stay ge 7', 'Custom'), value='Length of Stay ge 3')"
      ]
     },
     "metadata": {},
     "output_type": "display_data"
    },
    {
     "data": {
      "application/vnd.jupyter.widget-view+json": {
       "model_id": "96c9d70196d84da688814772d7fc9502",
       "version_major": 2,
       "version_minor": 0
      },
      "text/plain": [
       "HBox(children=(Label(value='Length of stay ge (in days)', layout=Layout(width='180px')), IntSlider(value=3, co…"
      ]
     },
     "metadata": {},
     "output_type": "display_data"
    },
    {
     "data": {
      "application/vnd.jupyter.widget-view+json": {
       "model_id": "fdaf6bc03171443895ebff3a6f42b2df",
       "version_major": 2,
       "version_minor": 0
      },
      "text/plain": [
       "RadioButtons(options=('Mortality',), value='Mortality')"
      ]
     },
     "metadata": {},
     "output_type": "display_data"
    }
   ],
   "source": [
    "if label_input2.value:\n",
    "    los_bot = widgets.RadioButtons(options=['Length of Stay ge 3','Length of Stay ge 7','Custom'],value='Length of Stay ge 3')\n",
    "    display(los_bot)\n",
    "    text1=widgets.IntSlider(\n",
    "    value=3,\n",
    "    min=1,\n",
    "    max=10,\n",
    "    step=1,\n",
    "    disabled=False,\n",
    "    continuous_update=False,\n",
    "    orientation='horizontal',\n",
    "    readout=True,\n",
    "    readout_format='d'\n",
    ")\n",
    "    display(widgets.HBox([widgets.Label('Length of stay ge (in days)',layout={'width': '180px'}), text1]))\n",
    "if label_input3.value:\n",
    "    read_bot = widgets.RadioButtons(options=['30 Day Readmission','60 Day Readmission','90 Day Readmission','120 Day Readmission','Custom'],value='30 Day Readmission')\n",
    "    display(read_bot)\n",
    "    text1=widgets.IntSlider(\n",
    "    value=30,\n",
    "    min=10,\n",
    "    max=150,\n",
    "    step=10,\n",
    "    disabled=False\n",
    "    )\n",
    "    display(widgets.HBox([widgets.Label('Readmission after (in days)',layout={'width': '180px'}), text1]))\n",
    "if label_input4.value:\n",
    "    phen_bot = widgets.RadioButtons(options=['Heart Failure in 30 days','CAD in 30 days','CKD in 30 days','COPD in 30 days'],value='Heart Failure in 30 days')\n",
    "    display(phen_bot)\n",
    "if label_input1.value:\n",
    "    mor_bot = widgets.RadioButtons(options=['Mortality'],value='Mortality')\n",
    "    display(mor_bot)"
   ]
  },
  {
   "cell_type": "code",
   "execution_count": 15,
   "id": "89f9d206",
   "metadata": {},
   "outputs": [
    {
     "name": "stdout",
     "output_type": "stream",
     "text": [
      "===========MIMIC-IV v2.0============\n",
      "EXTRACTING FOR: | ICU | LENGTH OF STAY | 3 |\n",
      "[ LOS LABELS FINISHED ]\n",
      "[ COHORT SUCCESSFULLY SAVED ]\n",
      "[ SUMMARY SUCCESSFULLY SAVED ]\n",
      "Length of Stay FOR ICU DATA\n",
      "# Admission Records: 73181\n",
      "# Patients: 50920\n",
      "# Positive cases: 23252\n",
      "# Negative cases: 49929\n"
     ]
    }
   ],
   "source": [
    "disease_label=\"\"\n",
    "label='Length of Stay'\n",
    "\n",
    "\n",
    "if los_bot.value=='Custom':\n",
    "    time=text1.value\n",
    "else:\n",
    "    time=int(los_bot.value.split()[4])\n",
    "\n",
    "data_icu=radio_input1.value==\"ICU\"\n",
    "data_mort=label==\"Mortality\"\n",
    "data_admn=label=='Readmission'\n",
    "data_los=label=='Length of Stay'\n",
    "        \n",
    "\n",
    "icd_code='No Disease Filter'\n",
    "\n",
    "path_ext = \"/datasets/MIMIC-IV/physionet.org/files/\"\n",
    "version_path= path_ext + \"mimiciv/2.2\"\n",
    "cohort_los = day_intervals_cohort_v2.extract_data('ICU',label,time,icd_code, root_dir,disease_label, data_dir=data_dir, ver='2.2/')"
   ]
  },
  {
   "cell_type": "code",
   "execution_count": 17,
   "id": "e12d7319",
   "metadata": {},
   "outputs": [],
   "source": [
    "data_generation_icu.create_label(cohort_los,'label_los')"
   ]
  },
  {
   "cell_type": "markdown",
   "id": "written-syndicate",
   "metadata": {},
   "source": [
    "### Refining Cohort and Prediction Task Definition\n",
    "\n",
    "Based on your current selection following block will provide option to further refine prediction task and cohort associated with it:\n",
    "\n",
    "- First you will refine the prediction task choosing from following options -\n",
    "    - **length of Stay** - You can select from two predefined options or enter custom number of days to predict length os stay greater than number of days.\n",
    "\n",
    "    - **Readmission** - You can select from two predefined options or enter custom number of days to predict readmission after \"number of days\" after previous admission.\n",
    "\n",
    "    - **Phenotype Prediction** - You can select from four major chronic diseases to predict its future outcome\n",
    "\n",
    "        - Heart failure\n",
    "        - CAD (Coronary Artery Disease)\n",
    "        - CKD (Chronic Kidney Disease)\n",
    "        - COPD (Chronic obstructive pulmonary disease)\n",
    "\n",
    "- Second, you will choode whether to perfom above task using ICU or non-ICU admissions data\n",
    "\n",
    "- Third, you can refine the refine the cohort selection for any of the above choosen prediction tasks by including the admission samples admitted with particular chronic disease - \n",
    "    - Heart failure\n",
    "    - CAD (Coronary Artery Disease)\n",
    "    - CKD (Chronic Kidney Disease)\n",
    "    - COPD (Chronic obstructive pulmonary disease)\n",
    "    \n",
    "print(\"**Please run below cell to extract the cohort for selected options**\")"
   ]
  },
  {
   "cell_type": "code",
   "execution_count": 10,
   "id": "broke-spirituality",
   "metadata": {},
   "outputs": [
    {
     "name": "stdout",
     "output_type": "stream",
     "text": [
      "Extract Data\n",
      "Please select below if you want to work with ICU or Non-ICU data ?\n"
     ]
    },
    {
     "data": {
      "application/vnd.jupyter.widget-view+json": {
       "model_id": "e13ef78f7f794f22b16d06f4d72c877f",
       "version_major": 2,
       "version_minor": 0
      },
      "text/plain": [
       "RadioButtons(options=('ICU', 'Non-ICU'), value='ICU')"
      ]
     },
     "metadata": {},
     "output_type": "display_data"
    },
    {
     "name": "stdout",
     "output_type": "stream",
     "text": [
      "Please select if you want to perform choosen prediction task for a specific disease.\n"
     ]
    },
    {
     "data": {
      "application/vnd.jupyter.widget-view+json": {
       "model_id": "9814708e5a424f96914df2a6976b3683",
       "version_major": 2,
       "version_minor": 0
      },
      "text/plain": [
       "RadioButtons(options=('No Disease Filter', 'Heart Failure', 'CKD', 'CAD', 'COPD'), value='No Disease Filter')"
      ]
     },
     "metadata": {},
     "output_type": "display_data"
    }
   ],
   "source": [
    "#\"\"\"\n",
    "if radio_input4.value=='Length of Stay':\n",
    "    radio_input2 = widgets.RadioButtons(options=['Length of Stay ge 3','Length of Stay ge 7','Custom'],value='Length of Stay ge 3')\n",
    "    display(radio_input2)\n",
    "    text1=widgets.IntSlider(\n",
    "    value=3,\n",
    "    min=1,\n",
    "    max=10,\n",
    "    step=1,\n",
    "    disabled=False,\n",
    "    continuous_update=False,\n",
    "    orientation='horizontal',\n",
    "    readout=True,\n",
    "    readout_format='d'\n",
    ")\n",
    "    display(widgets.HBox([widgets.Label('Length of stay ge (in days)',layout={'width': '180px'}), text1]))\n",
    "elif radio_input4.value=='Readmission':\n",
    "    radio_input2 = widgets.RadioButtons(options=['30 Day Readmission','60 Day Readmission','90 Day Readmission','120 Day Readmission','Custom'],value='30 Day Readmission')\n",
    "    display(radio_input2)\n",
    "    text1=widgets.IntSlider(\n",
    "    value=30,\n",
    "    min=10,\n",
    "    max=150,\n",
    "    step=10,\n",
    "    disabled=False\n",
    "    )\n",
    "    display(widgets.HBox([widgets.Label('Readmission after (in days)',layout={'width': '180px'}), text1]))\n",
    "elif radio_input4.value=='Phenotype':\n",
    "    radio_input2 = widgets.RadioButtons(options=['Heart Failure in 30 days','CAD in 30 days','CKD in 30 days','COPD in 30 days'],value='Heart Failure in 30 days')\n",
    "    display(radio_input2)\n",
    "elif radio_input4.value=='Mortality':\n",
    "    radio_input2 = widgets.RadioButtons(options=['Mortality'],value='Mortality')\n",
    "    #display(radio_input2)\n",
    "#\"\"\"\n",
    "\n",
    "print(\"Extract Data\")\n",
    "print(\"Please select below if you want to work with ICU or Non-ICU data ?\")\n",
    "radio_input1 = widgets.RadioButtons(options=['ICU', 'Non-ICU'],value='ICU')\n",
    "display(radio_input1)\n",
    "\n",
    "print(\"Please select if you want to perform choosen prediction task for a specific disease.\")\n",
    "radio_input3 = widgets.RadioButtons(options=['No Disease Filter','Heart Failure','CKD','CAD','COPD'],value='No Disease Filter')\n",
    "display(radio_input3)"
   ]
  },
  {
   "cell_type": "code",
   "execution_count": 11,
   "id": "republican-freight",
   "metadata": {},
   "outputs": [
    {
     "name": "stdout",
     "output_type": "stream",
     "text": [
      "===========MIMIC-IV v2.0============\n",
      "EXTRACTING FOR: | ICU | MORTALITY | 0 |\n",
      "[ MORTALITY LABELS FINISHED ]\n",
      "[ COHORT SUCCESSFULLY SAVED ]\n",
      "[ SUMMARY SUCCESSFULLY SAVED ]\n",
      "Mortality FOR ICU DATA\n",
      "# Admission Records: 73181\n",
      "# Patients: 50920\n",
      "# Positive cases: 4889\n",
      "# Negative cases: 68292\n"
     ]
    }
   ],
   "source": [
    "disease_label=\"\"\n",
    "time=0\n",
    "label=radio_input4.value\n",
    "\n",
    "if label=='Readmission':\n",
    "    if radio_input2.value=='Custom':\n",
    "        time=text1.value\n",
    "    else:\n",
    "        time=int(radio_input2.value.split()[0])\n",
    "elif label=='Length of Stay':\n",
    "    if radio_input2.value=='Custom':\n",
    "        time=text1.value\n",
    "    else:\n",
    "        time=int(radio_input2.value.split()[4])\n",
    "\n",
    "if label=='Phenotype':    \n",
    "    if radio_input2.value=='Heart Failure in 30 days':\n",
    "        label='Readmission'\n",
    "        time=30\n",
    "        disease_label='I50'\n",
    "    elif radio_input2.value=='CAD in 30 days':\n",
    "        label='Readmission'\n",
    "        time=30\n",
    "        disease_label='I25'\n",
    "    elif radio_input2.value=='CKD in 30 days':\n",
    "        label='Readmission'\n",
    "        time=30\n",
    "        disease_label='N18'\n",
    "    elif radio_input2.value=='COPD in 30 days':\n",
    "        label='Readmission'\n",
    "        time=30\n",
    "        disease_label='J44'\n",
    "    \n",
    "data_icu=radio_input1.value==\"ICU\"\n",
    "data_mort=label==\"Mortality\"\n",
    "data_admn=label=='Readmission'\n",
    "data_los=label=='Length of Stay'\n",
    "        \n",
    "\n",
    "if (radio_input3.value==\"Heart Failure\"):\n",
    "    icd_code='I50'\n",
    "elif (radio_input3.value==\"CKD\"):\n",
    "    icd_code='N18'\n",
    "elif (radio_input3.value==\"COPD\"):\n",
    "    icd_code='J44'\n",
    "elif (radio_input3.value==\"CAD\"):\n",
    "    icd_code='I25'\n",
    "else:\n",
    "    icd_code='No Disease Filter'\n",
    "\n",
    "path_ext = \"/datasets/MIMIC-IV/physionet.org/files/\"\n",
    "if version.value=='Version 1':\n",
    "    version_path=\"mimiciv/1.0\"\n",
    "    cohort_output = day_intervals_cohort.extract_data(radio_input1.value,label,time,icd_code, root_dir,disease_label)\n",
    "elif version.value=='Version 2':\n",
    "    version_path= path_ext + \"mimiciv/2.2\"\n",
    "    cohort_output = day_intervals_cohort_v2.extract_data(radio_input1.value,label,time,icd_code, root_dir,disease_label, data_dir=data_dir, ver='2.2/')"
   ]
  },
  {
   "cell_type": "markdown",
   "id": "interstate-stadium",
   "metadata": {},
   "source": [
    "## 2. FEATURE SELECTION\n",
    "Features available for ICU data -\n",
    "- Diagnosis (https://mimic.mit.edu/docs/iv/modules/hosp/diagnoses_icd/)\n",
    "- Procedures (https://mimic.mit.edu/docs/iv/modules/icu/procedureevents/)\n",
    "- Medications (https://mimic.mit.edu/docs/iv/modules/icu/inputevents/)\n",
    "- Output Events (https://mimic.mit.edu/docs/iv/modules/icu/outputevents/)\n",
    "- Chart Events (https://mimic.mit.edu/docs/iv/modules/icu/chartevents/)\n",
    "\n",
    "Features available for ICU data -\n",
    "- Diagnosis (https://mimic.mit.edu/docs/iv/modules/hosp/diagnoses_icd/)\n",
    "- Procedures (https://mimic.mit.edu/docs/iv/modules/hosp/procedures_icd/)\n",
    "- Medications (https://mimic.mit.edu/docs/iv/modules/hosp/prescriptions/)\n",
    "- Lab Events (https://mimic.mit.edu/docs/iv/modules/hosp/labevents/)\n",
    "\n",
    "All features will be saved in **./data/features/**\n",
    "\n",
    "**Please run below cell to select features**"
   ]
  },
  {
   "cell_type": "code",
   "execution_count": 20,
   "id": "raised-olympus",
   "metadata": {},
   "outputs": [
    {
     "name": "stdout",
     "output_type": "stream",
     "text": [
      "Feature Selection\n",
      "Which Features you want to include for cohort?\n"
     ]
    },
    {
     "data": {
      "application/vnd.jupyter.widget-view+json": {
       "model_id": "e62d4416e2cb4dd8b5b3b53c28e10e3b",
       "version_major": 2,
       "version_minor": 0
      },
      "text/plain": [
       "Checkbox(value=True, description='Diagnosis')"
      ]
     },
     "metadata": {},
     "output_type": "display_data"
    },
    {
     "data": {
      "application/vnd.jupyter.widget-view+json": {
       "model_id": "4b5994289a804d94b78f00ca9f3a4c34",
       "version_major": 2,
       "version_minor": 0
      },
      "text/plain": [
       "Checkbox(value=True, description='Output Events')"
      ]
     },
     "metadata": {},
     "output_type": "display_data"
    },
    {
     "data": {
      "application/vnd.jupyter.widget-view+json": {
       "model_id": "bc43669586b5487ca7875eb83b88e8be",
       "version_major": 2,
       "version_minor": 0
      },
      "text/plain": [
       "Checkbox(value=True, description='Chart Events(Labs and Vitals)')"
      ]
     },
     "metadata": {},
     "output_type": "display_data"
    },
    {
     "data": {
      "application/vnd.jupyter.widget-view+json": {
       "model_id": "31dfe2cf59864a669abdc0e2f0885934",
       "version_major": 2,
       "version_minor": 0
      },
      "text/plain": [
       "Checkbox(value=True, description='Procedures')"
      ]
     },
     "metadata": {},
     "output_type": "display_data"
    },
    {
     "data": {
      "application/vnd.jupyter.widget-view+json": {
       "model_id": "963a8276bcfa42478e81fa21542523e5",
       "version_major": 2,
       "version_minor": 0
      },
      "text/plain": [
       "Checkbox(value=True, description='Medications')"
      ]
     },
     "metadata": {},
     "output_type": "display_data"
    },
    {
     "name": "stdout",
     "output_type": "stream",
     "text": [
      "**Please run below cell to extract selected features**\n"
     ]
    }
   ],
   "source": [
    "print(\"Feature Selection\")\n",
    "if data_icu:\n",
    "    print(\"Which Features you want to include for cohort?\")\n",
    "    check_input1 = widgets.Checkbox(description='Diagnosis', value=True)\n",
    "    display(check_input1)\n",
    "    check_input2 = widgets.Checkbox(description='Output Events', value=True)\n",
    "    display(check_input2)\n",
    "    check_input3 = widgets.Checkbox(description='Chart Events(Labs and Vitals)', value=True)\n",
    "    display(check_input3)\n",
    "    check_input4 = widgets.Checkbox(description='Procedures', value=True)\n",
    "    display(check_input4)\n",
    "    check_input5 = widgets.Checkbox(description='Medications', value=True)\n",
    "    display(check_input5)\n",
    "else:\n",
    "    print(\"Which Features you want to include for cohort?\")\n",
    "    check_input1 = widgets.Checkbox(description='Diagnosis')\n",
    "    display(check_input1)\n",
    "    check_input2 = widgets.Checkbox(description='Labs')\n",
    "    display(check_input2)\n",
    "    check_input3 = widgets.Checkbox(description='Procedures')\n",
    "    display(check_input3)\n",
    "    check_input4 = widgets.Checkbox(description='Medications')\n",
    "    display(check_input4)\n",
    "print(\"**Please run below cell to extract selected features**\")"
   ]
  },
  {
   "cell_type": "code",
   "execution_count": 25,
   "id": "6f488bed",
   "metadata": {},
   "outputs": [],
   "source": [
    "diag_flag=check_input1.value\n",
    "out_flag=check_input2.value\n",
    "chart_flag=check_input3.value\n",
    "proc_flag=check_input4.value\n",
    "med_flag=check_input5.value"
   ]
  },
  {
   "cell_type": "code",
   "execution_count": 41,
   "id": "native-covering",
   "metadata": {
    "scrolled": true
   },
   "outputs": [
    {
     "name": "stdout",
     "output_type": "stream",
     "text": [
      "[EXTRACTING DIAGNOSIS DATA]\n",
      "# unique ICD-9 codes 6610\n",
      "# unique ICD-10 codes 9978\n",
      "# unique ICD-10 codes (After converting ICD-9 to ICD-10) 10270\n",
      "# unique ICD-10 codes (After clinical gruping ICD-10 codes) 1520\n",
      "# Admissions:   73159\n",
      "Total rows 1297458\n",
      "[SUCCESSFULLY SAVED DIAGNOSIS DATA]\n",
      "[EXTRACTING OUPTPUT EVENTS DATA]\n",
      "# Unique Events:   71\n",
      "# Admissions:   71111\n",
      "Total rows 4234967\n",
      "[SUCCESSFULLY SAVED OUPTPUT EVENTS DATA]\n",
      "[EXTRACTING CHART EVENTS DATA]\n"
     ]
    },
    {
     "name": "stderr",
     "output_type": "stream",
     "text": [
      "32it [07:29, 14.03s/it]\n"
     ]
    },
    {
     "name": "stdout",
     "output_type": "stream",
     "text": [
      "# Unique Events:   454\n",
      "# Admissions:   73173\n",
      "Total rows 76942772\n",
      "[SUCCESSFULLY SAVED CHART EVENTS DATA]\n",
      "[EXTRACTING PROCEDURES DATA]\n",
      "# Unique Events:   157\n",
      "# Admissions:   72711\n",
      "Total rows 678994\n",
      "[SUCCESSFULLY SAVED PROCEDURES DATA]\n",
      "[EXTRACTING MEDICATIONS DATA]\n",
      "# of unique type of drug:  195\n",
      "# Admissions:   68945\n",
      "# Total rows 4820051\n",
      "[SUCCESSFULLY SAVED MEDICATIONS DATA]\n"
     ]
    }
   ],
   "source": [
    "if data_icu:\n",
    "    diag_flag=check_input1.value\n",
    "    out_flag=check_input2.value\n",
    "    chart_flag=check_input3.value\n",
    "    proc_flag=check_input4.value\n",
    "    med_flag=check_input5.value\n",
    "    feature_icu(cohort_output, version_path,diag_flag,out_flag,chart_flag,proc_flag,med_flag)\n",
    "else:\n",
    "    diag_flag=check_input1.value\n",
    "    lab_flag=check_input2.value\n",
    "    proc_flag=check_input3.value\n",
    "    med_flag=check_input4.value\n",
    "    feature_nonicu(cohort_output, version_path,diag_flag,lab_flag,proc_flag,med_flag)"
   ]
  },
  {
   "cell_type": "markdown",
   "id": "aboriginal-upset",
   "metadata": {},
   "source": [
    "## 3. CLINICAL GROUPING\n",
    "Below you will have option to clinically group diagnosis and medications.\n",
    "Grouping medical codes will reduce dimensional space of features.\n",
    "\n",
    "Default options selected below will group medical codes to reduce feature dimension space.\n",
    "\n",
    "**Please run below cell to select preprocessing for diferent features**"
   ]
  },
  {
   "cell_type": "code",
   "execution_count": 10,
   "id": "partial-manhattan",
   "metadata": {},
   "outputs": [
    {
     "name": "stdout",
     "output_type": "stream",
     "text": [
      "Do you want to group ICD 10 DIAG codes ?\n"
     ]
    },
    {
     "data": {
      "application/vnd.jupyter.widget-view+json": {
       "model_id": "a9ca3467450b4fa39db1415ad3c9e34a",
       "version_major": 2,
       "version_minor": 0
      },
      "text/plain": [
       "RadioButtons(index=2, layout=Layout(width='100%'), options=('Keep both ICD-9 and ICD-10 codes', 'Convert ICD-9…"
      ]
     },
     "metadata": {},
     "output_type": "display_data"
    },
    {
     "name": "stdout",
     "output_type": "stream",
     "text": [
      "**Please run below cell to perform feature preprocessing**\n"
     ]
    }
   ],
   "source": [
    "if data_icu:\n",
    "    if diag_flag:\n",
    "        print(\"Do you want to group ICD 10 DIAG codes ?\")\n",
    "        radio_input4 = widgets.RadioButtons(options=['Keep both ICD-9 and ICD-10 codes','Convert ICD-9 to ICD-10 codes','Convert ICD-9 to ICD-10 and group ICD-10 codes'],value='Convert ICD-9 to ICD-10 and group ICD-10 codes',layout={'width': '100%'})\n",
    "        display(radio_input4)   \n",
    "    \n",
    "else:\n",
    "    if diag_flag:\n",
    "        print(\"Do you want to group ICD 10 DIAG codes ?\")\n",
    "        radio_input4 = widgets.RadioButtons(options=['Keep both ICD-9 and ICD-10 codes','Convert ICD-9 to ICD-10 codes','Convert ICD-9 to ICD-10 and group ICD-10 codes'],value='Convert ICD-9 to ICD-10 and group ICD-10 codes',layout={'width': '100%'})\n",
    "        display(radio_input4)     \n",
    "    if med_flag:\n",
    "        print(\"Do you want to group Medication codes to use Non propietary names?\")\n",
    "        radio_input5 = widgets.RadioButtons(options=['Yes','No'],value='Yes',layout={'width': '100%'})\n",
    "        display(radio_input5)\n",
    "    if proc_flag:\n",
    "        print(\"Which ICD codes for Procedures you want to keep in data?\")\n",
    "        radio_input6 = widgets.RadioButtons(options=['ICD-9 and ICD-10','ICD-10'],value='ICD-10',layout={'width': '100%'})\n",
    "        display(radio_input6)\n",
    "print(\"**Please run below cell to perform feature preprocessing**\")"
   ]
  },
  {
   "cell_type": "code",
   "execution_count": 11,
   "id": "descending-symphony",
   "metadata": {},
   "outputs": [
    {
     "name": "stdout",
     "output_type": "stream",
     "text": [
      "[PROCESSING DIAGNOSIS DATA]\n",
      "Total number of rows 1228579\n",
      "[SUCCESSFULLY SAVED DIAGNOSIS DATA]\n"
     ]
    }
   ],
   "source": [
    "group_diag=False\n",
    "group_med=False\n",
    "group_proc=False\n",
    "if data_icu:\n",
    "    if diag_flag:\n",
    "        group_diag=radio_input4.value\n",
    "    preprocess_features_icu(cohort_output, diag_flag, group_diag,False,False,False,0,0)\n",
    "else:\n",
    "    if diag_flag:\n",
    "        group_diag=radio_input4.value\n",
    "    if med_flag:\n",
    "        group_med=radio_input5.value\n",
    "    if proc_flag:\n",
    "        group_proc=radio_input6.value\n",
    "    preprocess_features_hosp(cohort_output, diag_flag,proc_flag,med_flag,False,group_diag,group_med,group_proc,False,False,0,0)"
   ]
  },
  {
   "cell_type": "markdown",
   "id": "immediate-captain",
   "metadata": {},
   "source": [
    "### 4. SUMMARY OF FEATURES\n",
    "\n",
    "This step will generate summary of all features extracted so far.<br>\n",
    "It will save summary files in **./data/summary/**<br>\n",
    "- These files provide summary about **mean frequency** of medical codes per admission.<br>\n",
    "- It also provides **total occurrence count** of each medical code.<br>\n",
    "- For labs and chart events it will also provide <br>**missing %** which tells how many rows for a certain medical code has missing value.\n",
    "\n",
    "Please use this information to further refine your cohort by selecting <br>which medical codes in each feature you want to keep and <br>which codes you would like to remove for downstream analysis tasks.\n",
    "\n",
    "**Please run below cell to generate summary files**"
   ]
  },
  {
   "cell_type": "code",
   "execution_count": 12,
   "id": "thick-residence",
   "metadata": {},
   "outputs": [
    {
     "name": "stdout",
     "output_type": "stream",
     "text": [
      "[GENERATING FEATURE SUMMARY]\n",
      "[SUCCESSFULLY SAVED FEATURE SUMMARY]\n"
     ]
    }
   ],
   "source": [
    "if data_icu:\n",
    "    generate_summary_icu(diag_flag,proc_flag,med_flag,out_flag,chart_flag)\n",
    "else:\n",
    "    generate_summary_hosp(diag_flag,proc_flag,med_flag,lab_flag)"
   ]
  },
  {
   "cell_type": "markdown",
   "id": "northern-architecture",
   "metadata": {},
   "source": [
    "## 5. Feature Selection\n",
    "\n",
    "based on the files generated in previous step and other infromation gathered by you,<br>\n",
    "Please select which medical codes you want to include in this study.\n",
    "\n",
    "Please run below cell to to select options for which features you want to perform feature selection.\n",
    "\n",
    "- Select **Yes** if you want to select a subset of medical codes for that feature and<br> **edit** the corresponding feature file for it.\n",
    "- Select **No** if you want to keep all the codes in a feature."
   ]
  },
  {
   "cell_type": "code",
   "execution_count": 13,
   "id": "immediate-seafood",
   "metadata": {},
   "outputs": [
    {
     "name": "stdout",
     "output_type": "stream",
     "text": [
      "Do you want to do Feature Selection for Diagnosis \n",
      " (If yes, please edit list of codes in ./data/summary/diag_features.csv)\n"
     ]
    },
    {
     "data": {
      "application/vnd.jupyter.widget-view+json": {
       "model_id": "c07718ae141a4494a6172fcdb546fbe9",
       "version_major": 2,
       "version_minor": 0
      },
      "text/plain": [
       "RadioButtons(index=1, options=('Yes', 'No'), value='No')"
      ]
     },
     "metadata": {},
     "output_type": "display_data"
    },
    {
     "name": "stdout",
     "output_type": "stream",
     "text": [
      "Do you want to do Feature Selection for Medication \n",
      " (If yes, please edit list of codes in ./data/summary/med_features.csv)\n"
     ]
    },
    {
     "data": {
      "application/vnd.jupyter.widget-view+json": {
       "model_id": "adaa6fcbc90d47fc8d710f8b3f024f37",
       "version_major": 2,
       "version_minor": 0
      },
      "text/plain": [
       "RadioButtons(index=1, options=('Yes', 'No'), value='No')"
      ]
     },
     "metadata": {},
     "output_type": "display_data"
    },
    {
     "name": "stdout",
     "output_type": "stream",
     "text": [
      "Do you want to do Feature Selection for Procedures \n",
      " (If yes, please edit list of codes in ./data/summary/proc_features.csv)\n"
     ]
    },
    {
     "data": {
      "application/vnd.jupyter.widget-view+json": {
       "model_id": "17933925545e4204adae78cd57f57a34",
       "version_major": 2,
       "version_minor": 0
      },
      "text/plain": [
       "RadioButtons(index=1, options=('Yes', 'No'), value='No')"
      ]
     },
     "metadata": {},
     "output_type": "display_data"
    },
    {
     "name": "stdout",
     "output_type": "stream",
     "text": [
      "Do you want to do Feature Selection for Output event \n",
      " (If yes, please edit list of codes in ./data/summary/out_features.csv)\n"
     ]
    },
    {
     "data": {
      "application/vnd.jupyter.widget-view+json": {
       "model_id": "034e1531683e49c4aaf076fd6d3b5bae",
       "version_major": 2,
       "version_minor": 0
      },
      "text/plain": [
       "RadioButtons(index=1, options=('Yes', 'No'), value='No')"
      ]
     },
     "metadata": {},
     "output_type": "display_data"
    },
    {
     "name": "stdout",
     "output_type": "stream",
     "text": [
      "Do you want to do Feature Selection for Chart events \n",
      " (If yes, please edit list of codes in ./data/summary/chart_features.csv)\n"
     ]
    },
    {
     "data": {
      "application/vnd.jupyter.widget-view+json": {
       "model_id": "48b8932cd1e2418eb4e0191c26c3c8fd",
       "version_major": 2,
       "version_minor": 0
      },
      "text/plain": [
       "RadioButtons(index=1, options=('Yes', 'No'), value='No')"
      ]
     },
     "metadata": {},
     "output_type": "display_data"
    },
    {
     "name": "stdout",
     "output_type": "stream",
     "text": [
      "**Please run below cell to perform feature selection**\n"
     ]
    }
   ],
   "source": [
    "if data_icu:\n",
    "    if diag_flag:\n",
    "        print(\"Do you want to do Feature Selection for Diagnosis \\n (If yes, please edit list of codes in ./data/summary/diag_features.csv)\")\n",
    "        radio_input4 = widgets.RadioButtons(options=['Yes','No'],value='No')\n",
    "        display(radio_input4)       \n",
    "    if med_flag:\n",
    "        print(\"Do you want to do Feature Selection for Medication \\n (If yes, please edit list of codes in ./data/summary/med_features.csv)\")\n",
    "        radio_input5 = widgets.RadioButtons(options=['Yes','No'],value='No')\n",
    "        display(radio_input5)   \n",
    "    if proc_flag:\n",
    "        print(\"Do you want to do Feature Selection for Procedures \\n (If yes, please edit list of codes in ./data/summary/proc_features.csv)\")\n",
    "        radio_input6 = widgets.RadioButtons(options=['Yes','No'],value='No')\n",
    "        display(radio_input6)   \n",
    "    if out_flag:\n",
    "        print(\"Do you want to do Feature Selection for Output event \\n (If yes, please edit list of codes in ./data/summary/out_features.csv)\")\n",
    "        radio_input7 = widgets.RadioButtons(options=['Yes','No'],value='No')\n",
    "        display(radio_input7)  \n",
    "    if chart_flag:\n",
    "        print(\"Do you want to do Feature Selection for Chart events \\n (If yes, please edit list of codes in ./data/summary/chart_features.csv)\")\n",
    "        radio_input8 = widgets.RadioButtons(options=['Yes','No'],value='No')\n",
    "        display(radio_input8)  \n",
    "else:\n",
    "    if diag_flag:\n",
    "        print(\"Do you want to do Feature Selection for Diagnosis \\n (If yes, please edit list of codes in ./data/summary/diag_features.csv)\")\n",
    "        radio_input4 = widgets.RadioButtons(options=['Yes','No'],value='No')\n",
    "        display(radio_input4)         \n",
    "    if med_flag:\n",
    "        print(\"Do you want to do Feature Selection for Medication \\n (If yes, please edit list of codes in ./data/summary/med_features.csv)\")\n",
    "        radio_input5 = widgets.RadioButtons(options=['Yes','No'],value='No')\n",
    "        display(radio_input5)   \n",
    "    if proc_flag:\n",
    "        print(\"Do you want to do Feature Selection for Procedures \\n (If yes, please edit list of codes in ./data/summary/proc_features.csv)\")\n",
    "        radio_input6 = widgets.RadioButtons(options=['Yes','No'],value='No')\n",
    "        display(radio_input6)   \n",
    "    if lab_flag:\n",
    "        print(\"Do you want to do Feature Selection for Labs \\n (If yes, please edit list of codes in ./data/summary/lab_features.csv)\")\n",
    "        radio_input7 = widgets.RadioButtons(options=['Yes','No'],value='No')\n",
    "        display(radio_input7)   \n",
    "print(\"**Please run below cell to perform feature selection**\")"
   ]
  },
  {
   "cell_type": "code",
   "execution_count": 14,
   "id": "perceived-python",
   "metadata": {},
   "outputs": [],
   "source": [
    "select_diag=False\n",
    "select_med=False\n",
    "select_proc=False\n",
    "select_lab=False\n",
    "select_out=False\n",
    "select_chart=False\n",
    "\n",
    "if data_icu:\n",
    "    if diag_flag:\n",
    "        select_diag=radio_input4.value == 'Yes'\n",
    "    if med_flag:\n",
    "        select_med=radio_input5.value == 'Yes'\n",
    "    if proc_flag:\n",
    "        select_proc=radio_input6.value == 'Yes'\n",
    "    if out_flag:\n",
    "        select_out=radio_input7.value == 'Yes'\n",
    "    if chart_flag:\n",
    "        select_chart=radio_input8.value == 'Yes'\n",
    "    features_selection_icu(cohort_output, diag_flag,proc_flag,med_flag,out_flag, chart_flag,select_diag,select_med,select_proc,select_out,select_chart)\n",
    "else:\n",
    "    if diag_flag:\n",
    "        select_diag=radio_input4.value == 'Yes'\n",
    "    if med_flag:\n",
    "        select_med=radio_input5.value == 'Yes'\n",
    "    if proc_flag:\n",
    "        select_proc=radio_input6.value == 'Yes'\n",
    "    if lab_flag:\n",
    "        select_lab=radio_input7.value == 'Yes'\n",
    "    features_selection_hosp(cohort_output, diag_flag,proc_flag,med_flag,lab_flag,select_diag,select_med,select_proc,select_lab)"
   ]
  },
  {
   "cell_type": "markdown",
   "id": "comfortable-director",
   "metadata": {},
   "source": [
    "## 6. CLEANING OF FEATURES\n",
    "Below you will have option to to clean lab and chart events by performing outlier removal and unit conversion.\n",
    "\n",
    "Outlier removal is performed to remove values higher than selected **right threshold** percentile and lower than selected **left threshold** percentile among all values for each itemid. \n",
    "\n",
    "**Please run below cell to select preprocessing for diferent features**"
   ]
  },
  {
   "cell_type": "code",
   "execution_count": 15,
   "id": "moderate-forum",
   "metadata": {},
   "outputs": [
    {
     "name": "stdout",
     "output_type": "stream",
     "text": [
      "Outlier removal in values of chart events ?\n"
     ]
    },
    {
     "data": {
      "application/vnd.jupyter.widget-view+json": {
       "model_id": "ae08bb5642ee42c28ad4ddf5471bf8c8",
       "version_major": 2,
       "version_minor": 0
      },
      "text/plain": [
       "RadioButtons(layout=Layout(height='40px', width='100%'), options=('No outlier detection', 'Impute Outlier (def…"
      ]
     },
     "metadata": {},
     "output_type": "display_data"
    },
    {
     "data": {
      "application/vnd.jupyter.widget-view+json": {
       "model_id": "934857287f86420ab715e0650836ab64",
       "version_major": 2,
       "version_minor": 0
      },
      "text/plain": [
       "HBox(children=(Label(value='Right Outlier Threshold', layout=Layout(width='150px')), IntSlider(value=98, layou…"
      ]
     },
     "metadata": {},
     "output_type": "display_data"
    },
    {
     "data": {
      "application/vnd.jupyter.widget-view+json": {
       "model_id": "7210a88f47b54f598b03ea4c50542eb2",
       "version_major": 2,
       "version_minor": 0
      },
      "text/plain": [
       "HBox(children=(Label(value='Left Outlier Threshold', layout=Layout(width='150px')), IntSlider(value=0, layout=…"
      ]
     },
     "metadata": {},
     "output_type": "display_data"
    },
    {
     "name": "stdout",
     "output_type": "stream",
     "text": [
      "**Please run below cell to perform feature preprocessing**\n"
     ]
    }
   ],
   "source": [
    "if data_icu:\n",
    "    if chart_flag:\n",
    "        print(\"Outlier removal in values of chart events ?\")\n",
    "        layout = widgets.Layout(width='100%', height='40px') #set width and height\n",
    "\n",
    "        radio_input5 = widgets.RadioButtons(options=['No outlier detection','Impute Outlier (default:98)','Remove outliers (default:98)'],value='No outlier detection',layout=layout)\n",
    "        display(radio_input5)\n",
    "        outlier=widgets.IntSlider(\n",
    "        value=98,\n",
    "        min=90,\n",
    "        max=99,\n",
    "        step=1,\n",
    "        disabled=False,layout={'width': '100%'}\n",
    "        )\n",
    "        left_outlier=widgets.IntSlider(\n",
    "        value=0,\n",
    "        min=0,\n",
    "        max=10,\n",
    "        step=1,\n",
    "        disabled=False,layout={'width': '100%'}\n",
    "        )\n",
    "        #display(oulier)\n",
    "        display(widgets.HBox([widgets.Label('Right Outlier Threshold',layout={'width': '150px'}), outlier]))\n",
    "        display(widgets.HBox([widgets.Label('Left Outlier Threshold',layout={'width': '150px'}), left_outlier]))\n",
    "    \n",
    "else:      \n",
    "    if lab_flag:\n",
    "        print(\"Outlier removal in values of lab events ?\")\n",
    "        layout = widgets.Layout(width='100%', height='40px') #set width and height\n",
    "\n",
    "        radio_input7 = widgets.RadioButtons(options=['No outlier detection','Impute Outlier (default:98)','Remove outliers (default:98)'],value='No outlier detection',layout=layout)\n",
    "        display(radio_input7)\n",
    "        outlier=widgets.IntSlider(\n",
    "        value=98,\n",
    "        min=90,\n",
    "        max=99,\n",
    "        step=1,\n",
    "        disabled=False,layout={'width': '100%'}\n",
    "        )\n",
    "        left_outlier=widgets.IntSlider(\n",
    "        value=0,\n",
    "        min=0,\n",
    "        max=10,\n",
    "        step=1,\n",
    "        disabled=False,layout={'width': '100%'}\n",
    "        )\n",
    "        #display(oulier)\n",
    "        display(widgets.HBox([widgets.Label('Right Outlier Threshold',layout={'width': '150px'}), outlier]))\n",
    "        display(widgets.HBox([widgets.Label('Left Outlier Threshold',layout={'width': '150px'}), left_outlier]))\n",
    "print(\"**Please run below cell to perform feature preprocessing**\")"
   ]
  },
  {
   "cell_type": "code",
   "execution_count": 16,
   "id": "impossible-mailman",
   "metadata": {},
   "outputs": [],
   "source": [
    "thresh=0\n",
    "if data_icu:\n",
    "    if chart_flag:\n",
    "        clean_chart=radio_input5.value!='No outlier detection'\n",
    "        impute_outlier_chart=radio_input5.value=='Impute Outlier (default:98)'\n",
    "        thresh=outlier.value\n",
    "        left_thresh=left_outlier.value\n",
    "    preprocess_features_icu(cohort_output, False, False,chart_flag,clean_chart,impute_outlier_chart,thresh,left_thresh)\n",
    "else:\n",
    "    if lab_flag:\n",
    "        clean_lab=radio_input7.value!='No outlier detection'\n",
    "        impute_outlier=radio_input7.value=='Impute Outlier (default:98)'\n",
    "        thresh=outlier.value\n",
    "        left_thresh=left_outlier.value\n",
    "    preprocess_features_hosp(cohort_output, False,False,False,lab_flag,False,False,False,clean_lab,impute_outlier,thresh,left_thresh)"
   ]
  },
  {
   "cell_type": "markdown",
   "id": "independent-academy",
   "metadata": {},
   "source": [
    "## 7. Time-Series Representation\n",
    "In this section, please choose how you want to process and represent time-series data.\n",
    "\n",
    "- First option is to select the length of time-series data you want to include for this study. (Default is 72 hours)\n",
    "\n",
    "- Second option is to select bucket size which tells in what size time windows you want to divide your time-series.<br>\n",
    "For example, if you select **2** bucket size, it wil aggregate data for every 2 hours and <br>a time-series of length 24 hours will be represented as time-series with 12 time-windows <br>where data for every 2 hours is agggregated from original raw time-series.\n",
    "\n",
    "During this step, we will also save the time-series data in data dictionaries in the format that can be directly used for following deep learning analysis.\n",
    "\n",
    "### Imputation\n",
    "You can also choose if you want to impute lab/chart values. The imputation will be done by froward fill and mean or median imputation.<br>\n",
    "Values will be forward fill first and if no value exists for that admission we will use mean or median value for the patient.\n",
    "\n",
    "The data dictionaries will be saved in **./data/dict/**\n",
    "\n",
    "Please refer the readme to know the structure of data dictionaries.\n",
    "\n",
    "**Please run below cell to select time-series representation**"
   ]
  },
  {
   "cell_type": "code",
   "execution_count": 8,
   "id": "mechanical-three",
   "metadata": {},
   "outputs": [
    {
     "name": "stdout",
     "output_type": "stream",
     "text": [
      "=======Time-series Data Represenation=======\n",
      "Length of data to be included for time-series prediction ?\n"
     ]
    },
    {
     "data": {
      "application/vnd.jupyter.widget-view+json": {
       "model_id": "18d214a455174983b80f3e83d01a2ba4",
       "version_major": 2,
       "version_minor": 0
      },
      "text/plain": [
       "RadioButtons(options=('First 72 hours', 'First 48 hours', 'First 24 hours', 'Custom'), value='First 72 hours')"
      ]
     },
     "metadata": {},
     "output_type": "display_data"
    },
    {
     "data": {
      "application/vnd.jupyter.widget-view+json": {
       "model_id": "0434191629f44655bec337f72797e1d2",
       "version_major": 2,
       "version_minor": 0
      },
      "text/plain": [
       "HBox(children=(Label(value='Fisrt (in hours):', layout=Layout(width='150px')), IntSlider(value=72, description…"
      ]
     },
     "metadata": {},
     "output_type": "display_data"
    },
    {
     "name": "stdout",
     "output_type": "stream",
     "text": [
      "What time bucket size you want to choose ?\n"
     ]
    },
    {
     "data": {
      "application/vnd.jupyter.widget-view+json": {
       "model_id": "de9732531ae54691a75e593faeb85038",
       "version_major": 2,
       "version_minor": 0
      },
      "text/plain": [
       "RadioButtons(options=('1 hour', '2 hour', '3 hour', '4 hour', '5 hour', 'Custom'), value='1 hour')"
      ]
     },
     "metadata": {},
     "output_type": "display_data"
    },
    {
     "data": {
      "application/vnd.jupyter.widget-view+json": {
       "model_id": "73325eed763b4d47bb8194db4e48beac",
       "version_major": 2,
       "version_minor": 0
      },
      "text/plain": [
       "HBox(children=(Label(value='Bucket Size (in hours):', layout=Layout(width='150px')), IntSlider(value=1, max=6,…"
      ]
     },
     "metadata": {},
     "output_type": "display_data"
    },
    {
     "name": "stdout",
     "output_type": "stream",
     "text": [
      "Do you want to forward fill and mean or median impute lab/chart values to form continuous data signal?\n"
     ]
    },
    {
     "data": {
      "application/vnd.jupyter.widget-view+json": {
       "model_id": "90c9d1b37c3d49fd9fa1306b7a69d0a7",
       "version_major": 2,
       "version_minor": 0
      },
      "text/plain": [
       "RadioButtons(options=('No Imputation', 'forward fill and mean', 'forward fill and median'), value='No Imputati…"
      ]
     },
     "metadata": {},
     "output_type": "display_data"
    },
    {
     "name": "stdout",
     "output_type": "stream",
     "text": [
      "If you have choosen mortality prediction task, then what prediction window length you want to keep?\n"
     ]
    },
    {
     "data": {
      "application/vnd.jupyter.widget-view+json": {
       "model_id": "0683343f3eaf40799ec4e86ad09665c6",
       "version_major": 2,
       "version_minor": 0
      },
      "text/plain": [
       "RadioButtons(options=('2 hours', '4 hours', '6 hours', '8 hours', 'Custom'), value='2 hours')"
      ]
     },
     "metadata": {},
     "output_type": "display_data"
    },
    {
     "data": {
      "application/vnd.jupyter.widget-view+json": {
       "model_id": "a8009015f9a34d2bbf4a1785bb7ffc42",
       "version_major": 2,
       "version_minor": 0
      },
      "text/plain": [
       "HBox(children=(Label(value='Prediction window (in hours)', layout=Layout(width='180px')), IntSlider(value=2, m…"
      ]
     },
     "metadata": {},
     "output_type": "display_data"
    },
    {
     "name": "stdout",
     "output_type": "stream",
     "text": [
      "**Please run below cell to perform time-series represenation and save in data dictionaries**\n"
     ]
    }
   ],
   "source": [
    "print(\"=======Time-series Data Represenation=======\")\n",
    "\n",
    "print(\"Length of data to be included for time-series prediction ?\")\n",
    "if(data_mort):\n",
    "    radio_input8 = widgets.RadioButtons(options=['First 72 hours','First 48 hours','First 24 hours','Custom'],value='First 72 hours')\n",
    "    display(radio_input8)\n",
    "    text2=widgets.IntSlider(\n",
    "    value=72,\n",
    "    min=24,\n",
    "    max=72,\n",
    "    step=1,\n",
    "    description='First',\n",
    "    disabled=False\n",
    "    )\n",
    "    display(widgets.HBox([widgets.Label('First (in hours):',layout={'width': '150px'}), text2]))\n",
    "elif(data_admn):\n",
    "    radio_input8 = widgets.RadioButtons(options=['Last 72 hours','Last 48 hours','Last 24 hours','Custom'],value='Last 72 hours')\n",
    "    display(radio_input8)\n",
    "    text2=widgets.IntSlider(\n",
    "    value=72,\n",
    "    min=24,\n",
    "    max=72,\n",
    "    step=1,\n",
    "    description='Last',\n",
    "    disabled=False\n",
    "    )\n",
    "    display(widgets.HBox([widgets.Label('Last (in hours):',layout={'width': '150px'}), text2]))\n",
    "elif(data_los):\n",
    "    radio_input8 = widgets.RadioButtons(options=['First 12 hours','First 24 hours','Custom'],value='First 24 hours')\n",
    "    display(radio_input8)\n",
    "    text2=widgets.IntSlider(\n",
    "    value=72,\n",
    "    min=12,\n",
    "    max=72,\n",
    "    step=1,\n",
    "    description='First',\n",
    "    disabled=False\n",
    "    )\n",
    "    display(widgets.HBox([widgets.Label('First (in hours):',layout={'width': '150px'}), text2]))\n",
    "    \n",
    "    \n",
    "print(\"What time bucket size you want to choose ?\")\n",
    "radio_input7 = widgets.RadioButtons(options=['1 hour','2 hour','3 hour','4 hour','5 hour','Custom'],value='1 hour')\n",
    "display(radio_input7)\n",
    "text1=widgets.IntSlider(\n",
    "    value=1,\n",
    "    min=1,\n",
    "    max=6,\n",
    "    step=1,\n",
    "    disabled=False\n",
    "    )\n",
    "#display(text1)\n",
    "display(widgets.HBox([widgets.Label('Bucket Size (in hours):',layout={'width': '150px'}), text1]))\n",
    "print(\"Do you want to forward fill and mean or median impute lab/chart values to form continuous data signal?\")\n",
    "radio_impute = widgets.RadioButtons(options=['No Imputation', 'forward fill and mean','forward fill and median'],value='No Imputation')\n",
    "display(radio_impute)   \n",
    "\n",
    "radio_input6 = widgets.RadioButtons(options=['0 hours','2 hours','4 hours','6 hours'],value='0 hours')\n",
    "if(data_mort):\n",
    "    print(\"If you have choosen mortality prediction task, then what prediction window length you want to keep?\")\n",
    "    radio_input6 = widgets.RadioButtons(options=['2 hours','4 hours','6 hours','8 hours','Custom'],value='2 hours')\n",
    "    display(radio_input6)\n",
    "    text3=widgets.IntSlider(\n",
    "    value=2,\n",
    "    min=2,\n",
    "    max=8,\n",
    "    step=1,\n",
    "    disabled=False\n",
    "    )\n",
    "    display(widgets.HBox([widgets.Label('Prediction window (in hours)',layout={'width': '180px'}), text3]))\n",
    "print(\"**Please run below cell to perform time-series represenation and save in data dictionaries**\")"
   ]
  },
  {
   "cell_type": "code",
   "execution_count": 9,
   "id": "indie-appendix",
   "metadata": {},
   "outputs": [
    {
     "name": "stdout",
     "output_type": "stream",
     "text": [
      "[ READ COHORT ]\n",
      "[ ======READING DIAGNOSIS ]\n",
      "[ ======READING PROCEDURES ]\n",
      "[ ======READING OUT EVENTS ]\n",
      "[ ======READING CHART EVENTS ]\n"
     ]
    },
    {
     "name": "stderr",
     "output_type": "stream",
     "text": [
      "16it [29:00, 108.81s/it]\n"
     ]
    },
    {
     "name": "stdout",
     "output_type": "stream",
     "text": [
      "[ ======READING MEDICATIONS ]\n",
      "[ READ ALL FEATURES ]\n",
      "include_time 72\n",
      "[ PROCESSED TIME SERIES TO EQUAL LENGTH  ]\n"
     ]
    },
    {
     "name": "stderr",
     "output_type": "stream",
     "text": [
      "100%|██████████| 72/72 [01:18<00:00,  1.08s/it]\n"
     ]
    },
    {
     "name": "stdout",
     "output_type": "stream",
     "text": [
      "bucket 1\n",
      "[ PROCESSED TIME SERIES TO EQUAL TIME INTERVAL ]\n",
      "72\n"
     ]
    },
    {
     "name": "stderr",
     "output_type": "stream",
     "text": [
      "100%|██████████| 22354/22354 [8:18:41<00:00,  1.34s/it]   \n"
     ]
    },
    {
     "name": "stdout",
     "output_type": "stream",
     "text": [
      "[ SUCCESSFULLY SAVED DATA DICTIONARIES ]\n"
     ]
    }
   ],
   "source": [
    "if (radio_input6.value=='Custom'):\n",
    "    predW=int(text3.value)\n",
    "else:\n",
    "    predW=int(radio_input6.value[0].strip())\n",
    "if (radio_input7.value=='Custom'):\n",
    "    bucket=int(text1.value)\n",
    "else:\n",
    "    bucket=int(radio_input7.value[0].strip())\n",
    "if (radio_input8.value=='Custom'):\n",
    "    include=int(text2.value)\n",
    "else:\n",
    "    include=int(radio_input8.value.split()[1])\n",
    "if (radio_impute.value=='forward fill and mean'):\n",
    "    impute='Mean'\n",
    "elif (radio_impute.value=='forward fill and median'):\n",
    "    impute='Median'\n",
    "else:\n",
    "    impute=False\n",
    "\n",
    "if data_icu:\n",
    "    gen=data_generation_icu.Generator(cohort_output,data_mort,data_admn,data_los,diag_flag,proc_flag,out_flag,chart_flag,med_flag,impute,include,bucket,predW)\n",
    "    #gen=data_generation_icu.Generator(cohort_output,data_mort,diag_flag,False,False,chart_flag,False,impute,include,bucket,predW)\n",
    "    #if chart_flag:\n",
    "    #    gen=data_generation_icu.Generator(cohort_output,data_mort,False,False,False,chart_flag,False,impute,include,bucket,predW)\n",
    "else:\n",
    "    gen=data_generation.Generator(cohort_output,data_mort,data_admn,data_los,diag_flag,lab_flag,proc_flag,med_flag,impute,include,bucket,predW)"
   ]
  },
  {
   "cell_type": "markdown",
   "id": "lined-reset",
   "metadata": {},
   "source": [
    "## 8. Machine Learning Models\n",
    "\n",
    "Below we provide options to select -\n",
    "- Type of machine learning model\n",
    "- Wheteher to concatenate or aggregate time-series features.\n",
    "    For example, if the EHR data has collected value for Blood Pressure for one year over 4 time windows of 3 months each then,\n",
    "    - **Conactenate** will concatenate all four values resulting in 4 different features for blood pressure,\n",
    "    - **Aggregate** will aggreagte(mean) over four tiem windows resulting in one feature for blood pressure."
   ]
  },
  {
   "cell_type": "code",
   "execution_count": 5,
   "id": "consolidated-former",
   "metadata": {},
   "outputs": [
    {
     "name": "stdout",
     "output_type": "stream",
     "text": [
      "=======Machine :earning Models=======\n"
     ]
    },
    {
     "data": {
      "application/vnd.jupyter.widget-view+json": {
       "model_id": "81e56bd9a1ad44d6bdd4df588f567dbc",
       "version_major": 2,
       "version_minor": 0
      },
      "text/plain": [
       "RadioButtons(index=2, options=('Logistic Regression', 'Random Forest', 'Gradient Bossting', 'Xgboost'), value=…"
      ]
     },
     "metadata": {},
     "output_type": "display_data"
    },
    {
     "name": "stdout",
     "output_type": "stream",
     "text": [
      "Do you wnat to conactenate the time-series feature\n"
     ]
    },
    {
     "data": {
      "application/vnd.jupyter.widget-view+json": {
       "model_id": "2c321c5b7fb143fc8141d5d88ae4c2cc",
       "version_major": 2,
       "version_minor": 0
      },
      "text/plain": [
       "RadioButtons(options=('Conactenate', 'Aggregate'), value='Conactenate')"
      ]
     },
     "metadata": {},
     "output_type": "display_data"
    },
    {
     "name": "stdout",
     "output_type": "stream",
     "text": [
      "Please select below option for cross-validation\n"
     ]
    },
    {
     "data": {
      "application/vnd.jupyter.widget-view+json": {
       "model_id": "bb5f990871fb47bebc65d49f253a341b",
       "version_major": 2,
       "version_minor": 0
      },
      "text/plain": [
       "RadioButtons(index=1, options=('No CV', '5-fold CV', '10-fold CV'), value='5-fold CV')"
      ]
     },
     "metadata": {},
     "output_type": "display_data"
    },
    {
     "name": "stdout",
     "output_type": "stream",
     "text": [
      "Do you want to do oversampling for minority calss ?\n"
     ]
    },
    {
     "data": {
      "application/vnd.jupyter.widget-view+json": {
       "model_id": "56db5fc01a9545d18cdc2cee36c3a611",
       "version_major": 2,
       "version_minor": 0
      },
      "text/plain": [
       "RadioButtons(options=('True', 'False'), value='True')"
      ]
     },
     "metadata": {},
     "output_type": "display_data"
    }
   ],
   "source": [
    "print(\"=======Machine :earning Models=======\")\n",
    "radio_input5 = widgets.RadioButtons(options=['Logistic Regression','Random Forest','Gradient Bossting','Xgboost'],value='Gradient Bossting')\n",
    "display(radio_input5)\n",
    "print(\"Do you wnat to conactenate the time-series feature\")\n",
    "radio_input6 = widgets.RadioButtons(options=['Conactenate','Aggregate'],value='Conactenate')\n",
    "display(radio_input6)\n",
    "print(\"Please select below option for cross-validation\")\n",
    "radio_input7 = widgets.RadioButtons(options=['No CV','5-fold CV','10-fold CV'],value='5-fold CV')\n",
    "display(radio_input7)\n",
    "print(\"Do you want to do oversampling for minority calss ?\")\n",
    "radio_input8 = widgets.RadioButtons(options=['True','False'],value='True')\n",
    "display(radio_input8)"
   ]
  },
  {
   "cell_type": "code",
   "execution_count": 11,
   "id": "promising-miller",
   "metadata": {
    "scrolled": true
   },
   "outputs": [
    {
     "name": "stdout",
     "output_type": "stream",
     "text": [
      "Total Samples 22354\n",
      "Positive Samples 2653\n",
      "=============OVERSAMPLING===============\n",
      "Total Samples 39402\n",
      "Positive Samples 19701\n",
      "=================== 0 FOLD=====================\n",
      "train_hids 31520\n"
     ]
    }
   ],
   "source": [
    "if radio_input7.value=='No CV':\n",
    "    cv=0\n",
    "elif radio_input7.value=='5-fold CV':\n",
    "    cv=int(5)\n",
    "elif radio_input7.value=='10-fold CV':\n",
    "    cv=int(10)\n",
    "    \n",
    "data_icu=True\n",
    "data_mort=True\n",
    "data_admn=False\n",
    "data_los=False\n",
    "data2_dir = '/datasets/MIMIC-IV'\n",
    "ml=ml_models.ML_models(data_icu,cv,radio_input5.value,concat=radio_input6.value=='Conactenate',oversampling=radio_input8.value=='True', data_dir = data2_dir)"
   ]
  },
  {
   "cell_type": "markdown",
   "id": "ordinary-chancellor",
   "metadata": {},
   "source": [
    "## 9. Deep Learning Models\n",
    "- Time-series LSTM and Time-series CNN which will only use time-series events like medications, charts, labs, output events to train model.\n",
    "\n",
    "- Hybrid LSTM and Hybrid CNN will use static data - diagnosis, demographic data aong with other time-series data to train model.\n",
    "\n",
    "- LSTM with Attention model will use attention layer to rank the important features and learn to predict output. It will use both static and time-series data.\n",
    "\n",
    "**Go to ./model/parameter.py and define all variables needed for model building and training**\n",
    "\n",
    "**Please run below cell to select which model to use**"
   ]
  },
  {
   "cell_type": "code",
   "execution_count": 5,
   "id": "operational-pride",
   "metadata": {},
   "outputs": [
    {
     "data": {
      "application/vnd.jupyter.widget-view+json": {
       "model_id": "6f8777fca00c49019b2590d37ffd86af",
       "version_major": 2,
       "version_minor": 0
      },
      "text/plain": [
       "RadioButtons(index=4, options=('Time-series LSTM', 'Time-series CNN', 'Hybrid LSTM', 'Hybrid CNN', 'IMV lstm')…"
      ]
     },
     "metadata": {},
     "output_type": "display_data"
    },
    {
     "name": "stdout",
     "output_type": "stream",
     "text": [
      "Please select below option for cross-validation\n"
     ]
    },
    {
     "data": {
      "application/vnd.jupyter.widget-view+json": {
       "model_id": "c5d1e864887541668a0236df5276c0f8",
       "version_major": 2,
       "version_minor": 0
      },
      "text/plain": [
       "RadioButtons(options=('No CV', '5-fold CV', '10-fold CV'), value='No CV')"
      ]
     },
     "metadata": {},
     "output_type": "display_data"
    },
    {
     "name": "stdout",
     "output_type": "stream",
     "text": [
      "Do you want to do oversampling for minority calss ?\n"
     ]
    },
    {
     "data": {
      "application/vnd.jupyter.widget-view+json": {
       "model_id": "d043820335b24b529db3bb1ffe38e317",
       "version_major": 2,
       "version_minor": 0
      },
      "text/plain": [
       "RadioButtons(options=('True', 'False'), value='True')"
      ]
     },
     "metadata": {},
     "output_type": "display_data"
    }
   ],
   "source": [
    "radio_input6=widgets.RadioButtons(options=['Time-series LSTM','Time-series CNN','Hybrid LSTM','Hybrid CNN', 'IMV lstm'],value='IMV lstm')\n",
    "display(radio_input6)\n",
    "print(\"Please select below option for cross-validation\")\n",
    "radio_input7 = widgets.RadioButtons(options=['No CV','5-fold CV','10-fold CV'],value='No CV')\n",
    "display(radio_input7)\n",
    "print(\"Do you want to do oversampling for minority calss ?\")\n",
    "radio_input8 = widgets.RadioButtons(options=['True','False'],value='True')\n",
    "display(radio_input8)"
   ]
  },
  {
   "cell_type": "code",
   "execution_count": 6,
   "id": "golden-stewart",
   "metadata": {
    "scrolled": true
   },
   "outputs": [
    {
     "name": "stdout",
     "output_type": "stream",
     "text": [
      "cuda is available\n",
      "===============MODEL TRAINING===============\n",
      "Total Samples 22354\n",
      "Positive Samples 2653\n",
      "=============OVERSAMPLING===============\n",
      "Total Samples 39402\n",
      "Positive Samples 19701\n",
      "[ MODEL CREATED ]\n",
      "IMVLSTM(\n",
      "  (med): ValEmbed(\n",
      "    (codeEmbed): BatchNorm1d(78, eps=1e-05, momentum=0.1, affine=True, track_running_stats=True)\n",
      "    (fc): Linear(in_features=78, out_features=152, bias=True)\n",
      "  )\n",
      "  (chart): ValEmbed(\n",
      "    (codeEmbed): BatchNorm1d(185, eps=1e-05, momentum=0.1, affine=True, track_running_stats=True)\n",
      "    (fc): Linear(in_features=185, out_features=152, bias=True)\n",
      "  )\n",
      "  (cond): StatEmbed(\n",
      "    (codeEmbed): Embedding(1356, 52)\n",
      "    (fc): Linear(in_features=70512, out_features=152, bias=True)\n",
      "  )\n",
      "  (ethEmbed): Embedding(34, 152, padding_idx=0)\n",
      "  (genderEmbed): Embedding(3, 152, padding_idx=0)\n",
      "  (ageEmbed): Embedding(74, 152, padding_idx=0)\n",
      "  (insEmbed): Embedding(4, 152, padding_idx=0)\n",
      "  (embedfc): Linear(in_features=1064, out_features=152, bias=True)\n",
      "  (network): IMVTensorLSTM(\n",
      "    (F_beta): RecursiveScriptModule(original_name=Linear)\n",
      "    (Phi): RecursiveScriptModule(original_name=Linear)\n",
      "  )\n",
      ")\n",
      "=================== 0 FOLD=====================\n"
     ]
    },
    {
     "name": "stderr",
     "output_type": "stream",
     "text": [
      "\r",
      "  0%|          | 0/20 [00:00<?, ?it/s]"
     ]
    },
    {
     "name": "stdout",
     "output_type": "stream",
     "text": [
      "======= EPOCH 0.0 ========\n"
     ]
    },
    {
     "name": "stderr",
     "output_type": "stream",
     "text": [
      "\n",
      "  0%|          | 0/17 [00:00<?, ?it/s]\u001b[A\n",
      "  6%|▌         | 1/17 [00:46<12:26, 46.68s/it]\u001b[A\n",
      " 12%|█▏        | 2/17 [01:36<12:04, 48.27s/it]\u001b[A\n",
      " 18%|█▊        | 3/17 [02:25<11:20, 48.62s/it]\u001b[A\n",
      " 24%|██▎       | 4/17 [03:12<10:27, 48.24s/it]\u001b[A\n",
      " 29%|██▉       | 5/17 [04:02<09:43, 48.61s/it]\u001b[A\n",
      " 35%|███▌      | 6/17 [04:50<08:54, 48.56s/it]\u001b[A\n",
      " 41%|████      | 7/17 [05:38<08:05, 48.51s/it]\u001b[A\n",
      " 47%|████▋     | 8/17 [06:28<07:18, 48.73s/it]\u001b[A\n",
      " 53%|█████▎    | 9/17 [07:15<06:26, 48.32s/it]\u001b[A\n",
      " 59%|█████▉    | 10/17 [08:03<05:37, 48.20s/it]\u001b[A\n",
      " 65%|██████▍   | 11/17 [08:52<04:50, 48.38s/it]\u001b[A\n",
      " 71%|███████   | 12/17 [09:40<04:02, 48.45s/it]\u001b[A\n",
      " 76%|███████▋  | 13/17 [10:29<03:14, 48.56s/it]\u001b[A\n",
      " 82%|████████▏ | 14/17 [11:18<02:25, 48.50s/it]\u001b[A\n",
      " 88%|████████▊ | 15/17 [12:05<01:36, 48.32s/it]\u001b[A\n",
      " 94%|█████████▍| 16/17 [12:55<00:48, 48.65s/it]\u001b[A\n",
      "100%|██████████| 17/17 [13:43<00:00, 48.44s/it]\u001b[A\n"
     ]
    },
    {
     "name": "stdout",
     "output_type": "stream",
     "text": [
      "BCE Loss: 1.31\n",
      "AU-ROC: 0.69\n",
      "AU-PRC: 0.60\n",
      "AU-PRC Baaseline: 0.38\n",
      "Accuracy: 0.61\n",
      "Precision: 0.49\n",
      "Recall: 0.70\n",
      "Specificity: 0.55\n",
      "NPV: 0.75\n",
      "ECE: 0.15\n",
      "MCE: 0.35\n",
      "Cohen Koppa metric: 0.23\n",
      "======= VALIDATION ========\n"
     ]
    },
    {
     "name": "stderr",
     "output_type": "stream",
     "text": [
      "\n",
      "  0%|          | 0/2 [00:00<?, ?it/s]\u001b[A\n",
      " 50%|█████     | 1/2 [01:34<01:34, 94.49s/it]\u001b[A\n",
      "  0%|          | 0/20 [15:18<?, ?it/s]\n"
     ]
    },
    {
     "ename": "RuntimeError",
     "evalue": "The following operation failed in the TorchScript interpreter.\nTraceback of TorchScript (most recent call last):\nRuntimeError: The following operation failed in the TorchScript interpreter.\nTraceback of TorchScript (most recent call last):\nRuntimeError: CUDA out of memory. Tried to allocate 16.00 MiB (GPU 0; 14.76 GiB total capacity; 12.97 GiB already allocated; 3.75 MiB free; 13.71 GiB reserved in total by PyTorch)\n\n",
     "output_type": "error",
     "traceback": [
      "\u001b[0;31m---------------------------------------------------------------------------\u001b[0m",
      "\u001b[0;31mRuntimeError\u001b[0m                              Traceback (most recent call last)",
      "\u001b[0;32m<ipython-input-6-86ecb5177c5d>\u001b[0m in \u001b[0;36m<module>\u001b[0;34m\u001b[0m\n\u001b[1;32m     17\u001b[0m \u001b[0mdata2_dir\u001b[0m \u001b[0;34m=\u001b[0m \u001b[0;34m'/datasets/MIMIC-IV/'\u001b[0m\u001b[0;34m\u001b[0m\u001b[0;34m\u001b[0m\u001b[0m\n\u001b[1;32m     18\u001b[0m \u001b[0;32mif\u001b[0m \u001b[0mdata_icu\u001b[0m\u001b[0;34m:\u001b[0m\u001b[0;34m\u001b[0m\u001b[0;34m\u001b[0m\u001b[0m\n\u001b[0;32m---> 19\u001b[0;31m     \u001b[0mmodel\u001b[0m\u001b[0;34m=\u001b[0m\u001b[0mdl_train\u001b[0m\u001b[0;34m.\u001b[0m\u001b[0mDL_models\u001b[0m\u001b[0;34m(\u001b[0m\u001b[0mdata_icu\u001b[0m\u001b[0;34m,\u001b[0m\u001b[0mdiag_flag\u001b[0m\u001b[0;34m,\u001b[0m\u001b[0mproc_flag\u001b[0m\u001b[0;34m,\u001b[0m\u001b[0mout_flag\u001b[0m\u001b[0;34m,\u001b[0m\u001b[0mchart_flag\u001b[0m\u001b[0;34m,\u001b[0m\u001b[0mmed_flag\u001b[0m\u001b[0;34m,\u001b[0m\u001b[0;32mFalse\u001b[0m\u001b[0;34m,\u001b[0m\u001b[0mradio_input6\u001b[0m\u001b[0;34m.\u001b[0m\u001b[0mvalue\u001b[0m\u001b[0;34m,\u001b[0m\u001b[0mcv\u001b[0m\u001b[0;34m,\u001b[0m\u001b[0moversampling\u001b[0m\u001b[0;34m=\u001b[0m\u001b[0mradio_input8\u001b[0m\u001b[0;34m.\u001b[0m\u001b[0mvalue\u001b[0m\u001b[0;34m==\u001b[0m\u001b[0;34m'True'\u001b[0m\u001b[0;34m,\u001b[0m\u001b[0mmodel_name\u001b[0m\u001b[0;34m=\u001b[0m\u001b[0;34m'attn_icu_read'\u001b[0m\u001b[0;34m,\u001b[0m\u001b[0mtrain\u001b[0m\u001b[0;34m=\u001b[0m\u001b[0;32mTrue\u001b[0m\u001b[0;34m,\u001b[0m \u001b[0mdata_dir\u001b[0m\u001b[0;34m=\u001b[0m\u001b[0mdata2_dir\u001b[0m\u001b[0;34m)\u001b[0m\u001b[0;34m\u001b[0m\u001b[0;34m\u001b[0m\u001b[0m\n\u001b[0m\u001b[1;32m     20\u001b[0m \u001b[0;32melse\u001b[0m\u001b[0;34m:\u001b[0m\u001b[0;34m\u001b[0m\u001b[0;34m\u001b[0m\u001b[0m\n\u001b[1;32m     21\u001b[0m     \u001b[0mmodel\u001b[0m\u001b[0;34m=\u001b[0m\u001b[0mdl_train\u001b[0m\u001b[0;34m.\u001b[0m\u001b[0mDL_models\u001b[0m\u001b[0;34m(\u001b[0m\u001b[0mdata_icu\u001b[0m\u001b[0;34m,\u001b[0m\u001b[0mdiag_flag\u001b[0m\u001b[0;34m,\u001b[0m\u001b[0mproc_flag\u001b[0m\u001b[0;34m,\u001b[0m\u001b[0;32mFalse\u001b[0m\u001b[0;34m,\u001b[0m\u001b[0;32mFalse\u001b[0m\u001b[0;34m,\u001b[0m\u001b[0mmed_flag\u001b[0m\u001b[0;34m,\u001b[0m\u001b[0mlab_flag\u001b[0m\u001b[0;34m,\u001b[0m\u001b[0mradio_input6\u001b[0m\u001b[0;34m.\u001b[0m\u001b[0mvalue\u001b[0m\u001b[0;34m,\u001b[0m\u001b[0mcv\u001b[0m\u001b[0;34m,\u001b[0m\u001b[0moversampling\u001b[0m\u001b[0;34m=\u001b[0m\u001b[0mradio_input8\u001b[0m\u001b[0;34m.\u001b[0m\u001b[0mvalue\u001b[0m\u001b[0;34m==\u001b[0m\u001b[0;34m'True'\u001b[0m\u001b[0;34m,\u001b[0m\u001b[0mmodel_name\u001b[0m\u001b[0;34m=\u001b[0m\u001b[0;34m'attn_icu_read'\u001b[0m\u001b[0;34m,\u001b[0m\u001b[0mtrain\u001b[0m\u001b[0;34m=\u001b[0m\u001b[0;32mTrue\u001b[0m\u001b[0;34m,\u001b[0m \u001b[0mdata_dir\u001b[0m\u001b[0;34m=\u001b[0m\u001b[0mdata2_dir\u001b[0m\u001b[0;34m)\u001b[0m\u001b[0;34m\u001b[0m\u001b[0;34m\u001b[0m\u001b[0m\n",
      "\u001b[0;32m/fs01/home/tinbeh/MIMIC-IV-Data-Pipeline/model/dl_train.py\u001b[0m in \u001b[0;36m__init__\u001b[0;34m(self, data_icu, diag_flag, proc_flag, out_flag, chart_flag, med_flag, lab_flag, model_type, k_fold, oversampling, model_name, train, data_dir)\u001b[0m\n\u001b[1;32m     94\u001b[0m         \u001b[0;32mif\u001b[0m \u001b[0mtrain\u001b[0m\u001b[0;34m:\u001b[0m\u001b[0;34m\u001b[0m\u001b[0;34m\u001b[0m\u001b[0m\n\u001b[1;32m     95\u001b[0m             \u001b[0mprint\u001b[0m\u001b[0;34m(\u001b[0m\u001b[0;34m\"===============MODEL TRAINING===============\"\u001b[0m\u001b[0;34m)\u001b[0m\u001b[0;34m\u001b[0m\u001b[0;34m\u001b[0m\u001b[0m\n\u001b[0;32m---> 96\u001b[0;31m             \u001b[0mself\u001b[0m\u001b[0;34m.\u001b[0m\u001b[0mdl_train\u001b[0m\u001b[0;34m(\u001b[0m\u001b[0;34m)\u001b[0m\u001b[0;34m\u001b[0m\u001b[0;34m\u001b[0m\u001b[0m\n\u001b[0m\u001b[1;32m     97\u001b[0m \u001b[0;34m\u001b[0m\u001b[0m\n\u001b[1;32m     98\u001b[0m         \u001b[0;32melse\u001b[0m\u001b[0;34m:\u001b[0m\u001b[0;34m\u001b[0m\u001b[0;34m\u001b[0m\u001b[0m\n",
      "\u001b[0;32m/fs01/home/tinbeh/MIMIC-IV-Data-Pipeline/model/dl_train.py\u001b[0m in \u001b[0;36mdl_train\u001b[0;34m(self)\u001b[0m\n\u001b[1;32m    194\u001b[0m                 \u001b[0;31m#print(train_truth)\u001b[0m\u001b[0;34m\u001b[0m\u001b[0;34m\u001b[0m\u001b[0;34m\u001b[0m\u001b[0m\n\u001b[1;32m    195\u001b[0m                 \u001b[0mself\u001b[0m\u001b[0;34m.\u001b[0m\u001b[0mloss\u001b[0m\u001b[0;34m(\u001b[0m\u001b[0mtorch\u001b[0m\u001b[0;34m.\u001b[0m\u001b[0mtensor\u001b[0m\u001b[0;34m(\u001b[0m\u001b[0mtrain_prob\u001b[0m\u001b[0;34m)\u001b[0m\u001b[0;34m,\u001b[0m\u001b[0mtorch\u001b[0m\u001b[0;34m.\u001b[0m\u001b[0mtensor\u001b[0m\u001b[0;34m(\u001b[0m\u001b[0mtrain_truth\u001b[0m\u001b[0;34m)\u001b[0m\u001b[0;34m,\u001b[0m\u001b[0mtorch\u001b[0m\u001b[0;34m.\u001b[0m\u001b[0mtensor\u001b[0m\u001b[0;34m(\u001b[0m\u001b[0mtrain_logits\u001b[0m\u001b[0;34m)\u001b[0m\u001b[0;34m,\u001b[0m\u001b[0;32mFalse\u001b[0m\u001b[0;34m,\u001b[0m\u001b[0;32mFalse\u001b[0m\u001b[0;34m)\u001b[0m\u001b[0;34m\u001b[0m\u001b[0;34m\u001b[0m\u001b[0m\n\u001b[0;32m--> 196\u001b[0;31m                 \u001b[0mval_loss\u001b[0m\u001b[0;34m=\u001b[0m\u001b[0mself\u001b[0m\u001b[0;34m.\u001b[0m\u001b[0mmodel_val\u001b[0m\u001b[0;34m(\u001b[0m\u001b[0mval_hids\u001b[0m\u001b[0;34m)\u001b[0m\u001b[0;34m\u001b[0m\u001b[0;34m\u001b[0m\u001b[0m\n\u001b[0m\u001b[1;32m    197\u001b[0m                 \u001b[0;31m#print(\"Updating Model\")\u001b[0m\u001b[0;34m\u001b[0m\u001b[0;34m\u001b[0m\u001b[0;34m\u001b[0m\u001b[0m\n\u001b[1;32m    198\u001b[0m                 \u001b[0;31m#T.save(self.net,self.save_path)\u001b[0m\u001b[0;34m\u001b[0m\u001b[0;34m\u001b[0m\u001b[0;34m\u001b[0m\u001b[0m\n",
      "\u001b[0;32m/fs01/home/tinbeh/MIMIC-IV-Data-Pipeline/model/dl_train.py\u001b[0m in \u001b[0;36mmodel_val\u001b[0;34m(self, val_hids)\u001b[0m\n\u001b[1;32m    227\u001b[0m \u001b[0;31m#             print(y.shape)\u001b[0m\u001b[0;34m\u001b[0m\u001b[0;34m\u001b[0m\u001b[0;34m\u001b[0m\u001b[0m\n\u001b[1;32m    228\u001b[0m \u001b[0;34m\u001b[0m\u001b[0m\n\u001b[0;32m--> 229\u001b[0;31m             \u001b[0moutput\u001b[0m\u001b[0;34m,\u001b[0m\u001b[0mlogits\u001b[0m \u001b[0;34m=\u001b[0m \u001b[0mself\u001b[0m\u001b[0;34m.\u001b[0m\u001b[0mnet\u001b[0m\u001b[0;34m(\u001b[0m\u001b[0mmeds\u001b[0m\u001b[0;34m,\u001b[0m\u001b[0mchart\u001b[0m\u001b[0;34m,\u001b[0m\u001b[0mout\u001b[0m\u001b[0;34m,\u001b[0m\u001b[0mproc\u001b[0m\u001b[0;34m,\u001b[0m\u001b[0mlab\u001b[0m\u001b[0;34m,\u001b[0m\u001b[0mstat_train\u001b[0m\u001b[0;34m,\u001b[0m\u001b[0mdemo_train\u001b[0m\u001b[0;34m)\u001b[0m\u001b[0;34m\u001b[0m\u001b[0;34m\u001b[0m\u001b[0m\n\u001b[0m\u001b[1;32m    230\u001b[0m             \u001b[0moutput\u001b[0m\u001b[0;34m=\u001b[0m\u001b[0moutput\u001b[0m\u001b[0;34m.\u001b[0m\u001b[0msqueeze\u001b[0m\u001b[0;34m(\u001b[0m\u001b[0;34m)\u001b[0m\u001b[0;34m\u001b[0m\u001b[0;34m\u001b[0m\u001b[0m\n\u001b[1;32m    231\u001b[0m             \u001b[0mlogits\u001b[0m\u001b[0;34m=\u001b[0m\u001b[0mlogits\u001b[0m\u001b[0;34m.\u001b[0m\u001b[0msqueeze\u001b[0m\u001b[0;34m(\u001b[0m\u001b[0;34m)\u001b[0m\u001b[0;34m\u001b[0m\u001b[0;34m\u001b[0m\u001b[0m\n",
      "\u001b[0;32m/pkgs/pytorch-1.7.1-cuda11.0-conda-python3.6/torch/nn/modules/module.py\u001b[0m in \u001b[0;36m_call_impl\u001b[0;34m(self, *input, **kwargs)\u001b[0m\n\u001b[1;32m    725\u001b[0m             \u001b[0mresult\u001b[0m \u001b[0;34m=\u001b[0m \u001b[0mself\u001b[0m\u001b[0;34m.\u001b[0m\u001b[0m_slow_forward\u001b[0m\u001b[0;34m(\u001b[0m\u001b[0;34m*\u001b[0m\u001b[0minput\u001b[0m\u001b[0;34m,\u001b[0m \u001b[0;34m**\u001b[0m\u001b[0mkwargs\u001b[0m\u001b[0;34m)\u001b[0m\u001b[0;34m\u001b[0m\u001b[0;34m\u001b[0m\u001b[0m\n\u001b[1;32m    726\u001b[0m         \u001b[0;32melse\u001b[0m\u001b[0;34m:\u001b[0m\u001b[0;34m\u001b[0m\u001b[0;34m\u001b[0m\u001b[0m\n\u001b[0;32m--> 727\u001b[0;31m             \u001b[0mresult\u001b[0m \u001b[0;34m=\u001b[0m \u001b[0mself\u001b[0m\u001b[0;34m.\u001b[0m\u001b[0mforward\u001b[0m\u001b[0;34m(\u001b[0m\u001b[0;34m*\u001b[0m\u001b[0minput\u001b[0m\u001b[0;34m,\u001b[0m \u001b[0;34m**\u001b[0m\u001b[0mkwargs\u001b[0m\u001b[0;34m)\u001b[0m\u001b[0;34m\u001b[0m\u001b[0;34m\u001b[0m\u001b[0m\n\u001b[0m\u001b[1;32m    728\u001b[0m         for hook in itertools.chain(\n\u001b[1;32m    729\u001b[0m                 \u001b[0m_global_forward_hooks\u001b[0m\u001b[0;34m.\u001b[0m\u001b[0mvalues\u001b[0m\u001b[0;34m(\u001b[0m\u001b[0;34m)\u001b[0m\u001b[0;34m,\u001b[0m\u001b[0;34m\u001b[0m\u001b[0;34m\u001b[0m\u001b[0m\n",
      "\u001b[0;32m/fs01/home/tinbeh/MIMIC-IV-Data-Pipeline/model/mimic_model.py\u001b[0m in \u001b[0;36mforward\u001b[0;34m(self, meds, chart, out, proc, lab, conds, demo)\u001b[0m\n\u001b[1;32m    216\u001b[0m \u001b[0;34m\u001b[0m\u001b[0m\n\u001b[1;32m    217\u001b[0m \u001b[0;34m\u001b[0m\u001b[0m\n\u001b[0;32m--> 218\u001b[0;31m         \u001b[0moutput\u001b[0m\u001b[0;34m,\u001b[0m \u001b[0malphas\u001b[0m\u001b[0;34m,\u001b[0m \u001b[0mbetas\u001b[0m \u001b[0;34m=\u001b[0m\u001b[0mself\u001b[0m\u001b[0;34m.\u001b[0m\u001b[0mnetwork\u001b[0m\u001b[0;34m(\u001b[0m\u001b[0mout1\u001b[0m\u001b[0;34m)\u001b[0m\u001b[0;34m\u001b[0m\u001b[0;34m\u001b[0m\u001b[0m\n\u001b[0m\u001b[1;32m    219\u001b[0m         \u001b[0mout1\u001b[0m \u001b[0;34m=\u001b[0m \u001b[0moutput\u001b[0m\u001b[0;34m.\u001b[0m\u001b[0msqueeze\u001b[0m\u001b[0;34m(\u001b[0m\u001b[0;36m1\u001b[0m\u001b[0;34m)\u001b[0m\u001b[0;34m\u001b[0m\u001b[0;34m\u001b[0m\u001b[0m\n\u001b[1;32m    220\u001b[0m \u001b[0;34m\u001b[0m\u001b[0m\n",
      "\u001b[0;32m/pkgs/pytorch-1.7.1-cuda11.0-conda-python3.6/torch/nn/modules/module.py\u001b[0m in \u001b[0;36m_call_impl\u001b[0;34m(self, *input, **kwargs)\u001b[0m\n\u001b[1;32m    725\u001b[0m             \u001b[0mresult\u001b[0m \u001b[0;34m=\u001b[0m \u001b[0mself\u001b[0m\u001b[0;34m.\u001b[0m\u001b[0m_slow_forward\u001b[0m\u001b[0;34m(\u001b[0m\u001b[0;34m*\u001b[0m\u001b[0minput\u001b[0m\u001b[0;34m,\u001b[0m \u001b[0;34m**\u001b[0m\u001b[0mkwargs\u001b[0m\u001b[0;34m)\u001b[0m\u001b[0;34m\u001b[0m\u001b[0;34m\u001b[0m\u001b[0m\n\u001b[1;32m    726\u001b[0m         \u001b[0;32melse\u001b[0m\u001b[0;34m:\u001b[0m\u001b[0;34m\u001b[0m\u001b[0;34m\u001b[0m\u001b[0m\n\u001b[0;32m--> 727\u001b[0;31m             \u001b[0mresult\u001b[0m \u001b[0;34m=\u001b[0m \u001b[0mself\u001b[0m\u001b[0;34m.\u001b[0m\u001b[0mforward\u001b[0m\u001b[0;34m(\u001b[0m\u001b[0;34m*\u001b[0m\u001b[0minput\u001b[0m\u001b[0;34m,\u001b[0m \u001b[0;34m**\u001b[0m\u001b[0mkwargs\u001b[0m\u001b[0;34m)\u001b[0m\u001b[0;34m\u001b[0m\u001b[0;34m\u001b[0m\u001b[0m\n\u001b[0m\u001b[1;32m    728\u001b[0m         for hook in itertools.chain(\n\u001b[1;32m    729\u001b[0m                 \u001b[0m_global_forward_hooks\u001b[0m\u001b[0;34m.\u001b[0m\u001b[0mvalues\u001b[0m\u001b[0;34m(\u001b[0m\u001b[0;34m)\u001b[0m\u001b[0;34m,\u001b[0m\u001b[0;34m\u001b[0m\u001b[0;34m\u001b[0m\u001b[0m\n",
      "\u001b[0;31mRuntimeError\u001b[0m: The following operation failed in the TorchScript interpreter.\nTraceback of TorchScript (most recent call last):\nRuntimeError: The following operation failed in the TorchScript interpreter.\nTraceback of TorchScript (most recent call last):\nRuntimeError: CUDA out of memory. Tried to allocate 16.00 MiB (GPU 0; 14.76 GiB total capacity; 12.97 GiB already allocated; 3.75 MiB free; 13.71 GiB reserved in total by PyTorch)\n\n"
     ]
    },
    {
     "data": {
      "image/png": "[encoded data removed]",
      "text/plain": [
       "<Figure size 576x432 with 1 Axes>"
      ]
     },
     "metadata": {
      "needs_background": "light"
     },
     "output_type": "display_data"
    },
    {
     "data": {
      "image/png": "[encoded data removed]",
      "text/plain": [
       "<Figure size 576x576 with 1 Axes>"
      ]
     },
     "metadata": {
      "needs_background": "light"
     },
     "output_type": "display_data"
    }
   ],
   "source": [
    "if radio_input7.value=='No CV':\n",
    "    cv=0\n",
    "elif radio_input7.value=='5-fold CV':\n",
    "    cv=int(5)\n",
    "elif radio_input7.value=='10-fold CV':\n",
    "    cv=int(10)\n",
    "\n",
    "data_icu=True\n",
    "data_mort=True\n",
    "data_admn=False\n",
    "data_los=False\n",
    "diag_flag=True\n",
    "out_flag=True #False\n",
    "chart_flag=True\n",
    "proc_flag=True #False\n",
    "med_flag=True\n",
    "data2_dir = '/datasets/MIMIC-IV/'\n",
    "if data_icu:\n",
    "    model=dl_train.DL_models(data_icu,diag_flag,proc_flag,out_flag,chart_flag,med_flag,False,radio_input6.value,cv,oversampling=radio_input8.value=='True',model_name='attn_icu_read',train=True, data_dir=data2_dir)\n",
    "else:\n",
    "    model=dl_train.DL_models(data_icu,diag_flag,proc_flag,False,False,med_flag,lab_flag,radio_input6.value,cv,oversampling=radio_input8.value=='True',model_name='attn_icu_read',train=True, data_dir=data2_dir)"
   ]
  },
  {
   "cell_type": "markdown",
   "id": "driven-factor",
   "metadata": {},
   "source": [
    "## 10. Running BEHRT\n",
    "Below we integrate the implementation of BEHRT in our pipeline.\n",
    "We perform pre-procesing needed to run BEHRT model. https://github.com/deepmedicine/BEHRT\n",
    "\n",
    "Few things to note before running BEHRT -\n",
    "- The numerical values are binned into quantiles.\n",
    "- BEHRT has recommended maximum number of events per sample to be 512. \n",
    "    So feature selection is important so that number of events per sample does not exceed 512.\n",
    "- The model is quite computationally heavy so it requires a GPU.\n",
    "\n",
    "The output files for BEHRT will be saved in ./data/behrt/ folder\n",
    "\n",
    "**Please run below cell to to pre-process and run BEHRT on the selected cohort**"
   ]
  },
  {
   "cell_type": "code",
   "execution_count": 16,
   "id": "c076c879",
   "metadata": {},
   "outputs": [],
   "source": [
    "from model import tokenizer2"
   ]
  },
  {
   "cell_type": "code",
   "execution_count": 19,
   "id": "aggressive-break",
   "metadata": {
    "scrolled": true
   },
   "outputs": [
    {
     "name": "stdout",
     "output_type": "stream",
     "text": [
      "labels:      stay_id  label\n",
      "0  37510196      1\n",
      "1  33685454      0\n",
      "2  31090461      0\n",
      "3  32610785      0\n",
      "4  33987268      0\n",
      "5  38875437      0\n",
      "6  35479615      0\n",
      "7  36753294      0\n",
      "8  32128372      0\n",
      "9  38383343      1\n",
      "STARTING READING FILES.\n"
     ]
    },
    {
     "name": "stderr",
     "output_type": "stream",
     "text": [
      "100%|██████████| 10/10 [00:02<00:00,  4.74it/s]\n"
     ]
    },
    {
     "name": "stdout",
     "output_type": "stream",
     "text": [
      "FINISHED READING FILES. \n",
      "\n",
      "condVocab:  {'token2idx': {'PAD': 0, 'CLS': 1, 'SEP': 2, 'J44': 3, 'K72': 4, 'R57': 5, 'J96': 6, 'I44': 7, 'I82': 8, 'I48': 9, 'D69': 10, 'I46': 11, 'I10': 12, 'E78': 13, 'Z79': 14, 'M47': 15, 'I73': 16, 'I25': 17, 'Z87': 18, 'Z96': 19, 'J01': 20, 'F41': 21, 'G47': 22, 'R60': 23, 'D50': 24, 'R50': 25, 'M19': 26, 'Y92': 27, 'Z82': 28, 'Z78': 29, 'Z51': 30, 'Z66': 31, 'Z99': 32, 'J45': 33, 'M79': 34, 'T45': 35, 'I21': 36, 'J18': 37, 'I50': 38, 'T82': 39, 'Q20': 40, 'C33': 41, 'E87': 42, 'R69': 43, 'I12': 44, 'N18': 45, 'R19': 46, 'D64': 47, 'J98': 48, 'D70': 49, 'I95': 50, 'R00': 51, 'K80': 52, 'C79': 53, 'G93': 54, 'G91': 55, 'C34': 56, 'F05': 57, 'F17': 58, 'G51': 59, 'M21': 60, 'E03': 61, 'M81': 62, 'R73': 63, 'T38': 64, 'D72': 65, 'R39': 66, 'A40': 67, 'N39': 68, 'A04': 69, 'T78': 70, 'K22': 71, 'B37': 72, 'M32': 73, 'E89': 74, 'I34': 75, 'Z00': 76, 'N17': 77, 'N00': 78, 'R09': 79, 'R10': 80, 'K56': 81, 'K59': 82, 'J32': 83, 'R45': 84, 'J47': 85, 'K57': 86, 'K29': 87, 'K91': 88, 'R78': 89, 'K76': 90, 'S37': 91, 'E11': 92, 'X58': 93, 'Z86': 94, 'R31': 95, 'Z23': 96, 'B96': 97, 'R41': 98, 'K21': 99, 'C19': 100, 'D66': 101, 'C90': 102, 'E44': 103, 'T81': 104, 'K41': 105, 'I47': 106, 'E66': 107, 'R68': 108, 'K66': 109, 'Z91': 110, 'M15': 111, 'Z68': 112, 'S62': 113, 'B95': 114, 'R65': 115, 'A41': 116, 'J91': 117, 'C78': 118, 'C21': 119, 'E46': 120, 'Q62': 121, 'T83': 122, 'N12': 123, 'K31': 124, 'D62': 125, 'E88': 126, 'M17': 127, 'Z43': 128, 'Y84': 129, 'F84': 130, 'Q43': 131, 'I42': 132, 'N28': 133, 'M10': 134, 'N05': 135, 'L89': 136, 'Z85': 137, 'Z95': 138, 'M25': 139, 'K26': 140, 'K92': 141, 'F32': 142, 'I69': 143, 'J15': 144, 'D75': 145, 'S27': 146, 'J69': 147, 'S22': 148, 'S06': 149, 'E24': 150, 'S42': 151, 'S01': 152, 'F10': 153, 'I24': 154, 'I80': 155, 'G40': 156, 'K85': 157, 'I70': 158, 'I16': 159, 'J95': 160, 'D63': 161, 'F20': 162, 'W18': 163, 'H26': 164, 'Z72': 165, 'L40': 166, 'L57': 167, 'M72': 168, 'J30': 169, 'H61': 170, 'I66': 171, 'N03': 172, 'G81': 173, 'F91': 174, 'S12': 175, 'S14': 176, 'G96': 177, 'S93': 178, 'W10': 179, 'F12': 180, 'M53': 181, 'C7B': 182, 'I87': 183, 'C7A': 184, 'F43': 185, 'I97': 186, 'Y83': 187, 'K74': 188, 'K65': 189, 'E43': 190, 'D68': 191, 'R18': 192, 'T80': 193, 'K75': 194, 'R62': 195, 'T44': 196, 'N23': 197, 'R94': 198, 'L81': 199, 'Z21': 200, 'S72': 201, 'S25': 202, 'I13': 203, 'I08': 204, 'M54': 205, 'Z45': 206, 'R74': 207, 'S24': 208, 'S32': 209, 'R33': 210, 'V27': 211, 'S80': 212, 'R64': 213, 'R13': 214, 'T18': 215, 'R26': 216, 'Z16': 217, 'D61': 218, 'Y71': 219, 'K70': 220, 'E55': 221, 'D53': 222, 'T50': 223, 'N31': 224, 'D47': 225, 'E04': 226, 'I71': 227, 'J39': 228, 'I63': 229, 'I61': 230, 'R47': 231, 'R06': 232, 'R29': 233, 'G89': 234, 'H40': 235, 'E86': 236, 'I27': 237, 'G61': 238, 'H35': 239, 'M48': 240, 'I31': 241, 'F03': 242, 'K81': 243, 'G97': 244, 'I67': 245, 'C91': 246, 'F25': 247, 'Z98': 248, 'M94': 249, 'I35': 250, 'J94': 251, 'L97': 252, 'T84': 253, 'N40': 254, 'Q64': 255, 'E83': 256, 'G12': 257, 'Z93': 258, 'G31': 259, 'T17': 260, 'R56': 261, 'N10': 262, 'Z46': 263, 'N14': 264, 'T36': 265, 'F30': 266, 'I60': 267, 'R40': 268, 'R20': 269, 'G30': 270, 'J81': 271, 'R07': 272, 'L27': 273, 'K25': 274, 'C25': 275, 'I74': 276, 'I85': 277, 'I77': 278, 'G92': 279, 'I11': 280, 'L05': 281, 'R58': 282, 'C82': 283, 'M86': 284, 'N35': 285, 'R25': 286, 'E21': 287, 'S36': 288, 'M60': 289, 'S13': 290, 'N49': 291, 'L24': 292, 'E22': 293, 'I51': 294, 'N32': 295, 'R63': 296, 'H90': 297, 'K51': 298, 'F14': 299, 'F13': 300, 'R34': 301, 'I07': 302, 'R11': 303, 'Z90': 304, 'I36': 305, 'E80': 306, 'R30': 307, 'T79': 308, 'G62': 309, 'I72': 310, 'D55': 311, 'R55': 312, 'K62': 313, 'G20': 314, 'G43': 315, 'Z80': 316, 'J41': 317, 'B02': 318, 'F04': 319, 'J84': 320, 'F90': 321, 'R93': 322, 'G82': 323, 'B15': 324, 'K64': 325, 'I26': 326, 'F50': 327, 'F39': 328, 'F28': 329, 'F51': 330, 'F60': 331, 'T42': 332, 'F31': 333, 'I45': 334, 'K04': 335, 'R49': 336, 'V49': 337, 'M99': 338, 'Z75': 339, 'E10': 340, 'T86': 341, 'M34': 342, 'M1A': 343, 'H54': 344, 'Z94': 345, 'N30': 346, 'A09': 347, 'J02': 348, 'K63': 349, 'K67': 350, 'J93': 351, 'G24': 352, 'T43': 353, 'C77': 354, 'J90': 355, 'C22': 356, 'B18': 357, 'D80': 358, 'J12': 359, 'B25': 360, 'D59': 361, 'G44': 362, 'Z83': 363, 'B44': 364, 'B59': 365, 'D89': 366, 'C92': 367, 'R04': 368, 'H11': 369, 'S11': 370, 'B20': 371, 'J43': 372, 'G80': 373, 'F79': 374, 'W19': 375, 'Z92': 376, 'N20': 377, 'K50': 378, 'G60': 379, 'T40': 380, 'F11': 381, 'F19': 382, 'W34': 383, 'R79': 384, 'B19': 385, 'B35': 386, 'Z89': 387, 'Z59': 388, 'L03': 389, 'R21': 390, 'E51': 391, 'E59': 392, 'E60': 393, 'D12': 394, 'R15': 395, 'M06': 396, 'D35': 397, 'E23': 398, 'G25': 399, 'N52': 400, 'I96': 401, 'D65': 402, 'B49': 403, 'E27': 404, 'T37': 405, 'H16': 406, 'K94': 407, 'I99': 408, 'T87': 409, 'I20': 410, 'M12': 411, 'B00': 412, 'H10': 413, 'G56': 414, 'Z22': 415, 'J40': 416, 'D43': 417, 'Y81': 418, 'E07': 419, 'T48': 420, 'C83': 421, 'M97': 422, 'M00': 423, 'M31': 424, 'H93': 425, 'Z63': 426, 'B36': 427, 'L76': 428, 'Z53': 429, 'N11': 430, 'R27': 431, 'L02': 432, 'S02': 433, 'W01': 434, 'I49': 435, 'J09': 436, 'N60': 437, 'B97': 438, 'N04': 439, 'E16': 440, 'J86': 441, 'R23': 442, 'E85': 443, 'M35': 444, 'M46': 445, 'L98': 446, 'I68': 447, 'S15': 448, 'S82': 449, 'B99': 450, 'K55': 451, 'K52': 452, 'W88': 453, 'L10': 454, 'G50': 455, 'H53': 456, 'M50': 457, 'W00': 458, 'G72': 459, 'A43': 460, 'M41': 461, 'R82': 462, 'T46': 463, 'T54': 464, 'Q89': 465, 'D49': 466, 'D46': 467, 'H31': 468, 'I62': 469, 'J13': 470, 'D48': 471, 'N99': 472, 'C61': 473, 'J34': 474, 'G90': 475, 'K61': 476, 'K44': 477, 'Q10': 478, 'C18': 479, 'K90': 480, 'R91': 481, 'N25': 482, 'N13': 483, 'R89': 484, 'E29': 485, 'M62': 486, 'K20': 487, 'C43': 488, 'K12': 489, 'F02': 490, 'R32': 491, 'E53': 492, 'I65': 493, 'I33': 494, 'D86': 495, 'J17': 496, 'N61': 497, 'I89': 498, 'C44': 499, 'J14': 500, 'Z88': 501, 'Z84': 502, 'I81': 503, 'E84': 504, 'L29': 505, 'R83': 506, 'L94': 507, 'T88': 508, 'Z81': 509, 'B45': 510, 'G04': 511, 'E05': 512, 'J70': 513, 'C50': 514, 'C32': 515, 'J10': 516, 'S00': 517, 'W17': 518, 'V23': 519, 'I23': 520, 'J80': 521, 'Z42': 522, 'H57': 523, 'H51': 524, 'G46': 525, 'J20': 526, 'I76': 527, 'G35': 528, 'E72': 529, 'R16': 530, 'I86': 531, 'G08': 532, 'F98': 533, 'F70': 534, 'S70': 535, 'C64': 536, 'M85': 537, 'C56': 538, 'F15': 539, 'K02': 540, 'M40': 541, 'M96': 542, 'C15': 543, 'A48': 544, 'G83': 545, 'K36': 546, 'K83': 547, 'K86': 548, 'S91': 549, 'Y93': 550, 'B86': 551, 'H15': 552, 'S52': 553, 'F01': 554, 'H55': 555, 'V03': 556, 'S60': 557, 'S50': 558, 'S90': 559, 'I05': 560, 'J62': 561, 'Q61': 562, 'Q44': 563, 'K42': 564, 'K43': 565, 'D57': 566, 'M16': 567, 'H91': 568, 'G45': 569, 'D51': 570, 'N02': 571, 'C67': 572, 'C73': 573, 'J04': 574, 'J61': 575, 'M75': 576, 'T85': 577, 'Y75': 578, 'Y79': 579, 'J85': 580, 'R44': 581, 'G06': 582, 'K68': 583, 'G95': 584, 'R59': 585, 'Y95': 586, 'N26': 587, 'L50': 588, 'M88': 589, 'M14': 590, 'D58': 591, 'Y90': 592, 'C54': 593, 'G71': 594, 'A60': 595, 'R85': 596, 'K58': 597, 'H04': 598, 'B34': 599, 'T71': 600, 'C72': 601, 'D33': 602, 'Q38': 603, 'M65': 604, 'C23': 605, 'C94': 606, 'F81': 607, 'S83': 608, 'B08': 609, 'S10': 610, 'S81': 611, 'A59': 612, 'N48': 613, 'S73': 614, 'V47': 615, 'L08': 616, 'F34': 617, 'T14': 618, 'H50': 619, 'O44': 620, 'O75': 621, 'O72': 622, 'O34': 623, 'O73': 624, 'O99': 625, 'W07': 626, 'N19': 627, 'Y82': 628, 'Q77': 629, 'E65': 630, 'S92': 631, 'R87': 632, 'N43': 633, 'I15': 634, 'E06': 635, 'C51': 636, 'C41': 637, 'S40': 638, 'I32': 639, 'C71': 640, 'D23': 641, 'G70': 642, 'D15': 643, 'J33': 644, 'Q28': 645, 'F29': 646, 'J38': 647, 'M80': 648, 'Z74': 649, 'D32': 650, 'Q23': 651, 'F45': 652, 'H30': 653, 'Y65': 654, 'G57': 655, 'T41': 656, 'C76': 657, 'M45': 658, 'M95': 659, 'R51': 660, 'R53': 661, 'H02': 662, 'E41': 663, 'C81': 664, 'G00': 665, 'J06': 666, 'G21': 667, 'K82': 668, 'D45': 669, 'N82': 670, 'N89': 671, 'L65': 672, 'C16': 673, 'K28': 674, 'V89': 675, 'Z28': 676, 'R42': 677, 'Z20': 678, 'A02': 679, 'D18': 680, 'Z49': 681, 'N94': 682, 'G03': 683, 'F42': 684, 'I43': 685, 'H17': 686, 'C53': 687, 'S51': 688, 'S31': 689, 'S21': 690, 'S71': 691, 'R05': 692, 'R61': 693, 'F06': 694, 'N42': 695, 'M51': 696, 'Q27': 697, 'R22': 698, 'F40': 699, 'S39': 700, 'W22': 701, 'A87': 702, 'L60': 703, 'Z76': 704, 'B16': 705, 'E09': 706, 'R76': 707, 'D13': 708, 'H49': 709, 'K08': 710, 'Q05': 711, 'H44': 712, 'L53': 713, 'Q90': 714, 'F71': 715, 'B90': 716, 'E63': 717, 'O32': 718, 'B91': 719, 'Q01': 720, 'L25': 721, 'J11': 722, 'N76': 723, 'Q21': 724, 'Z77': 725, 'H34': 726, 'H47': 727, 'D73': 728, 'Y73': 729, 'D76': 730, 'K46': 731, 'N93': 732, 'W06': 733, 'L90': 734, 'M11': 735, 'C84': 736, 'P27': 737, 'N50': 738, 'L70': 739, 'R52': 740, 'K71': 741, 'M30': 742, 'L92': 743, 'C09': 744, 'E13': 745, 'Z48': 746, 'T39': 747, 'S69': 748, 'O60': 749, 'O61': 750, 'R80': 751, 'C46': 752, 'L72': 753, 'E20': 754, 'A15': 755, 'N70': 756, 'D05': 757, 'L73': 758, 'K11': 759, 'T33': 760, 'T51': 761, 'M89': 762, 'R35': 763, 'S99': 764, 'Q24': 765, 'C04': 766, 'Z17': 767, 'J16': 768, 'L71': 769, 'L84': 770, 'K40': 771, 'V43': 772, 'R97': 773, 'N47': 774, 'W05': 775, 'D16': 776, 'Q67': 777, 'I83': 778, 'J42': 779, 'K27': 780, 'B27': 781, 'N45': 782, 'E01': 783, 'R01': 784, 'S26': 785, 'E61': 786, 'M84': 787, 'K14': 788, 'N85': 789, 'B17': 790, 'E70': 791, 'N80': 792, 'L30': 793, 'V29': 794, 'S45': 795, 'C93': 796, 'T21': 797, 'X16': 798, 'C80': 799, 'I78': 800, 'T47': 801, 'I09': 802, 'Z09': 803, 'V19': 804, 'K35': 805, 'O87': 806, 'A53': 807, 'G52': 808, 'N21': 809, 'N41': 810, 'Q60': 811, 'E28': 812, 'S35': 813, 'I22': 814, 'M43': 815, 'I30': 816, 'L95': 817, 'L28': 818, 'S20': 819, 'A52': 820, 'B39': 821, 'W13': 822, 'H81': 823, 'R14': 824, 'C24': 825, 'H59': 826, 'H05': 827, 'H01': 828, 'H27': 829, 'T49': 830, 'B48': 831, 'D09': 832, 'C85': 833, 'D17': 834, 'S30': 835, 'S05': 836, 'F33': 837, 'K13': 838, 'I38': 839, 'N90': 840, 'H46': 841, 'E79': 842, 'S09': 843, 'V09': 844, 'H00': 845, 'O41': 846, 'O88': 847, 'O71': 848, 'O26': 849, 'O86': 850, 'O62': 851, 'O65': 852, 'Z37': 853, 'Z3A': 854, 'O90': 855, 'I40': 856, 'C01': 857, 'D04': 858, 'G11': 859, 'Y04': 860, 'A08': 861, 'L82': 862, 'V87': 863, 'M07': 864, 'R54': 865, 'L01': 866, 'H66': 867, 'C05': 868, 'M87': 869, 'J82': 870, 'S63': 871, 'N83': 872, 'H74': 873, 'C20': 874, 'E26': 875, 'K05': 876, 'N92': 877, 'N72': 878, 'S43': 879, 'C88': 880, 'E31': 881, 'I28': 882, 'S61': 883, 'W11': 884, 'M24': 885, 'O31': 886, 'C48': 887, 'L44': 888, 'Q75': 889, 'L04': 890, 'O10': 891, 'O30': 892, 'O09': 893, 'D25': 894, 'H70': 895, 'A69': 896, 'C52': 897, 'Q39': 898, 'Q71': 899, 'Q40': 900, 'E73': 901, 'Q85': 902, 'N36': 903, 'R17': 904, 'R77': 905, 'C06': 906, 'L21': 907, 'K03': 908, 'C37': 909, 'S68': 910, 'M70': 911, 'F07': 912, 'S53': 913, 'J92': 914, 'H52': 915, 'B33': 916, 'H36': 917, 'J99': 918, 'N84': 919, 'E02': 920, 'Z62': 921, 'E74': 922, 'A88': 923, 'B47': 924, 'D3A': 925, 'A31': 926, 'L66': 927, 'B10': 928, 'M13': 929, 'L23': 930, 'W08': 931, 'N81': 932, 'V94': 933, 'G54': 934, 'B60': 935, 'Q03': 936, 'L80': 937, 'F22': 938, 'L74': 939, 'O94': 940, 'G94': 941, 'T75': 942, 'R03': 943, 'Q22': 944, 'K95': 945, 'K09': 946, 'T68': 947, 'Q12': 948, 'C45': 949, 'S46': 950, 'T19': 951, 'F64': 952, 'R12': 953, 'C17': 954, 'A49': 955, 'E56': 956, 'K00': 957, 'R71': 958, 'J03': 959, 'Q25': 960, 'A86': 961, 'D30': 962, 'G09': 963, 'B94': 964, 'B58': 965, 'F99': 966, 'S34': 967, 'N27': 968, 'W20': 969, 'H92': 970, 'Z71': 971, 'N73': 972, 'T31': 973, 'X08': 974, 'Y63': 975, 'V13': 976, 'G14': 977, 'A46': 978, 'A36': 979, 'H18': 980, 'S75': 981, 'H65': 982, 'I06': 983, 'M18': 984, 'B69': 985, 'B01': 986, 'K37': 987, 'M77': 988, 'X80': 989, 'A28': 990, 'W55': 991, 'O23': 992, 'O14': 993, 'F80': 994, 'T76': 995, 'X50': 996, 'T73': 997, 'L93': 998, 'C14': 999, 'T52': 1000, 'T59': 1001, 'N64': 1002, 'S28': 1003, 'W31': 1004, 'Y99': 1005, 'N91': 1006, 'S77': 1007, 'G58': 1008, 'M01': 1009, 'Q45': 1010, 'F23': 1011, 'T67': 1012, 'X30': 1013, 'C13': 1014, 'O33': 1015, 'N71': 1016, 'J21': 1017, 'C49': 1018, 'V57': 1019, 'S23': 1020, 'M61': 1021, 'Z60': 1022, 'D44': 1023, 'H71': 1024, 'O98': 1025, 'L12': 1026, 'G65': 1027, 'C26': 1028, 'D31': 1029, 'B87': 1030, 'M27': 1031, 'D56': 1032, 'A05': 1033, 'V48': 1034, 'S96': 1035, 'K60': 1036, 'X95': 1037, 'O70': 1038, 'S89': 1039, 'S87': 1040, 'Y33': 1041, 'A32': 1042, 'N16': 1043, 'H33': 1044, 'W12': 1045, 'T28': 1046, 'D03': 1047, 'R48': 1048, 'G37': 1049, 'D22': 1050, 'B54': 1051, 'N01': 1052, 'Y00': 1053, 'J31': 1054, 'S33': 1055, 'F88': 1056, 'O68': 1057, 'O76': 1058, 'O36': 1059, 'T07': 1060, 'H25': 1061, 'C11': 1062, 'F16': 1063, 'N95': 1064, 'M05': 1065, 'M71': 1066, 'S86': 1067, 'Q04': 1068, 'Y09': 1069, 'C95': 1070, 'D29': 1071, 'Z18': 1072, 'T24': 1073, 'E40': 1074, 'J60': 1075, 'N62': 1076, 'D78': 1077, 'I41': 1078, 'H20': 1079, 'C07': 1080, 'O15': 1081, 'O24': 1082, 'V28': 1083, 'D14': 1084, 'G10': 1085, 'D52': 1086, 'B30': 1087, 'D37': 1088, 'Q11': 1089, 'S03': 1090, 'Q79': 1091, 'M33': 1092, 'R36': 1093, 'D34': 1094, 'Z67': 1095, 'Z97': 1096, 'E75': 1097, 'B83': 1098, 'K30': 1099, 'R46': 1100, 'Y69': 1101, 'F55': 1102, 'L11': 1103, 'T23': 1104, 'L88': 1105, 'J36': 1106, 'F66': 1107, 'M83': 1108, 'Q87': 1109, 'C74': 1110, 'T22': 1111, 'C62': 1112, 'C02': 1113, 'B78': 1114, 'B65': 1115, 'A84': 1116, 'A85': 1117, 'D36': 1118, 'Q95': 1119, 'I75': 1120, 'E52': 1121, 'O22': 1122, 'Q32': 1123, 'Q86': 1124, 'F09': 1125, 'S49': 1126, 'S04': 1127, 'H60': 1128, 'A81': 1129, 'H73': 1130, 'G36': 1131, 'F95': 1132, 'S66': 1133, 'X93': 1134, 'E64': 1135, 'N15': 1136, 'S48': 1137, 'S44': 1138, 'S19': 1139, 'Q52': 1140, 'E08': 1141, 'Q02': 1142, 'Q99': 1143, 'C38': 1144, 'T66': 1145, 'A39': 1146, 'K06': 1147, 'A19': 1148, 'B53': 1149, 'A18': 1150, 'D71': 1151, 'Q63': 1152, 'Z65': 1153, 'S76': 1154, 'V59': 1155, 'F18': 1156, 'X31': 1157, 'E30': 1158, 'O11': 1159, 'O85': 1160, 'D10': 1161, 'E32': 1162, 'T65': 1163, 'N88': 1164, 'E34': 1165, 'S41': 1166, 'J63': 1167, 'D41': 1168, 'A50': 1169, 'H43': 1170, 'Z47': 1171, 'C55': 1172, 'Z57': 1173, 'X83': 1174, 'Y36': 1175, 'M93': 1176, 'J37': 1177, 'Q26': 1178, 'X78': 1179, 'Q96': 1180, 'D83': 1181, 'G13': 1182, 'L91': 1183, 'G23': 1184, 'C96': 1185, 'C31': 1186, 'V14': 1187, 'Z13': 1188, 'O45': 1189, 'P00': 1190, 'F44': 1191, 'M76': 1192, 'M26': 1193, 'O77': 1194, 'W24': 1195, 'T34': 1196, 'R84': 1197, 'J68': 1198, 'T20': 1199, 'S84': 1200, 'S29': 1201, 'S38': 1202, 'V44': 1203, 'V04': 1204, 'R90': 1205, 'O21': 1206, 'A63': 1207, 'S97': 1208, 'A54': 1209, 'V81': 1210, 'S88': 1211, 'L43': 1212, 'F54': 1213, 'W14': 1214, 'N97': 1215, 'K45': 1216, 'V86': 1217, 'N34': 1218, 'T69': 1219, 'B85': 1220, 'Q78': 1221, 'L87': 1222, 'Y74': 1223, 'N63': 1224, 'D27': 1225, 'E54': 1226, 'B09': 1227, 'F68': 1228, 'L59': 1229, 'G73': 1230, 'F78': 1231, 'R43': 1232, 'K38': 1233, 'O03': 1234, 'Z14': 1235, 'W90': 1236, 'M91': 1237, 'E50': 1238, 'Q07': 1239, 'E77': 1240, 'C70': 1241, 'G99': 1242, 'W74': 1243, 'C10': 1244, 'H72': 1245, 'W04': 1246, 'Y78': 1247, 'I88': 1248, 'C75': 1249, 'M08': 1250, 'D01': 1251, 'C66': 1252, 'B38': 1253, 'H75': 1254, 'I01': 1255, 'M20': 1256, 'G63': 1257, 'M42': 1258, 'C47': 1259, 'D28': 1260, 'D00': 1261, 'G32': 1262, 'O46': 1263, 'D74': 1264, 'S67': 1265, 'S55': 1266, 'S65': 1267, 'S57': 1268, 'B46': 1269, 'D60': 1270, 'J22': 1271, 'M23': 1272, 'X99': 1273, 'B57': 1274, 'Y70': 1275, 'Y72': 1276, 'S85': 1277, 'V05': 1278, 'V00': 1279, 'D26': 1280, 'J35': 1281, 'H95': 1282, 'M02': 1283, 'A57': 1284, 'O08': 1285, 'O02': 1286, 'W69': 1287, 'M22': 1288, 'L85': 1289, 'D21': 1290, 'G26': 1291, 'V20': 1292, 'Q18': 1293, 'C30': 1294, 'A17': 1295, 'V24': 1296, 'T56': 1297, 'V18': 1298, 'W54': 1299, 'N53': 1300, 'E71': 1301, 'V63': 1302, 'Z70': 1303, 'W25': 1304, 'Z11': 1305, 'H83': 1306, 'L22': 1307, 'B67': 1308, 'J67': 1309, 'T60': 1310, 'A07': 1311, 'H80': 1312, 'V80': 1313, 'W09': 1314, 'L13': 1315, 'X74': 1316, 'D11': 1317, 'A93': 1318, 'O42': 1319, 'O43': 1320, 'O13': 1321, 'Y77': 1322, 'O16': 1323, 'O69': 1324, 'G05': 1325, 'J05': 1326, 'F72': 1327, 'C57': 1328, 'Z30': 1329, 'W16': 1330, 'F94': 1331, 'Q35': 1332, 'L52': 1333, 'S47': 1334, 'O67': 1335, 'A83': 1336, 'V92': 1337, 'H21': 1338, 'A77': 1339, 'T15': 1340, 'K01': 1341, 'W21': 1342, 'C03': 1343, 'B50': 1344, 'C00': 1345, 'S54': 1346, 'Q66': 1347, 'W50': 1348, 'A80': 1349, 'Z56': 1350, 'Z29': 1351, 'P83': 1352, 'L51': 1353, 'N75': 1354, 'D02': 1355, 'F21': 1356, 'R92': 1357, 'X19': 1358, '10_0': 1359, '135_3': 1360, '149_1': 1361, '145_1': 1362, '107_3': 1363, '170_2': 1364, '112_2': 1365, '141_1': 1366, '93_2': 1367, '212_3': 1368, '159_1': 1369, '109_2': 1370, '160_3': 1371, '110_3': 1372, '110_0': 1373, '119_2': 1374, '158_0': 1375, '123_3': 1376, '84_1': 1377, '130_2': 1378, '95_2': 1379, '2_2': 1380, '135_2': 1381, '2_0': 1382, '108_3': 1383, '184_3': 1384, '163_2': 1385, 'dyn_198': 1386, '105_3': 1387, '101_2': 1388, '144_1': 1389, '130_0': 1390, '92_0': 1391, '5_0': 1392, '79_3': 1393, '109_3': 1394, '107_2': 1395, '93_1': 1396, '150_2': 1397, '109_1': 1398, '121_3': 1399, '101_3': 1400, '89_2': 1401, '233_0': 1402, '99_3': 1403, '12_3': 1404, '105_0': 1405, '148_2': 1406, '97_0': 1407, 'dyn_38': 1408, '147_0': 1409, '167_1': 1410, 'dyn_199': 1411, '4_0': 1412, '149_0': 1413, '154_1': 1414, '3_1': 1415, '144_2': 1416, 'dyn_134': 1417, '157_1': 1418, '113_2': 1419, '110_1': 1420, '89_1': 1421, '164_3': 1422, '152_1': 1423, '100_0': 1424, '155_1': 1425, '141_3': 1426, '189_3': 1427, '123_2': 1428, '108_2': 1429, '103_2': 1430, '80_0': 1431, '91_0': 1432, '131_0': 1433, '145_0': 1434, '97_3': 1435, '121_0': 1436, '209_2': 1437, '156_1': 1438, '130_1': 1439, '125_2': 1440, '78_1': 1441, '137_1': 1442, '103_0': 1443, '96_0': 1444, '81_2': 1445, '123_0': 1446, '13_3': 1447, '78_3': 1448, '189_1': 1449, '85_2': 1450, '82_2': 1451, '144_0': 1452, '119_1': 1453, '0_1': 1454, '13_2': 1455, '192_0': 1456, '130_3': 1457, '94_1': 1458, '100_1': 1459, '137_2': 1460, '0_0': 1461, '153_1': 1462, '132_1': 1463, '153_0': 1464, '88_2': 1465, '117_0': 1466, '105_2': 1467, '137_0': 1468, '209_0': 1469, '233_3': 1470, '78_0': 1471, '97_1': 1472, '157_0': 1473, '89_3': 1474, '80_2': 1475, '153_3': 1476, '160_0': 1477, '80_3': 1478, '79_1': 1479, '154_0': 1480, '85_1': 1481, '149_2': 1482, '12_2': 1483, '148_1': 1484, '132_0': 1485, '190_3': 1486, '104_0': 1487, '6_1': 1488, '98_1': 1489, '190_1': 1490, '22_2': 1491, '103_1': 1492, '138_1': 1493, '92_2': 1494, '156_0': 1495, '120_3': 1496, '27_1': 1497, '97_2': 1498, '107_0': 1499, '208_1': 1500, '211_2': 1501, '104_3': 1502, '33_1': 1503, '124_0': 1504, 'dyn_196': 1505, '104_1': 1506, '164_2': 1507, '121_1': 1508, '92_3': 1509, 'dyn_143': 1510, '127_2': 1511, '188_2': 1512, '27_2': 1513, '88_0': 1514, '5_3': 1515, '211_3': 1516, '5_2': 1517, '184_0': 1518, '208_0': 1519, '192_2': 1520, '209_3': 1521, 'dyn_186': 1522, '111_0': 1523, '13_0': 1524, '128_1': 1525, '160_1': 1526, '98_3': 1527, '116_1': 1528, '122_1': 1529, '125_3': 1530, '163_0': 1531, '1_1': 1532, '2_1': 1533, '212_2': 1534, '33_0': 1535, '1_3': 1536, '116_2': 1537, '80_1': 1538, '96_2': 1539, '132_3': 1540, '91_3': 1541, '155_2': 1542, '3_2': 1543, '131_3': 1544, 'dyn_165': 1545, '3_3': 1546, '124_3': 1547, '12_1': 1548, '104_2': 1549, '188_3': 1550, '115_0': 1551, '163_3': 1552, '91_2': 1553, '158_3': 1554, '161_1': 1555, '84_2': 1556, '100_2': 1557, '158_2': 1558, '212_1': 1559, '139_2': 1560, '135_1': 1561, '27_0': 1562, '140_0': 1563, '146_3': 1564, '120_2': 1565, '79_0': 1566, '162_3': 1567, 'dyn_185': 1568, '126_2': 1569, '106_0': 1570, 'dyn_178': 1571, '141_2': 1572, '0_3': 1573, '95_1': 1574, '136_2': 1575, '1_2': 1576, '6_0': 1577, '119_0': 1578, '213_3': 1579, '78_2': 1580, '126_0': 1581, '106_3': 1582, '163_1': 1583, '131_1': 1584, '96_3': 1585, '12_0': 1586, '111_1': 1587, '138_0': 1588, '112_3': 1589, '110_2': 1590, '192_3': 1591, '139_0': 1592, '116_0': 1593, '111_3': 1594, '117_2': 1595, '132_2': 1596, '162_1': 1597, '98_2': 1598, '94_0': 1599, '87_1': 1600, '82_1': 1601, '10_2': 1602, '189_2': 1603, '100_3': 1604, '140_2': 1605, '154_3': 1606, '146_1': 1607, '122_3': 1608, '131_2': 1609, '164_1': 1610, '101_0': 1611, '82_3': 1612, '81_0': 1613, '86_2': 1614, '125_1': 1615, 'dyn_142': 1616, '159_2': 1617, '126_3': 1618, '149_3': 1619, '84_0': 1620, '161_0': 1621, '101_1': 1622, '22_1': 1623, '153_2': 1624, 'dyn_187': 1625, '188_1': 1626, '162_2': 1627, '90_3': 1628, '87_0': 1629, '85_3': 1630, '139_3': 1631, '212_0': 1632, '146_2': 1633, '133_1': 1634, '127_1': 1635, '5_1': 1636, '137_3': 1637, '157_2': 1638, '161_2': 1639, '22_0': 1640, '83_0': 1641, 'dyn_31': 1642, '184_2': 1643, '87_3': 1644, '3_0': 1645, '208_2': 1646, '108_0': 1647, '141_0': 1648, '90_2': 1649, '148_0': 1650, '124_1': 1651, '147_1': 1652, '167_0': 1653, '157_3': 1654, '94_3': 1655, '107_1': 1656, '1_0': 1657, '2_3': 1658, '160_2': 1659, '13_1': 1660, '4_1': 1661, '192_1': 1662, '133_3': 1663, '213_1': 1664, '86_0': 1665, '86_3': 1666, 'dyn_214': 1667, '123_1': 1668, '10_1': 1669, '89_0': 1670, '155_0': 1671, '109_0': 1672, '98_0': 1673, '85_0': 1674, '113_1': 1675, '120_1': 1676, '112_0': 1677, '184_1': 1678, '95_0': 1679, '102_2': 1680, '108_1': 1681, '138_2': 1682, '116_3': 1683, '150_0': 1684, '159_3': 1685, '146_0': 1686, '121_2': 1687, '189_0': 1688, '133_0': 1689, '188_0': 1690, '91_1': 1691, '208_3': 1692, '120_0': 1693, '115_2': 1694, '103_3': 1695, '211_1': 1696, '106_2': 1697, '158_1': 1698, '147_2': 1699, '164_0': 1700, 'dyn_151': 1701, '211_0': 1702, '83_3': 1703, '145_2': 1704, '79_2': 1705, '102_1': 1706, '112_1': 1707, '106_1': 1708, '190_2': 1709, '144_3': 1710, '27_3': 1711, '161_3': 1712, '90_0': 1713, '122_2': 1714, '83_2': 1715, '83_1': 1716, '233_1': 1717, '127_0': 1718, '99_1': 1719, '156_2': 1720, '233_2': 1721, '127_3': 1722, '81_1': 1723, '99_0': 1724, 'dyn_114': 1725, '124_2': 1726, '115_1': 1727, '128_3': 1728, '95_3': 1729, '0_2': 1730, '122_0': 1731, '136_1': 1732, '156_3': 1733, '113_0': 1734, '81_3': 1735, '102_0': 1736, '190_0': 1737, '102_3': 1738, '117_1': 1739, '170_0': 1740, '105_1': 1741, '139_1': 1742, '140_1': 1743, '99_2': 1744, '209_1': 1745, '90_1': 1746, '136_0': 1747, '128_2': 1748, '152_0': 1749, '88_3': 1750, '82_0': 1751, '128_0': 1752, '159_0': 1753, '213_2': 1754, '87_2': 1755, '168_1': 1756, '168_0': 1757, '96_1': 1758, '154_2': 1759, '111_2': 1760, '135_0': 1761, '86_1': 1762, '148_3': 1763, '162_0': 1764, '133_2': 1765, '136_3': 1766, '93_3': 1767, '213_0': 1768, '170_3': 1769, '150_3': 1770, '94_2': 1771, '126_1': 1772, '118_0': 1773, '93_0': 1774, '125_0': 1775, '150_1': 1776, '88_1': 1777, '92_1': 1778, '170_1': 1779, 'UNK': 1780}, 'idx2token': {0: 'PAD', 1: 'CLS', 2: 'SEP', 3: 'J44', 4: 'K72', 5: 'R57', 6: 'J96', 7: 'I44', 8: 'I82', 9: 'I48', 10: 'D69', 11: 'I46', 12: 'I10', 13: 'E78', 14: 'Z79', 15: 'M47', 16: 'I73', 17: 'I25', 18: 'Z87', 19: 'Z96', 20: 'J01', 21: 'F41', 22: 'G47', 23: 'R60', 24: 'D50', 25: 'R50', 26: 'M19', 27: 'Y92', 28: 'Z82', 29: 'Z78', 30: 'Z51', 31: 'Z66', 32: 'Z99', 33: 'J45', 34: 'M79', 35: 'T45', 36: 'I21', 37: 'J18', 38: 'I50', 39: 'T82', 40: 'Q20', 41: 'C33', 42: 'E87', 43: 'R69', 44: 'I12', 45: 'N18', 46: 'R19', 47: 'D64', 48: 'J98', 49: 'D70', 50: 'I95', 51: 'R00', 52: 'K80', 53: 'C79', 54: 'G93', 55: 'G91', 56: 'C34', 57: 'F05', 58: 'F17', 59: 'G51', 60: 'M21', 61: 'E03', 62: 'M81', 63: 'R73', 64: 'T38', 65: 'D72', 66: 'R39', 67: 'A40', 68: 'N39', 69: 'A04', 70: 'T78', 71: 'K22', 72: 'B37', 73: 'M32', 74: 'E89', 75: 'I34', 76: 'Z00', 77: 'N17', 78: 'N00', 79: 'R09', 80: 'R10', 81: 'K56', 82: 'K59', 83: 'J32', 84: 'R45', 85: 'J47', 86: 'K57', 87: 'K29', 88: 'K91', 89: 'R78', 90: 'K76', 91: 'S37', 92: 'E11', 93: 'X58', 94: 'Z86', 95: 'R31', 96: 'Z23', 97: 'B96', 98: 'R41', 99: 'K21', 100: 'C19', 101: 'D66', 102: 'C90', 103: 'E44', 104: 'T81', 105: 'K41', 106: 'I47', 107: 'E66', 108: 'R68', 109: 'K66', 110: 'Z91', 111: 'M15', 112: 'Z68', 113: 'S62', 114: 'B95', 115: 'R65', 116: 'A41', 117: 'J91', 118: 'C78', 119: 'C21', 120: 'E46', 121: 'Q62', 122: 'T83', 123: 'N12', 124: 'K31', 125: 'D62', 126: 'E88', 127: 'M17', 128: 'Z43', 129: 'Y84', 130: 'F84', 131: 'Q43', 132: 'I42', 133: 'N28', 134: 'M10', 135: 'N05', 136: 'L89', 137: 'Z85', 138: 'Z95', 139: 'M25', 140: 'K26', 141: 'K92', 142: 'F32', 143: 'I69', 144: 'J15', 145: 'D75', 146: 'S27', 147: 'J69', 148: 'S22', 149: 'S06', 150: 'E24', 151: 'S42', 152: 'S01', 153: 'F10', 154: 'I24', 155: 'I80', 156: 'G40', 157: 'K85', 158: 'I70', 159: 'I16', 160: 'J95', 161: 'D63', 162: 'F20', 163: 'W18', 164: 'H26', 165: 'Z72', 166: 'L40', 167: 'L57', 168: 'M72', 169: 'J30', 170: 'H61', 171: 'I66', 172: 'N03', 173: 'G81', 174: 'F91', 175: 'S12', 176: 'S14', 177: 'G96', 178: 'S93', 179: 'W10', 180: 'F12', 181: 'M53', 182: 'C7B', 183: 'I87', 184: 'C7A', 185: 'F43', 186: 'I97', 187: 'Y83', 188: 'K74', 189: 'K65', 190: 'E43', 191: 'D68', 192: 'R18', 193: 'T80', 194: 'K75', 195: 'R62', 196: 'T44', 197: 'N23', 198: 'R94', 199: 'L81', 200: 'Z21', 201: 'S72', 202: 'S25', 203: 'I13', 204: 'I08', 205: 'M54', 206: 'Z45', 207: 'R74', 208: 'S24', 209: 'S32', 210: 'R33', 211: 'V27', 212: 'S80', 213: 'R64', 214: 'R13', 215: 'T18', 216: 'R26', 217: 'Z16', 218: 'D61', 219: 'Y71', 220: 'K70', 221: 'E55', 222: 'D53', 223: 'T50', 224: 'N31', 225: 'D47', 226: 'E04', 227: 'I71', 228: 'J39', 229: 'I63', 230: 'I61', 231: 'R47', 232: 'R06', 233: 'R29', 234: 'G89', 235: 'H40', 236: 'E86', 237: 'I27', 238: 'G61', 239: 'H35', 240: 'M48', 241: 'I31', 242: 'F03', 243: 'K81', 244: 'G97', 245: 'I67', 246: 'C91', 247: 'F25', 248: 'Z98', 249: 'M94', 250: 'I35', 251: 'J94', 252: 'L97', 253: 'T84', 254: 'N40', 255: 'Q64', 256: 'E83', 257: 'G12', 258: 'Z93', 259: 'G31', 260: 'T17', 261: 'R56', 262: 'N10', 263: 'Z46', 264: 'N14', 265: 'T36', 266: 'F30', 267: 'I60', 268: 'R40', 269: 'R20', 270: 'G30', 271: 'J81', 272: 'R07', 273: 'L27', 274: 'K25', 275: 'C25', 276: 'I74', 277: 'I85', 278: 'I77', 279: 'G92', 280: 'I11', 281: 'L05', 282: 'R58', 283: 'C82', 284: 'M86', 285: 'N35', 286: 'R25', 287: 'E21', 288: 'S36', 289: 'M60', 290: 'S13', 291: 'N49', 292: 'L24', 293: 'E22', 294: 'I51', 295: 'N32', 296: 'R63', 297: 'H90', 298: 'K51', 299: 'F14', 300: 'F13', 301: 'R34', 302: 'I07', 303: 'R11', 304: 'Z90', 305: 'I36', 306: 'E80', 307: 'R30', 308: 'T79', 309: 'G62', 310: 'I72', 311: 'D55', 312: 'R55', 313: 'K62', 314: 'G20', 315: 'G43', 316: 'Z80', 317: 'J41', 318: 'B02', 319: 'F04', 320: 'J84', 321: 'F90', 322: 'R93', 323: 'G82', 324: 'B15', 325: 'K64', 326: 'I26', 327: 'F50', 328: 'F39', 329: 'F28', 330: 'F51', 331: 'F60', 332: 'T42', 333: 'F31', 334: 'I45', 335: 'K04', 336: 'R49', 337: 'V49', 338: 'M99', 339: 'Z75', 340: 'E10', 341: 'T86', 342: 'M34', 343: 'M1A', 344: 'H54', 345: 'Z94', 346: 'N30', 347: 'A09', 348: 'J02', 349: 'K63', 350: 'K67', 351: 'J93', 352: 'G24', 353: 'T43', 354: 'C77', 355: 'J90', 356: 'C22', 357: 'B18', 358: 'D80', 359: 'J12', 360: 'B25', 361: 'D59', 362: 'G44', 363: 'Z83', 364: 'B44', 365: 'B59', 366: 'D89', 367: 'C92', 368: 'R04', 369: 'H11', 370: 'S11', 371: 'B20', 372: 'J43', 373: 'G80', 374: 'F79', 375: 'W19', 376: 'Z92', 377: 'N20', 378: 'K50', 379: 'G60', 380: 'T40', 381: 'F11', 382: 'F19', 383: 'W34', 384: 'R79', 385: 'B19', 386: 'B35', 387: 'Z89', 388: 'Z59', 389: 'L03', 390: 'R21', 391: 'E51', 392: 'E59', 393: 'E60', 394: 'D12', 395: 'R15', 396: 'M06', 397: 'D35', 398: 'E23', 399: 'G25', 400: 'N52', 401: 'I96', 402: 'D65', 403: 'B49', 404: 'E27', 405: 'T37', 406: 'H16', 407: 'K94', 408: 'I99', 409: 'T87', 410: 'I20', 411: 'M12', 412: 'B00', 413: 'H10', 414: 'G56', 415: 'Z22', 416: 'J40', 417: 'D43', 418: 'Y81', 419: 'E07', 420: 'T48', 421: 'C83', 422: 'M97', 423: 'M00', 424: 'M31', 425: 'H93', 426: 'Z63', 427: 'B36', 428: 'L76', 429: 'Z53', 430: 'N11', 431: 'R27', 432: 'L02', 433: 'S02', 434: 'W01', 435: 'I49', 436: 'J09', 437: 'N60', 438: 'B97', 439: 'N04', 440: 'E16', 441: 'J86', 442: 'R23', 443: 'E85', 444: 'M35', 445: 'M46', 446: 'L98', 447: 'I68', 448: 'S15', 449: 'S82', 450: 'B99', 451: 'K55', 452: 'K52', 453: 'W88', 454: 'L10', 455: 'G50', 456: 'H53', 457: 'M50', 458: 'W00', 459: 'G72', 460: 'A43', 461: 'M41', 462: 'R82', 463: 'T46', 464: 'T54', 465: 'Q89', 466: 'D49', 467: 'D46', 468: 'H31', 469: 'I62', 470: 'J13', 471: 'D48', 472: 'N99', 473: 'C61', 474: 'J34', 475: 'G90', 476: 'K61', 477: 'K44', 478: 'Q10', 479: 'C18', 480: 'K90', 481: 'R91', 482: 'N25', 483: 'N13', 484: 'R89', 485: 'E29', 486: 'M62', 487: 'K20', 488: 'C43', 489: 'K12', 490: 'F02', 491: 'R32', 492: 'E53', 493: 'I65', 494: 'I33', 495: 'D86', 496: 'J17', 497: 'N61', 498: 'I89', 499: 'C44', 500: 'J14', 501: 'Z88', 502: 'Z84', 503: 'I81', 504: 'E84', 505: 'L29', 506: 'R83', 507: 'L94', 508: 'T88', 509: 'Z81', 510: 'B45', 511: 'G04', 512: 'E05', 513: 'J70', 514: 'C50', 515: 'C32', 516: 'J10', 517: 'S00', 518: 'W17', 519: 'V23', 520: 'I23', 521: 'J80', 522: 'Z42', 523: 'H57', 524: 'H51', 525: 'G46', 526: 'J20', 527: 'I76', 528: 'G35', 529: 'E72', 530: 'R16', 531: 'I86', 532: 'G08', 533: 'F98', 534: 'F70', 535: 'S70', 536: 'C64', 537: 'M85', 538: 'C56', 539: 'F15', 540: 'K02', 541: 'M40', 542: 'M96', 543: 'C15', 544: 'A48', 545: 'G83', 546: 'K36', 547: 'K83', 548: 'K86', 549: 'S91', 550: 'Y93', 551: 'B86', 552: 'H15', 553: 'S52', 554: 'F01', 555: 'H55', 556: 'V03', 557: 'S60', 558: 'S50', 559: 'S90', 560: 'I05', 561: 'J62', 562: 'Q61', 563: 'Q44', 564: 'K42', 565: 'K43', 566: 'D57', 567: 'M16', 568: 'H91', 569: 'G45', 570: 'D51', 571: 'N02', 572: 'C67', 573: 'C73', 574: 'J04', 575: 'J61', 576: 'M75', 577: 'T85', 578: 'Y75', 579: 'Y79', 580: 'J85', 581: 'R44', 582: 'G06', 583: 'K68', 584: 'G95', 585: 'R59', 586: 'Y95', 587: 'N26', 588: 'L50', 589: 'M88', 590: 'M14', 591: 'D58', 592: 'Y90', 593: 'C54', 594: 'G71', 595: 'A60', 596: 'R85', 597: 'K58', 598: 'H04', 599: 'B34', 600: 'T71', 601: 'C72', 602: 'D33', 603: 'Q38', 604: 'M65', 605: 'C23', 606: 'C94', 607: 'F81', 608: 'S83', 609: 'B08', 610: 'S10', 611: 'S81', 612: 'A59', 613: 'N48', 614: 'S73', 615: 'V47', 616: 'L08', 617: 'F34', 618: 'T14', 619: 'H50', 620: 'O44', 621: 'O75', 622: 'O72', 623: 'O34', 624: 'O73', 625: 'O99', 626: 'W07', 627: 'N19', 628: 'Y82', 629: 'Q77', 630: 'E65', 631: 'S92', 632: 'R87', 633: 'N43', 634: 'I15', 635: 'E06', 636: 'C51', 637: 'C41', 638: 'S40', 639: 'I32', 640: 'C71', 641: 'D23', 642: 'G70', 643: 'D15', 644: 'J33', 645: 'Q28', 646: 'F29', 647: 'J38', 648: 'M80', 649: 'Z74', 650: 'D32', 651: 'Q23', 652: 'F45', 653: 'H30', 654: 'Y65', 655: 'G57', 656: 'T41', 657: 'C76', 658: 'M45', 659: 'M95', 660: 'R51', 661: 'R53', 662: 'H02', 663: 'E41', 664: 'C81', 665: 'G00', 666: 'J06', 667: 'G21', 668: 'K82', 669: 'D45', 670: 'N82', 671: 'N89', 672: 'L65', 673: 'C16', 674: 'K28', 675: 'V89', 676: 'Z28', 677: 'R42', 678: 'Z20', 679: 'A02', 680: 'D18', 681: 'Z49', 682: 'N94', 683: 'G03', 684: 'F42', 685: 'I43', 686: 'H17', 687: 'C53', 688: 'S51', 689: 'S31', 690: 'S21', 691: 'S71', 692: 'R05', 693: 'R61', 694: 'F06', 695: 'N42', 696: 'M51', 697: 'Q27', 698: 'R22', 699: 'F40', 700: 'S39', 701: 'W22', 702: 'A87', 703: 'L60', 704: 'Z76', 705: 'B16', 706: 'E09', 707: 'R76', 708: 'D13', 709: 'H49', 710: 'K08', 711: 'Q05', 712: 'H44', 713: 'L53', 714: 'Q90', 715: 'F71', 716: 'B90', 717: 'E63', 718: 'O32', 719: 'B91', 720: 'Q01', 721: 'L25', 722: 'J11', 723: 'N76', 724: 'Q21', 725: 'Z77', 726: 'H34', 727: 'H47', 728: 'D73', 729: 'Y73', 730: 'D76', 731: 'K46', 732: 'N93', 733: 'W06', 734: 'L90', 735: 'M11', 736: 'C84', 737: 'P27', 738: 'N50', 739: 'L70', 740: 'R52', 741: 'K71', 742: 'M30', 743: 'L92', 744: 'C09', 745: 'E13', 746: 'Z48', 747: 'T39', 748: 'S69', 749: 'O60', 750: 'O61', 751: 'R80', 752: 'C46', 753: 'L72', 754: 'E20', 755: 'A15', 756: 'N70', 757: 'D05', 758: 'L73', 759: 'K11', 760: 'T33', 761: 'T51', 762: 'M89', 763: 'R35', 764: 'S99', 765: 'Q24', 766: 'C04', 767: 'Z17', 768: 'J16', 769: 'L71', 770: 'L84', 771: 'K40', 772: 'V43', 773: 'R97', 774: 'N47', 775: 'W05', 776: 'D16', 777: 'Q67', 778: 'I83', 779: 'J42', 780: 'K27', 781: 'B27', 782: 'N45', 783: 'E01', 784: 'R01', 785: 'S26', 786: 'E61', 787: 'M84', 788: 'K14', 789: 'N85', 790: 'B17', 791: 'E70', 792: 'N80', 793: 'L30', 794: 'V29', 795: 'S45', 796: 'C93', 797: 'T21', 798: 'X16', 799: 'C80', 800: 'I78', 801: 'T47', 802: 'I09', 803: 'Z09', 804: 'V19', 805: 'K35', 806: 'O87', 807: 'A53', 808: 'G52', 809: 'N21', 810: 'N41', 811: 'Q60', 812: 'E28', 813: 'S35', 814: 'I22', 815: 'M43', 816: 'I30', 817: 'L95', 818: 'L28', 819: 'S20', 820: 'A52', 821: 'B39', 822: 'W13', 823: 'H81', 824: 'R14', 825: 'C24', 826: 'H59', 827: 'H05', 828: 'H01', 829: 'H27', 830: 'T49', 831: 'B48', 832: 'D09', 833: 'C85', 834: 'D17', 835: 'S30', 836: 'S05', 837: 'F33', 838: 'K13', 839: 'I38', 840: 'N90', 841: 'H46', 842: 'E79', 843: 'S09', 844: 'V09', 845: 'H00', 846: 'O41', 847: 'O88', 848: 'O71', 849: 'O26', 850: 'O86', 851: 'O62', 852: 'O65', 853: 'Z37', 854: 'Z3A', 855: 'O90', 856: 'I40', 857: 'C01', 858: 'D04', 859: 'G11', 860: 'Y04', 861: 'A08', 862: 'L82', 863: 'V87', 864: 'M07', 865: 'R54', 866: 'L01', 867: 'H66', 868: 'C05', 869: 'M87', 870: 'J82', 871: 'S63', 872: 'N83', 873: 'H74', 874: 'C20', 875: 'E26', 876: 'K05', 877: 'N92', 878: 'N72', 879: 'S43', 880: 'C88', 881: 'E31', 882: 'I28', 883: 'S61', 884: 'W11', 885: 'M24', 886: 'O31', 887: 'C48', 888: 'L44', 889: 'Q75', 890: 'L04', 891: 'O10', 892: 'O30', 893: 'O09', 894: 'D25', 895: 'H70', 896: 'A69', 897: 'C52', 898: 'Q39', 899: 'Q71', 900: 'Q40', 901: 'E73', 902: 'Q85', 903: 'N36', 904: 'R17', 905: 'R77', 906: 'C06', 907: 'L21', 908: 'K03', 909: 'C37', 910: 'S68', 911: 'M70', 912: 'F07', 913: 'S53', 914: 'J92', 915: 'H52', 916: 'B33', 917: 'H36', 918: 'J99', 919: 'N84', 920: 'E02', 921: 'Z62', 922: 'E74', 923: 'A88', 924: 'B47', 925: 'D3A', 926: 'A31', 927: 'L66', 928: 'B10', 929: 'M13', 930: 'L23', 931: 'W08', 932: 'N81', 933: 'V94', 934: 'G54', 935: 'B60', 936: 'Q03', 937: 'L80', 938: 'F22', 939: 'L74', 940: 'O94', 941: 'G94', 942: 'T75', 943: 'R03', 944: 'Q22', 945: 'K95', 946: 'K09', 947: 'T68', 948: 'Q12', 949: 'C45', 950: 'S46', 951: 'T19', 952: 'F64', 953: 'R12', 954: 'C17', 955: 'A49', 956: 'E56', 957: 'K00', 958: 'R71', 959: 'J03', 960: 'Q25', 961: 'A86', 962: 'D30', 963: 'G09', 964: 'B94', 965: 'B58', 966: 'F99', 967: 'S34', 968: 'N27', 969: 'W20', 970: 'H92', 971: 'Z71', 972: 'N73', 973: 'T31', 974: 'X08', 975: 'Y63', 976: 'V13', 977: 'G14', 978: 'A46', 979: 'A36', 980: 'H18', 981: 'S75', 982: 'H65', 983: 'I06', 984: 'M18', 985: 'B69', 986: 'B01', 987: 'K37', 988: 'M77', 989: 'X80', 990: 'A28', 991: 'W55', 992: 'O23', 993: 'O14', 994: 'F80', 995: 'T76', 996: 'X50', 997: 'T73', 998: 'L93', 999: 'C14', 1000: 'T52', 1001: 'T59', 1002: 'N64', 1003: 'S28', 1004: 'W31', 1005: 'Y99', 1006: 'N91', 1007: 'S77', 1008: 'G58', 1009: 'M01', 1010: 'Q45', 1011: 'F23', 1012: 'T67', 1013: 'X30', 1014: 'C13', 1015: 'O33', 1016: 'N71', 1017: 'J21', 1018: 'C49', 1019: 'V57', 1020: 'S23', 1021: 'M61', 1022: 'Z60', 1023: 'D44', 1024: 'H71', 1025: 'O98', 1026: 'L12', 1027: 'G65', 1028: 'C26', 1029: 'D31', 1030: 'B87', 1031: 'M27', 1032: 'D56', 1033: 'A05', 1034: 'V48', 1035: 'S96', 1036: 'K60', 1037: 'X95', 1038: 'O70', 1039: 'S89', 1040: 'S87', 1041: 'Y33', 1042: 'A32', 1043: 'N16', 1044: 'H33', 1045: 'W12', 1046: 'T28', 1047: 'D03', 1048: 'R48', 1049: 'G37', 1050: 'D22', 1051: 'B54', 1052: 'N01', 1053: 'Y00', 1054: 'J31', 1055: 'S33', 1056: 'F88', 1057: 'O68', 1058: 'O76', 1059: 'O36', 1060: 'T07', 1061: 'H25', 1062: 'C11', 1063: 'F16', 1064: 'N95', 1065: 'M05', 1066: 'M71', 1067: 'S86', 1068: 'Q04', 1069: 'Y09', 1070: 'C95', 1071: 'D29', 1072: 'Z18', 1073: 'T24', 1074: 'E40', 1075: 'J60', 1076: 'N62', 1077: 'D78', 1078: 'I41', 1079: 'H20', 1080: 'C07', 1081: 'O15', 1082: 'O24', 1083: 'V28', 1084: 'D14', 1085: 'G10', 1086: 'D52', 1087: 'B30', 1088: 'D37', 1089: 'Q11', 1090: 'S03', 1091: 'Q79', 1092: 'M33', 1093: 'R36', 1094: 'D34', 1095: 'Z67', 1096: 'Z97', 1097: 'E75', 1098: 'B83', 1099: 'K30', 1100: 'R46', 1101: 'Y69', 1102: 'F55', 1103: 'L11', 1104: 'T23', 1105: 'L88', 1106: 'J36', 1107: 'F66', 1108: 'M83', 1109: 'Q87', 1110: 'C74', 1111: 'T22', 1112: 'C62', 1113: 'C02', 1114: 'B78', 1115: 'B65', 1116: 'A84', 1117: 'A85', 1118: 'D36', 1119: 'Q95', 1120: 'I75', 1121: 'E52', 1122: 'O22', 1123: 'Q32', 1124: 'Q86', 1125: 'F09', 1126: 'S49', 1127: 'S04', 1128: 'H60', 1129: 'A81', 1130: 'H73', 1131: 'G36', 1132: 'F95', 1133: 'S66', 1134: 'X93', 1135: 'E64', 1136: 'N15', 1137: 'S48', 1138: 'S44', 1139: 'S19', 1140: 'Q52', 1141: 'E08', 1142: 'Q02', 1143: 'Q99', 1144: 'C38', 1145: 'T66', 1146: 'A39', 1147: 'K06', 1148: 'A19', 1149: 'B53', 1150: 'A18', 1151: 'D71', 1152: 'Q63', 1153: 'Z65', 1154: 'S76', 1155: 'V59', 1156: 'F18', 1157: 'X31', 1158: 'E30', 1159: 'O11', 1160: 'O85', 1161: 'D10', 1162: 'E32', 1163: 'T65', 1164: 'N88', 1165: 'E34', 1166: 'S41', 1167: 'J63', 1168: 'D41', 1169: 'A50', 1170: 'H43', 1171: 'Z47', 1172: 'C55', 1173: 'Z57', 1174: 'X83', 1175: 'Y36', 1176: 'M93', 1177: 'J37', 1178: 'Q26', 1179: 'X78', 1180: 'Q96', 1181: 'D83', 1182: 'G13', 1183: 'L91', 1184: 'G23', 1185: 'C96', 1186: 'C31', 1187: 'V14', 1188: 'Z13', 1189: 'O45', 1190: 'P00', 1191: 'F44', 1192: 'M76', 1193: 'M26', 1194: 'O77', 1195: 'W24', 1196: 'T34', 1197: 'R84', 1198: 'J68', 1199: 'T20', 1200: 'S84', 1201: 'S29', 1202: 'S38', 1203: 'V44', 1204: 'V04', 1205: 'R90', 1206: 'O21', 1207: 'A63', 1208: 'S97', 1209: 'A54', 1210: 'V81', 1211: 'S88', 1212: 'L43', 1213: 'F54', 1214: 'W14', 1215: 'N97', 1216: 'K45', 1217: 'V86', 1218: 'N34', 1219: 'T69', 1220: 'B85', 1221: 'Q78', 1222: 'L87', 1223: 'Y74', 1224: 'N63', 1225: 'D27', 1226: 'E54', 1227: 'B09', 1228: 'F68', 1229: 'L59', 1230: 'G73', 1231: 'F78', 1232: 'R43', 1233: 'K38', 1234: 'O03', 1235: 'Z14', 1236: 'W90', 1237: 'M91', 1238: 'E50', 1239: 'Q07', 1240: 'E77', 1241: 'C70', 1242: 'G99', 1243: 'W74', 1244: 'C10', 1245: 'H72', 1246: 'W04', 1247: 'Y78', 1248: 'I88', 1249: 'C75', 1250: 'M08', 1251: 'D01', 1252: 'C66', 1253: 'B38', 1254: 'H75', 1255: 'I01', 1256: 'M20', 1257: 'G63', 1258: 'M42', 1259: 'C47', 1260: 'D28', 1261: 'D00', 1262: 'G32', 1263: 'O46', 1264: 'D74', 1265: 'S67', 1266: 'S55', 1267: 'S65', 1268: 'S57', 1269: 'B46', 1270: 'D60', 1271: 'J22', 1272: 'M23', 1273: 'X99', 1274: 'B57', 1275: 'Y70', 1276: 'Y72', 1277: 'S85', 1278: 'V05', 1279: 'V00', 1280: 'D26', 1281: 'J35', 1282: 'H95', 1283: 'M02', 1284: 'A57', 1285: 'O08', 1286: 'O02', 1287: 'W69', 1288: 'M22', 1289: 'L85', 1290: 'D21', 1291: 'G26', 1292: 'V20', 1293: 'Q18', 1294: 'C30', 1295: 'A17', 1296: 'V24', 1297: 'T56', 1298: 'V18', 1299: 'W54', 1300: 'N53', 1301: 'E71', 1302: 'V63', 1303: 'Z70', 1304: 'W25', 1305: 'Z11', 1306: 'H83', 1307: 'L22', 1308: 'B67', 1309: 'J67', 1310: 'T60', 1311: 'A07', 1312: 'H80', 1313: 'V80', 1314: 'W09', 1315: 'L13', 1316: 'X74', 1317: 'D11', 1318: 'A93', 1319: 'O42', 1320: 'O43', 1321: 'O13', 1322: 'Y77', 1323: 'O16', 1324: 'O69', 1325: 'G05', 1326: 'J05', 1327: 'F72', 1328: 'C57', 1329: 'Z30', 1330: 'W16', 1331: 'F94', 1332: 'Q35', 1333: 'L52', 1334: 'S47', 1335: 'O67', 1336: 'A83', 1337: 'V92', 1338: 'H21', 1339: 'A77', 1340: 'T15', 1341: 'K01', 1342: 'W21', 1343: 'C03', 1344: 'B50', 1345: 'C00', 1346: 'S54', 1347: 'Q66', 1348: 'W50', 1349: 'A80', 1350: 'Z56', 1351: 'Z29', 1352: 'P83', 1353: 'L51', 1354: 'N75', 1355: 'D02', 1356: 'F21', 1357: 'R92', 1358: 'X19', 1359: '10_0', 1360: '135_3', 1361: '149_1', 1362: '145_1', 1363: '107_3', 1364: '170_2', 1365: '112_2', 1366: '141_1', 1367: '93_2', 1368: '212_3', 1369: '159_1', 1370: '109_2', 1371: '160_3', 1372: '110_3', 1373: '110_0', 1374: '119_2', 1375: '158_0', 1376: '123_3', 1377: '84_1', 1378: '130_2', 1379: '95_2', 1380: '2_2', 1381: '135_2', 1382: '2_0', 1383: '108_3', 1384: '184_3', 1385: '163_2', 1386: 'dyn_198', 1387: '105_3', 1388: '101_2', 1389: '144_1', 1390: '130_0', 1391: '92_0', 1392: '5_0', 1393: '79_3', 1394: '109_3', 1395: '107_2', 1396: '93_1', 1397: '150_2', 1398: '109_1', 1399: '121_3', 1400: '101_3', 1401: '89_2', 1402: '233_0', 1403: '99_3', 1404: '12_3', 1405: '105_0', 1406: '148_2', 1407: '97_0', 1408: 'dyn_38', 1409: '147_0', 1410: '167_1', 1411: 'dyn_199', 1412: '4_0', 1413: '149_0', 1414: '154_1', 1415: '3_1', 1416: '144_2', 1417: 'dyn_134', 1418: '157_1', 1419: '113_2', 1420: '110_1', 1421: '89_1', 1422: '164_3', 1423: '152_1', 1424: '100_0', 1425: '155_1', 1426: '141_3', 1427: '189_3', 1428: '123_2', 1429: '108_2', 1430: '103_2', 1431: '80_0', 1432: '91_0', 1433: '131_0', 1434: '145_0', 1435: '97_3', 1436: '121_0', 1437: '209_2', 1438: '156_1', 1439: '130_1', 1440: '125_2', 1441: '78_1', 1442: '137_1', 1443: '103_0', 1444: '96_0', 1445: '81_2', 1446: '123_0', 1447: '13_3', 1448: '78_3', 1449: '189_1', 1450: '85_2', 1451: '82_2', 1452: '144_0', 1453: '119_1', 1454: '0_1', 1455: '13_2', 1456: '192_0', 1457: '130_3', 1458: '94_1', 1459: '100_1', 1460: '137_2', 1461: '0_0', 1462: '153_1', 1463: '132_1', 1464: '153_0', 1465: '88_2', 1466: '117_0', 1467: '105_2', 1468: '137_0', 1469: '209_0', 1470: '233_3', 1471: '78_0', 1472: '97_1', 1473: '157_0', 1474: '89_3', 1475: '80_2', 1476: '153_3', 1477: '160_0', 1478: '80_3', 1479: '79_1', 1480: '154_0', 1481: '85_1', 1482: '149_2', 1483: '12_2', 1484: '148_1', 1485: '132_0', 1486: '190_3', 1487: '104_0', 1488: '6_1', 1489: '98_1', 1490: '190_1', 1491: '22_2', 1492: '103_1', 1493: '138_1', 1494: '92_2', 1495: '156_0', 1496: '120_3', 1497: '27_1', 1498: '97_2', 1499: '107_0', 1500: '208_1', 1501: '211_2', 1502: '104_3', 1503: '33_1', 1504: '124_0', 1505: 'dyn_196', 1506: '104_1', 1507: '164_2', 1508: '121_1', 1509: '92_3', 1510: 'dyn_143', 1511: '127_2', 1512: '188_2', 1513: '27_2', 1514: '88_0', 1515: '5_3', 1516: '211_3', 1517: '5_2', 1518: '184_0', 1519: '208_0', 1520: '192_2', 1521: '209_3', 1522: 'dyn_186', 1523: '111_0', 1524: '13_0', 1525: '128_1', 1526: '160_1', 1527: '98_3', 1528: '116_1', 1529: '122_1', 1530: '125_3', 1531: '163_0', 1532: '1_1', 1533: '2_1', 1534: '212_2', 1535: '33_0', 1536: '1_3', 1537: '116_2', 1538: '80_1', 1539: '96_2', 1540: '132_3', 1541: '91_3', 1542: '155_2', 1543: '3_2', 1544: '131_3', 1545: 'dyn_165', 1546: '3_3', 1547: '124_3', 1548: '12_1', 1549: '104_2', 1550: '188_3', 1551: '115_0', 1552: '163_3', 1553: '91_2', 1554: '158_3', 1555: '161_1', 1556: '84_2', 1557: '100_2', 1558: '158_2', 1559: '212_1', 1560: '139_2', 1561: '135_1', 1562: '27_0', 1563: '140_0', 1564: '146_3', 1565: '120_2', 1566: '79_0', 1567: '162_3', 1568: 'dyn_185', 1569: '126_2', 1570: '106_0', 1571: 'dyn_178', 1572: '141_2', 1573: '0_3', 1574: '95_1', 1575: '136_2', 1576: '1_2', 1577: '6_0', 1578: '119_0', 1579: '213_3', 1580: '78_2', 1581: '126_0', 1582: '106_3', 1583: '163_1', 1584: '131_1', 1585: '96_3', 1586: '12_0', 1587: '111_1', 1588: '138_0', 1589: '112_3', 1590: '110_2', 1591: '192_3', 1592: '139_0', 1593: '116_0', 1594: '111_3', 1595: '117_2', 1596: '132_2', 1597: '162_1', 1598: '98_2', 1599: '94_0', 1600: '87_1', 1601: '82_1', 1602: '10_2', 1603: '189_2', 1604: '100_3', 1605: '140_2', 1606: '154_3', 1607: '146_1', 1608: '122_3', 1609: '131_2', 1610: '164_1', 1611: '101_0', 1612: '82_3', 1613: '81_0', 1614: '86_2', 1615: '125_1', 1616: 'dyn_142', 1617: '159_2', 1618: '126_3', 1619: '149_3', 1620: '84_0', 1621: '161_0', 1622: '101_1', 1623: '22_1', 1624: '153_2', 1625: 'dyn_187', 1626: '188_1', 1627: '162_2', 1628: '90_3', 1629: '87_0', 1630: '85_3', 1631: '139_3', 1632: '212_0', 1633: '146_2', 1634: '133_1', 1635: '127_1', 1636: '5_1', 1637: '137_3', 1638: '157_2', 1639: '161_2', 1640: '22_0', 1641: '83_0', 1642: 'dyn_31', 1643: '184_2', 1644: '87_3', 1645: '3_0', 1646: '208_2', 1647: '108_0', 1648: '141_0', 1649: '90_2', 1650: '148_0', 1651: '124_1', 1652: '147_1', 1653: '167_0', 1654: '157_3', 1655: '94_3', 1656: '107_1', 1657: '1_0', 1658: '2_3', 1659: '160_2', 1660: '13_1', 1661: '4_1', 1662: '192_1', 1663: '133_3', 1664: '213_1', 1665: '86_0', 1666: '86_3', 1667: 'dyn_214', 1668: '123_1', 1669: '10_1', 1670: '89_0', 1671: '155_0', 1672: '109_0', 1673: '98_0', 1674: '85_0', 1675: '113_1', 1676: '120_1', 1677: '112_0', 1678: '184_1', 1679: '95_0', 1680: '102_2', 1681: '108_1', 1682: '138_2', 1683: '116_3', 1684: '150_0', 1685: '159_3', 1686: '146_0', 1687: '121_2', 1688: '189_0', 1689: '133_0', 1690: '188_0', 1691: '91_1', 1692: '208_3', 1693: '120_0', 1694: '115_2', 1695: '103_3', 1696: '211_1', 1697: '106_2', 1698: '158_1', 1699: '147_2', 1700: '164_0', 1701: 'dyn_151', 1702: '211_0', 1703: '83_3', 1704: '145_2', 1705: '79_2', 1706: '102_1', 1707: '112_1', 1708: '106_1', 1709: '190_2', 1710: '144_3', 1711: '27_3', 1712: '161_3', 1713: '90_0', 1714: '122_2', 1715: '83_2', 1716: '83_1', 1717: '233_1', 1718: '127_0', 1719: '99_1', 1720: '156_2', 1721: '233_2', 1722: '127_3', 1723: '81_1', 1724: '99_0', 1725: 'dyn_114', 1726: '124_2', 1727: '115_1', 1728: '128_3', 1729: '95_3', 1730: '0_2', 1731: '122_0', 1732: '136_1', 1733: '156_3', 1734: '113_0', 1735: '81_3', 1736: '102_0', 1737: '190_0', 1738: '102_3', 1739: '117_1', 1740: '170_0', 1741: '105_1', 1742: '139_1', 1743: '140_1', 1744: '99_2', 1745: '209_1', 1746: '90_1', 1747: '136_0', 1748: '128_2', 1749: '152_0', 1750: '88_3', 1751: '82_0', 1752: '128_0', 1753: '159_0', 1754: '213_2', 1755: '87_2', 1756: '168_1', 1757: '168_0', 1758: '96_1', 1759: '154_2', 1760: '111_2', 1761: '135_0', 1762: '86_1', 1763: '148_3', 1764: '162_0', 1765: '133_2', 1766: '136_3', 1767: '93_3', 1768: '213_0', 1769: '170_3', 1770: '150_3', 1771: '94_2', 1772: '126_1', 1773: '118_0', 1774: '93_0', 1775: '125_0', 1776: '150_1', 1777: '88_1', 1778: '92_1', 1779: '170_1', 1780: 'UNK'}}\n",
      "STARTING TOKENIZATION.\n"
     ]
    },
    {
     "name": "stderr",
     "output_type": "stream",
     "text": [
      "100%|██████████| 10/10 [00:01<00:00,  7.65it/s]\n"
     ]
    },
    {
     "name": "stdout",
     "output_type": "stream",
     "text": [
      "FINISHED TOKENIZATION. \n",
      "\n",
      "10 10 10\n",
      "FINAL COHORT STATISTICS: \n",
      "2 Positive samples.\n",
      "8 Negative samples.\n",
      "\n",
      "9 Female samples.\n",
      "1 Male samples.\n",
      "\n",
      "3 BLACK/AFRICAN AMERICAN samples.\n",
      "6 WHITE samples.\n",
      "1 UNKNOWN samples.\n",
      "0 BLACK/CAPE VERDEAN samples.\n",
      "0 WHITE - BRAZILIAN samples.\n",
      "0 BLACK/AFRICAN samples.\n",
      "0 HISPANIC OR LATINO samples.\n",
      "0 OTHER samples.\n",
      "0 UNABLE TO OBTAIN samples.\n",
      "0 HISPANIC/LATINO - SALVADORAN samples.\n",
      "0 WHITE - OTHER EUROPEAN samples.\n",
      "0 BLACK/CARIBBEAN ISLAND samples.\n",
      "0 ASIAN samples.\n",
      "0 HISPANIC/LATINO - DOMINICAN samples.\n",
      "0 HISPANIC/LATINO - PUERTO RICAN samples.\n",
      "0 WHITE - RUSSIAN samples.\n",
      "0 ASIAN - KOREAN samples.\n",
      "0 ASIAN - CHINESE samples.\n",
      "0 PATIENT DECLINED TO ANSWER samples.\n",
      "0 WHITE - EASTERN EUROPEAN samples.\n",
      "0 ASIAN - ASIAN INDIAN samples.\n",
      "0 ASIAN - SOUTH EAST ASIAN samples.\n",
      "0 NATIVE HAWAIIAN OR OTHER PACIFIC ISLANDER samples.\n",
      "0 AMERICAN INDIAN/ALASKA NATIVE samples.\n",
      "0 HISPANIC/LATINO - CENTRAL AMERICAN samples.\n",
      "0 PORTUGUESE samples.\n",
      "0 HISPANIC/LATINO - GUATEMALAN samples.\n",
      "0 HISPANIC/LATINO - HONDURAN samples.\n",
      "0 HISPANIC/LATINO - CUBAN samples.\n",
      "0 SOUTH AMERICAN samples.\n",
      "0 MULTIPLE RACE/ETHNICITY samples.\n",
      "0 HISPANIC/LATINO - COLUMBIAN samples.\n",
      "0 HISPANIC/LATINO - MEXICAN samples.\n",
      "\n",
      "\n",
      "8 Medicare samples.\n",
      "2 Other samples.\n",
      "0 Medicaid samples.\n"
     ]
    }
   ],
   "source": [
    "data_icu=True\n",
    "data_mort=True\n",
    "data_admn=False\n",
    "data_los=False\n",
    "diag_flag=True\n",
    "chart_flag=True\n",
    "med_flag=True\n",
    "proc_flag,out_flag = False, False\n",
    "if data_icu:\n",
    "    token=tokenizer2.BEHRT_models(data_icu,diag_flag,proc_flag,out_flag,chart_flag,med_flag,False)\n",
    "    tokenized_src, tokenized_age, tokenized_gender, tokenized_ethni, tokenized_ins, tokenized_labels, labs, meds, meds_labels, n_meds =token.tokenize()\n",
    "\n",
    "    #tokenized_src, tokenized_age, tokenized_gender, tokenized_ethni, tokenized_ins, tokenized_labels=token.tokenize()\n",
    "else:\n",
    "    token=tokenizer2.BEHRT_models(data_icu,diag_flag,proc_flag,False,False,med_flag,lab_flag)\n",
    "    tokenized_src, tokenized_age, tokenized_gender, tokenized_ethni, tokenized_ins, tokenized_labels=token.tokenize()\n",
    "    \n",
    "##Save tokens: TO DO "
   ]
  },
  {
   "cell_type": "code",
   "execution_count": 37,
   "id": "16d86c42",
   "metadata": {},
   "outputs": [
    {
     "name": "stdout",
     "output_type": "stream",
     "text": [
      "291\n"
     ]
    }
   ],
   "source": [
    "names = ['tokenized_src', 'tokenized_age', 'tokenized_gender', 'tokenized_ethni', 'tokenized_ins', 'tokenized_labels', 'labs', 'meds']\n",
    "print(n_meds)\n",
    "all_df = [tokenized_src, tokenized_age, tokenized_gender, tokenized_ethni, tokenized_ins, tokenized_labels, labs, meds]\n"
   ]
  },
  {
   "cell_type": "code",
   "execution_count": 38,
   "id": "4a65c37d",
   "metadata": {},
   "outputs": [
    {
     "name": "stdout",
     "output_type": "stream",
     "text": [
      "tokenized_src\n",
      "tokenized_age\n",
      "tokenized_gender\n",
      "tokenized_ethni\n",
      "tokenized_ins\n",
      "tokenized_labels\n",
      "labs\n",
      "meds\n"
     ]
    }
   ],
   "source": [
    "#compression_opts = dict(method='zip',\n",
    "#                        archive_name='out.csv')  \n",
    "data2_dir = '/datasets/MIMIC-IV/'\n",
    "for i in range(len(all_df)):\n",
    "    df = all_df[i]\n",
    "    print(names[i])\n",
    "    df.to_csv(data2_dir + 'data/token/'+names[i]+'_all.csv')\n",
    "          #compression=compression_opts)  "
   ]
  },
  {
   "cell_type": "code",
   "execution_count": 39,
   "id": "17076de7",
   "metadata": {},
   "outputs": [],
   "source": [
    "np.save(data2_dir + 'data/token/'+'meds_labels_all.npy', np.array(meds_labels, dtype=object), allow_pickle=True)"
   ]
  },
  {
   "cell_type": "markdown",
   "id": "6fcbb21a",
   "metadata": {},
   "source": [
    "### Bert training"
   ]
  },
  {
   "cell_type": "code",
   "execution_count": 5,
   "id": "0c21eff6",
   "metadata": {},
   "outputs": [],
   "source": [
    "data2_dir = '/datasets/MIMIC-IV/'\n",
    "n_meds = 270 #291 for all data \n",
    "names = ['tokenized_src', 'tokenized_age', 'tokenized_gender', 'tokenized_ethni', 'tokenized_ins', 'tokenized_labels', 'labs', 'meds']\n",
    "med_label = np.load(data2_dir + 'data/token/'+'meds_labels_5000.npy', allow_pickle=True)\n",
    "all_df = []\n",
    "for i in range(len(names)):\n",
    "    df = pd.read_csv(data2_dir + 'data/token/'+names[i]+'_5000.csv',index_col=0)\n",
    "    all_df.append(df)\n",
    "tokenized_src, tokenized_age, tokenized_gender, tokenized_ethni, tokenized_ins, tokenized_labels, labs, meds = all_df    \n"
   ]
  },
  {
   "cell_type": "code",
   "execution_count": 14,
   "id": "2cb71c6c",
   "metadata": {},
   "outputs": [
    {
     "data": {
      "text/plain": [
       "512"
      ]
     },
     "execution_count": 14,
     "metadata": {},
     "output_type": "execute_result"
    }
   ],
   "source": [
    "(2**9)"
   ]
  },
  {
   "cell_type": "code",
   "execution_count": 7,
   "id": "de49f4db",
   "metadata": {},
   "outputs": [
    {
     "name": "stderr",
     "output_type": "stream",
     "text": [
      "[autoreload of behrt_model failed: Traceback (most recent call last):\n",
      "  File \"/fs01/home/tinbeh/mimic/lib/python3.6/site-packages/IPython/extensions/autoreload.py\", line 245, in check\n",
      "    superreload(m, reload, self.old_objects)\n",
      "  File \"/fs01/home/tinbeh/mimic/lib/python3.6/site-packages/IPython/extensions/autoreload.py\", line 410, in superreload\n",
      "    update_generic(old_obj, new_obj)\n",
      "  File \"/fs01/home/tinbeh/mimic/lib/python3.6/site-packages/IPython/extensions/autoreload.py\", line 347, in update_generic\n",
      "    update(a, b)\n",
      "  File \"/fs01/home/tinbeh/mimic/lib/python3.6/site-packages/IPython/extensions/autoreload.py\", line 302, in update_class\n",
      "    if update_generic(old_obj, new_obj): continue\n",
      "  File \"/fs01/home/tinbeh/mimic/lib/python3.6/site-packages/IPython/extensions/autoreload.py\", line 347, in update_generic\n",
      "    update(a, b)\n",
      "  File \"/fs01/home/tinbeh/mimic/lib/python3.6/site-packages/IPython/extensions/autoreload.py\", line 302, in update_class\n",
      "    if update_generic(old_obj, new_obj): continue\n",
      "  File \"/fs01/home/tinbeh/mimic/lib/python3.6/site-packages/IPython/extensions/autoreload.py\", line 347, in update_generic\n",
      "    update(a, b)\n",
      "  File \"/fs01/home/tinbeh/mimic/lib/python3.6/site-packages/IPython/extensions/autoreload.py\", line 302, in update_class\n",
      "    if update_generic(old_obj, new_obj): continue\n",
      "  File \"/fs01/home/tinbeh/mimic/lib/python3.6/site-packages/IPython/extensions/autoreload.py\", line 347, in update_generic\n",
      "    update(a, b)\n",
      "  File \"/fs01/home/tinbeh/mimic/lib/python3.6/site-packages/IPython/extensions/autoreload.py\", line 302, in update_class\n",
      "    if update_generic(old_obj, new_obj): continue\n",
      "RecursionError: maximum recursion depth exceeded\n",
      "]\n"
     ]
    },
    {
     "ename": "TypeError",
     "evalue": "super(type, obj): obj must be an instance or subtype of type",
     "output_type": "error",
     "traceback": [
      "\u001b[0;31m---------------------------------------------------------------------------\u001b[0m",
      "\u001b[0;31mTypeError\u001b[0m                                 Traceback (most recent call last)",
      "\u001b[0;32m<ipython-input-7-69b154728fec>\u001b[0m in \u001b[0;36m<module>\u001b[0;34m\u001b[0m\n\u001b[0;32m----> 1\u001b[0;31m \u001b[0mbert_model\u001b[0m \u001b[0;34m=\u001b[0m \u001b[0mbehrt_train\u001b[0m\u001b[0;34m.\u001b[0m\u001b[0mtrain_behrt\u001b[0m\u001b[0;34m(\u001b[0m\u001b[0mtokenized_src\u001b[0m\u001b[0;34m,\u001b[0m \u001b[0mtokenized_age\u001b[0m\u001b[0;34m,\u001b[0m \u001b[0mtokenized_gender\u001b[0m\u001b[0;34m,\u001b[0m \u001b[0mtokenized_ethni\u001b[0m\u001b[0;34m,\u001b[0m \u001b[0mtokenized_ins\u001b[0m\u001b[0;34m,\u001b[0m \u001b[0mtokenized_labels\u001b[0m\u001b[0;34m)\u001b[0m\u001b[0;34m\u001b[0m\u001b[0;34m\u001b[0m\u001b[0m\n\u001b[0m",
      "\u001b[0;32m/fs01/home/tinbeh/los-prediction/pipeline/model/behrt_train.py\u001b[0m in \u001b[0;36m__init__\u001b[0;34m(self, src, age, sex, ethni, ins, target_data, labs, meds, meds_labels, n_meds)\u001b[0m\n\u001b[1;32m    122\u001b[0m         \u001b[0mtest_data\u001b[0m \u001b[0;34m=\u001b[0m \u001b[0;34m{\u001b[0m\u001b[0;34m\"code\"\u001b[0m\u001b[0;34m:\u001b[0m\u001b[0mtest_code\u001b[0m\u001b[0;34m,\u001b[0m \u001b[0;34m\"age\"\u001b[0m\u001b[0;34m:\u001b[0m\u001b[0mtest_age\u001b[0m\u001b[0;34m,\u001b[0m \u001b[0;34m\"labels\"\u001b[0m\u001b[0;34m:\u001b[0m\u001b[0mtest_labels\u001b[0m\u001b[0;34m,\u001b[0m \u001b[0;34m\"gender\"\u001b[0m \u001b[0;34m:\u001b[0m \u001b[0mtest_gender\u001b[0m\u001b[0;34m,\u001b[0m \u001b[0;34m\"ethni\"\u001b[0m \u001b[0;34m:\u001b[0m \u001b[0mtest_ethni\u001b[0m\u001b[0;34m,\u001b[0m \u001b[0;34m\"ins\"\u001b[0m \u001b[0;34m:\u001b[0m \u001b[0mtest_ins\u001b[0m\u001b[0;34m}\u001b[0m\u001b[0;34m\u001b[0m\u001b[0;34m\u001b[0m\u001b[0m\n\u001b[1;32m    123\u001b[0m \u001b[0;34m\u001b[0m\u001b[0m\n\u001b[0;32m--> 124\u001b[0;31m         \u001b[0mconf\u001b[0m \u001b[0;34m=\u001b[0m \u001b[0mBertConfig\u001b[0m\u001b[0;34m(\u001b[0m\u001b[0mmodel_config\u001b[0m\u001b[0;34m)\u001b[0m\u001b[0;34m\u001b[0m\u001b[0;34m\u001b[0m\u001b[0m\n\u001b[0m\u001b[1;32m    125\u001b[0m         \u001b[0mbehrt\u001b[0m \u001b[0;34m=\u001b[0m \u001b[0mBertForEHRPrediction\u001b[0m\u001b[0;34m(\u001b[0m\u001b[0mconf\u001b[0m\u001b[0;34m,\u001b[0m \u001b[0mmodel_config\u001b[0m\u001b[0;34m[\u001b[0m\u001b[0;34m'number_output'\u001b[0m\u001b[0;34m]\u001b[0m\u001b[0;34m)\u001b[0m\u001b[0;34m\u001b[0m\u001b[0;34m\u001b[0m\u001b[0m\n\u001b[1;32m    126\u001b[0m \u001b[0;34m\u001b[0m\u001b[0m\n",
      "\u001b[0;32m/fs01/home/tinbeh/los-prediction/pipeline/model/behrt_model.py\u001b[0m in \u001b[0;36m__init__\u001b[0;34m(self, config)\u001b[0m\n\u001b[1;32m    164\u001b[0m \u001b[0;32mclass\u001b[0m \u001b[0mBertConfig\u001b[0m\u001b[0;34m(\u001b[0m\u001b[0mBert\u001b[0m\u001b[0;34m.\u001b[0m\u001b[0mmodeling\u001b[0m\u001b[0;34m.\u001b[0m\u001b[0mBertConfig\u001b[0m\u001b[0;34m)\u001b[0m\u001b[0;34m:\u001b[0m\u001b[0;34m\u001b[0m\u001b[0;34m\u001b[0m\u001b[0m\n\u001b[1;32m    165\u001b[0m     \u001b[0;32mdef\u001b[0m \u001b[0m__init__\u001b[0m\u001b[0;34m(\u001b[0m\u001b[0mself\u001b[0m\u001b[0;34m,\u001b[0m \u001b[0mconfig\u001b[0m\u001b[0;34m)\u001b[0m\u001b[0;34m:\u001b[0m\u001b[0;34m\u001b[0m\u001b[0;34m\u001b[0m\u001b[0m\n\u001b[0;32m--> 166\u001b[0;31m         super(BertConfig, self).__init__(\n\u001b[0m\u001b[1;32m    167\u001b[0m             \u001b[0mvocab_size_or_config_json_file\u001b[0m\u001b[0;34m=\u001b[0m\u001b[0mconfig\u001b[0m\u001b[0;34m.\u001b[0m\u001b[0mget\u001b[0m\u001b[0;34m(\u001b[0m\u001b[0;34m'vocab_size'\u001b[0m\u001b[0;34m)\u001b[0m\u001b[0;34m,\u001b[0m\u001b[0;34m\u001b[0m\u001b[0;34m\u001b[0m\u001b[0m\n\u001b[1;32m    168\u001b[0m             \u001b[0mhidden_size\u001b[0m\u001b[0;34m=\u001b[0m\u001b[0mconfig\u001b[0m\u001b[0;34m[\u001b[0m\u001b[0;34m'hidden_size'\u001b[0m\u001b[0;34m]\u001b[0m\u001b[0;34m,\u001b[0m\u001b[0;34m\u001b[0m\u001b[0;34m\u001b[0m\u001b[0m\n",
      "\u001b[0;31mTypeError\u001b[0m: super(type, obj): obj must be an instance or subtype of type"
     ]
    }
   ],
   "source": [
    "bert_model = behrt_train.train_behrt(tokenized_src, tokenized_age, tokenized_gender, tokenized_ethni, tokenized_ins, tokenized_labels)\n"
   ]
  },
  {
   "cell_type": "code",
   "execution_count": 14,
   "id": "961f7d08",
   "metadata": {},
   "outputs": [
    {
     "name": "stdout",
     "output_type": "stream",
     "text": [
      "epoch:  0\n"
     ]
    },
    {
     "name": "stderr",
     "output_type": "stream",
     "text": [
      "[autoreload of behrt_model failed: Traceback (most recent call last):\n",
      "  File \"/fs01/home/tinbeh/mimic/lib/python3.6/site-packages/IPython/extensions/autoreload.py\", line 245, in check\n",
      "    superreload(m, reload, self.old_objects)\n",
      "  File \"/fs01/home/tinbeh/mimic/lib/python3.6/site-packages/IPython/extensions/autoreload.py\", line 410, in superreload\n",
      "    update_generic(old_obj, new_obj)\n",
      "  File \"/fs01/home/tinbeh/mimic/lib/python3.6/site-packages/IPython/extensions/autoreload.py\", line 347, in update_generic\n",
      "    update(a, b)\n",
      "  File \"/fs01/home/tinbeh/mimic/lib/python3.6/site-packages/IPython/extensions/autoreload.py\", line 302, in update_class\n",
      "    if update_generic(old_obj, new_obj): continue\n",
      "  File \"/fs01/home/tinbeh/mimic/lib/python3.6/site-packages/IPython/extensions/autoreload.py\", line 347, in update_generic\n",
      "    update(a, b)\n",
      "  File \"/fs01/home/tinbeh/mimic/lib/python3.6/site-packages/IPython/extensions/autoreload.py\", line 302, in update_class\n",
      "    if update_generic(old_obj, new_obj): continue\n",
      "  File \"/fs01/home/tinbeh/mimic/lib/python3.6/site-packages/IPython/extensions/autoreload.py\", line 347, in update_generic\n",
      "    update(a, b)\n",
      "  File \"/fs01/home/tinbeh/mimic/lib/python3.6/site-packages/IPython/extensions/autoreload.py\", line 302, in update_class\n",
      "    if update_generic(old_obj, new_obj): continue\n",
      "  File \"/fs01/home/tinbeh/mimic/lib/python3.6/site-packages/IPython/extensions/autoreload.py\", line 347, in update_generic\n",
      "    update(a, b)\n",
      "  File \"/fs01/home/tinbeh/mimic/lib/python3.6/site-packages/IPython/extensions/autoreload.py\", line 302, in update_class\n",
      "    if update_generic(old_obj, new_obj): continue\n",
      "RecursionError: maximum recursion depth exceeded\n",
      "]\n"
     ]
    },
    {
     "ename": "RuntimeError",
     "evalue": "CUDA error: device-side assert triggered",
     "output_type": "error",
     "traceback": [
      "\u001b[0;31m---------------------------------------------------------------------------\u001b[0m",
      "\u001b[0;31mRuntimeError\u001b[0m                              Traceback (most recent call last)",
      "\u001b[0;32m<ipython-input-14-c0fe00553e9a>\u001b[0m in \u001b[0;36m<module>\u001b[0;34m\u001b[0m\n\u001b[0;32m----> 1\u001b[0;31m \u001b[0mbert_model\u001b[0m\u001b[0;34m.\u001b[0m\u001b[0mtraining_phase\u001b[0m\u001b[0;34m(\u001b[0m\u001b[0;34m)\u001b[0m\u001b[0;34m\u001b[0m\u001b[0;34m\u001b[0m\u001b[0m\n\u001b[0m",
      "\u001b[0;32m/fs01/home/tinbeh/MIMIC-IV-Data-Pipeline/model/behrt_train.py\u001b[0m in \u001b[0;36mtraining_phase\u001b[0;34m(self)\u001b[0m\n\u001b[1;32m    146\u001b[0m     \u001b[0;32mdef\u001b[0m \u001b[0mtraining_phase\u001b[0m\u001b[0;34m(\u001b[0m\u001b[0mself\u001b[0m\u001b[0;34m)\u001b[0m\u001b[0;34m:\u001b[0m\u001b[0;34m\u001b[0m\u001b[0;34m\u001b[0m\u001b[0m\n\u001b[1;32m    147\u001b[0m \u001b[0;34m\u001b[0m\u001b[0m\n\u001b[0;32m--> 148\u001b[0;31m         \u001b[0mtrain_loss\u001b[0m\u001b[0;34m,\u001b[0m \u001b[0mval_loss\u001b[0m \u001b[0;34m=\u001b[0m \u001b[0mself\u001b[0m\u001b[0;34m.\u001b[0m\u001b[0mtrain\u001b[0m\u001b[0;34m(\u001b[0m\u001b[0mself\u001b[0m\u001b[0;34m.\u001b[0m\u001b[0mtrainload\u001b[0m\u001b[0;34m,\u001b[0m \u001b[0mself\u001b[0m\u001b[0;34m.\u001b[0m\u001b[0mvalload\u001b[0m\u001b[0;34m,\u001b[0m \u001b[0mself\u001b[0m\u001b[0;34m.\u001b[0m\u001b[0mtrain_params\u001b[0m\u001b[0;34m)\u001b[0m\u001b[0;34m\u001b[0m\u001b[0;34m\u001b[0m\u001b[0m\n\u001b[0m\u001b[1;32m    149\u001b[0m \u001b[0;34m\u001b[0m\u001b[0m\n\u001b[1;32m    150\u001b[0m         \u001b[0mself\u001b[0m\u001b[0;34m.\u001b[0m\u001b[0mbehrt\u001b[0m\u001b[0;34m.\u001b[0m\u001b[0mload_state_dict\u001b[0m\u001b[0;34m(\u001b[0m\u001b[0mtorch\u001b[0m\u001b[0;34m.\u001b[0m\u001b[0mload\u001b[0m\u001b[0;34m(\u001b[0m\u001b[0;34m\"./saved_models/checkpoint/behrt\"\u001b[0m\u001b[0;34m,\u001b[0m \u001b[0mmap_location\u001b[0m\u001b[0;34m=\u001b[0m\u001b[0mself\u001b[0m\u001b[0;34m.\u001b[0m\u001b[0mtrain_params\u001b[0m\u001b[0;34m[\u001b[0m\u001b[0;34m'device'\u001b[0m\u001b[0;34m]\u001b[0m\u001b[0;34m)\u001b[0m\u001b[0;34m)\u001b[0m\u001b[0;34m\u001b[0m\u001b[0;34m\u001b[0m\u001b[0m\n",
      "\u001b[0;32m/fs01/home/tinbeh/MIMIC-IV-Data-Pipeline/model/behrt_train.py\u001b[0m in \u001b[0;36mtrain\u001b[0;34m(self, trainload, valload, train_params)\u001b[0m\n\u001b[1;32m    214\u001b[0m         \u001b[0;32mfor\u001b[0m \u001b[0me\u001b[0m \u001b[0;32min\u001b[0m \u001b[0mrange\u001b[0m\u001b[0;34m(\u001b[0m\u001b[0mtrain_params\u001b[0m\u001b[0;34m[\u001b[0m\u001b[0;34m\"epochs\"\u001b[0m\u001b[0;34m]\u001b[0m\u001b[0;34m)\u001b[0m\u001b[0;34m:\u001b[0m\u001b[0;34m\u001b[0m\u001b[0;34m\u001b[0m\u001b[0m\n\u001b[1;32m    215\u001b[0m             \u001b[0mprint\u001b[0m\u001b[0;34m(\u001b[0m\u001b[0;34m'epoch: '\u001b[0m\u001b[0;34m,\u001b[0m \u001b[0me\u001b[0m\u001b[0;34m)\u001b[0m\u001b[0;34m\u001b[0m\u001b[0;34m\u001b[0m\u001b[0m\n\u001b[0;32m--> 216\u001b[0;31m             \u001b[0mtrain_loss\u001b[0m\u001b[0;34m,\u001b[0m \u001b[0mtrain_time_cost\u001b[0m\u001b[0;34m,\u001b[0m \u001b[0mloss_cls\u001b[0m\u001b[0;34m,\u001b[0m \u001b[0mloss_dab\u001b[0m \u001b[0;34m=\u001b[0m \u001b[0mself\u001b[0m\u001b[0;34m.\u001b[0m\u001b[0mrun_epoch\u001b[0m\u001b[0;34m(\u001b[0m\u001b[0me\u001b[0m\u001b[0;34m,\u001b[0m \u001b[0mtrainload\u001b[0m\u001b[0;34m,\u001b[0m \u001b[0mtrain_params\u001b[0m\u001b[0;34m[\u001b[0m\u001b[0;34m'device'\u001b[0m\u001b[0;34m]\u001b[0m\u001b[0;34m)\u001b[0m\u001b[0;34m\u001b[0m\u001b[0;34m\u001b[0m\u001b[0m\n\u001b[0m\u001b[1;32m    217\u001b[0m             \u001b[0mprint\u001b[0m\u001b[0;34m(\u001b[0m\u001b[0;34m'Finished train'\u001b[0m\u001b[0;34m)\u001b[0m\u001b[0;34m\u001b[0m\u001b[0;34m\u001b[0m\u001b[0m\n\u001b[1;32m    218\u001b[0m             \u001b[0mval_loss\u001b[0m\u001b[0;34m,\u001b[0m \u001b[0mval_time_cost\u001b[0m\u001b[0;34m,\u001b[0m \u001b[0mpred\u001b[0m\u001b[0;34m,\u001b[0m \u001b[0mlabel\u001b[0m \u001b[0;34m=\u001b[0m \u001b[0mself\u001b[0m\u001b[0;34m.\u001b[0m\u001b[0meval\u001b[0m\u001b[0;34m(\u001b[0m\u001b[0mvalload\u001b[0m\u001b[0;34m,\u001b[0m \u001b[0;32mFalse\u001b[0m\u001b[0;34m,\u001b[0m \u001b[0mtrain_params\u001b[0m\u001b[0;34m[\u001b[0m\u001b[0;34m'device'\u001b[0m\u001b[0;34m]\u001b[0m\u001b[0;34m)\u001b[0m\u001b[0;34m\u001b[0m\u001b[0;34m\u001b[0m\u001b[0m\n",
      "\u001b[0;32m/fs01/home/tinbeh/MIMIC-IV-Data-Pipeline/model/behrt_train.py\u001b[0m in \u001b[0;36mrun_epoch\u001b[0;34m(self, e, trainload, device)\u001b[0m\n\u001b[1;32m    185\u001b[0m             \u001b[0minput_ids\u001b[0m\u001b[0;34m,\u001b[0m \u001b[0mage_ids\u001b[0m\u001b[0;34m,\u001b[0m \u001b[0mgender_ids\u001b[0m\u001b[0;34m,\u001b[0m \u001b[0methni_ids\u001b[0m\u001b[0;34m,\u001b[0m \u001b[0mins_ids\u001b[0m\u001b[0;34m,\u001b[0m \u001b[0msegment_ids\u001b[0m\u001b[0;34m,\u001b[0m \u001b[0mposi_ids\u001b[0m\u001b[0;34m,\u001b[0m \u001b[0mattMask\u001b[0m\u001b[0;34m,\u001b[0m \u001b[0mlabels\u001b[0m \u001b[0;34m=\u001b[0m \u001b[0mbatch\u001b[0m\u001b[0;34m\u001b[0m\u001b[0;34m\u001b[0m\u001b[0m\n\u001b[1;32m    186\u001b[0m \u001b[0;34m\u001b[0m\u001b[0m\n\u001b[0;32m--> 187\u001b[0;31m             \u001b[0minput_ids\u001b[0m \u001b[0;34m=\u001b[0m \u001b[0minput_ids\u001b[0m\u001b[0;34m.\u001b[0m\u001b[0mto\u001b[0m\u001b[0;34m(\u001b[0m\u001b[0mdevice\u001b[0m\u001b[0;34m)\u001b[0m\u001b[0;34m\u001b[0m\u001b[0;34m\u001b[0m\u001b[0m\n\u001b[0m\u001b[1;32m    188\u001b[0m             \u001b[0mage_ids\u001b[0m \u001b[0;34m=\u001b[0m \u001b[0mage_ids\u001b[0m\u001b[0;34m.\u001b[0m\u001b[0mto\u001b[0m\u001b[0;34m(\u001b[0m\u001b[0mdevice\u001b[0m\u001b[0;34m)\u001b[0m\u001b[0;34m\u001b[0m\u001b[0;34m\u001b[0m\u001b[0m\n\u001b[1;32m    189\u001b[0m             \u001b[0mgender_ids\u001b[0m \u001b[0;34m=\u001b[0m \u001b[0mgender_ids\u001b[0m\u001b[0;34m.\u001b[0m\u001b[0mto\u001b[0m\u001b[0;34m(\u001b[0m\u001b[0mdevice\u001b[0m\u001b[0;34m)\u001b[0m\u001b[0;34m\u001b[0m\u001b[0;34m\u001b[0m\u001b[0m\n",
      "\u001b[0;31mRuntimeError\u001b[0m: CUDA error: device-side assert triggered"
     ]
    }
   ],
   "source": [
    "bert_model.training_phase()"
   ]
  },
  {
   "cell_type": "markdown",
   "id": "reserved-objective",
   "metadata": {},
   "source": [
    "### EVALUATION AS STANDALONE MODULE\n",
    "Below cell shows an exaple of how evaluation module can be used as a standalone module.\n",
    "\n",
    "evaluation.Loss class can be instantiated and model output and ground truth can be passed to it to obtain results.\n",
    "\n",
    "In the example below we captured model output and ground truth in a file and used that file to read the data.\n",
    "\n",
    "In function definition ***loss(prob,truth,logits,False)***\n",
    "\n",
    "prob -> List of Output predicted probabilities of case being positive\n",
    "\n",
    "truth -> List of ground truth labels\n",
    "\n",
    "logits -> List of logits obtained from last fully connected layer before applying softmax.sigmoid function in the model."
   ]
  },
  {
   "cell_type": "code",
   "execution_count": null,
   "id": "streaming-integration",
   "metadata": {},
   "outputs": [],
   "source": [
    "if torch.cuda.is_available():\n",
    "    device='cuda:0'\n",
    "#device='cpu'\n",
    "loss=evaluation.Loss(device,acc=True,ppv=True,sensi=True,tnr=True,npv=True,auroc=True,aurocPlot=True,auprc=True,auprcPlot=True,callb=True,callbPlot=True)\n",
    "with open(\"./data/output/outputDict\", 'rb') as fp:\n",
    "    outputDict=pickle.load(fp)\n",
    "prob=list(outputDict['Prob'])\n",
    "truth=list(outputDict['Labels'])\n",
    "logits=list(outputDict['Logits'])\n",
    "#print(torch.tensor(prob))\n",
    "print(\"======= TESTING ========\")\n",
    "loss(prob,truth,logits,train=False,standalone=True)\n"
   ]
  },
  {
   "cell_type": "markdown",
   "id": "designing-works",
   "metadata": {},
   "source": [
    "### 11. FAIRNESS EVALUATION\n",
    "In train and testing step we save output files in **./data/output/** folder.\n",
    "\n",
    "This file conatins list of demographic variables included in training and testing of the model.\n",
    "\n",
    "It also contains the ground truth labels and predicted probability for each sample.\n",
    "\n",
    "We use the above saved data to perform fairness evaluation of the results obtained from model testing.\n",
    "\n",
    "This module can be used as stand-alone module also.\n",
    "\n",
    "Please create a file that contains predicted probabilites form the last sigmoid layer in column named **Prob** and\n",
    "ground truth labels for each sample in column named **Labels**."
   ]
  },
  {
   "cell_type": "code",
   "execution_count": null,
   "id": "civilian-direction",
   "metadata": {},
   "outputs": [],
   "source": [
    "fairness.fairness_evaluation(inputFile='outputDict',outputFile='fairnessReport')"
   ]
  },
  {
   "cell_type": "markdown",
   "id": "efficient-distinction",
   "metadata": {},
   "source": [
    "### 12. MODEL CALLIBRATION\n",
    "\n",
    "Please run below cell if you want to callibrate predicted probabilites of the model on test data.\n",
    "It will use the output saved during the testing of the model.\n",
    "\n",
    "The file is saved in **./data/output/**.\n",
    "\n",
    "This module can be used as stand-alone module also.\n",
    "\n",
    "Please create a file that contain predicted logits form the last fully connected layer in column named **Logits** and <br>ground truth labels for each sample in a column named **Labels**."
   ]
  },
  {
   "cell_type": "code",
   "execution_count": null,
   "id": "secure-flavor",
   "metadata": {},
   "outputs": [],
   "source": [
    "callibrate_output.callibrate(inputFile='outputDict',outputFile='callibratedResults')"
   ]
  },
  {
   "cell_type": "code",
   "execution_count": null,
   "id": "fleet-canyon",
   "metadata": {},
   "outputs": [],
   "source": []
  }
 ],
 "metadata": {
  "hide_input": false,
  "kernelspec": {
   "display_name": "mimic",
   "language": "python",
   "name": "mimic"
  },
  "language_info": {
   "codemirror_mode": {
    "name": "ipython",
    "version": 3
   },
   "file_extension": ".py",
   "mimetype": "text/x-python",
   "name": "python",
   "nbconvert_exporter": "python",
   "pygments_lexer": "ipython3",
   "version": "3.6.9"
  }
 },
 "nbformat": 4,
 "nbformat_minor": 5
}
